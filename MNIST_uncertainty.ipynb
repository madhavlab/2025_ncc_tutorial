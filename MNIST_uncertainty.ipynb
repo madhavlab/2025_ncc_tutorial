{
  "nbformat": 4,
  "nbformat_minor": 0,
  "metadata": {
    "colab": {
      "provenance": []
    },
    "kernelspec": {
      "name": "python3",
      "display_name": "Python 3"
    },
    "language_info": {
      "name": "python"
    }
  },
  "cells": [
    {
      "cell_type": "markdown",
      "source": [
        "<h1 align=\"center\">Uncertainty Estimation</h1>\n"
      ],
      "metadata": {
        "id": "GaVvUYbtVano"
      }
    },
    {
      "cell_type": "markdown",
      "source": [
        "## Load Packages"
      ],
      "metadata": {
        "id": "PMGxJGauVXm5"
      }
    },
    {
      "cell_type": "code",
      "execution_count": 1,
      "metadata": {
        "id": "-8ZUQxgF74Vy"
      },
      "outputs": [],
      "source": [
        "from tensorflow.keras.datasets import mnist\n",
        "import matplotlib.pyplot as plt\n",
        "import numpy as np\n",
        "from tensorflow.keras.utils import to_categorical\n",
        "import numpy as np\n",
        "import pandas as pd\n",
        "import random\n",
        "from sklearn.model_selection import train_test_split\n",
        "from sklearn.metrics import classification_report\n",
        "from tensorflow import keras\n",
        "from tensorflow.keras.models import Sequential\n",
        "from tensorflow.keras.layers import Dense, Flatten, Conv2D, Dropout, MaxPooling2D, BatchNormalization\n",
        "import tensorflow as tf"
      ]
    },
    {
      "cell_type": "markdown",
      "source": [
        "## Load MNIST and Pre-process\n",
        "- We load MNIST dataset for with lesser samples per class"
      ],
      "metadata": {
        "id": "dTW_3dBRDdVM"
      }
    },
    {
      "cell_type": "code",
      "source": [
        "\n",
        "# Load the MNIST dataset\n",
        "(x_train, y_train), (x_test, y_test) = mnist.load_data()\n",
        "\n",
        "# Create masks for filtering\n",
        "train_mask = (y_train >= 1) & (y_train <= 8)\n",
        "test_mask = (y_test >= 1) & (y_test <= 8)\n",
        "conf_mask_train = (y_train == 0) | (y_train == 9)\n",
        "conf_mask_test = (y_test == 0) | (y_test == 9)\n",
        "\n",
        "# Separate the datasets\n",
        "x_conf, y_conf = np.concatenate([x_train[conf_mask_train], x_test[conf_mask_test]]), np.concatenate([y_train[conf_mask_train], y_test[conf_mask_test]])\n",
        "x_train, y_train = x_train[train_mask], y_train[train_mask]\n",
        "x_test, y_test = x_test[test_mask], y_test[test_mask]\n",
        "\n",
        "# Limit dataset to 500 samples per class for training and 100 per class for testing\n",
        "selected_train_indices = np.hstack([np.random.choice(np.where(y_train == i)[0], 200, replace=False) for i in range(1, 9)])\n",
        "selected_test_indices = np.hstack([np.random.choice(np.where(y_test == i)[0], 50, replace=False) for i in range(1, 9)])\n",
        "selected_conf_indices = np.hstack([np.random.choice(np.where(y_conf == i)[0], 50, replace=False) for i in [0, 9]])\n",
        "\n",
        "x_train, y_train = x_train[selected_train_indices], y_train[selected_train_indices]\n",
        "x_test, y_test = x_test[selected_test_indices], y_test[selected_test_indices]\n",
        "x_conf, y_conf = x_conf[selected_conf_indices], y_conf[selected_conf_indices]\n",
        "\n",
        "# Reshape and normalize\n",
        "x_train = x_train.reshape(-1, 28, 28, 1).astype('float32') / 255.0\n",
        "x_test = x_test.reshape(-1, 28, 28, 1).astype('float32') / 255.0\n",
        "x_conf = x_conf.reshape(-1, 28, 28, 1).astype('float32') / 255.0\n",
        "\n",
        "# Convert labels to one-hot encoding\n",
        "y_train = to_categorical(y_train - 1, num_classes=8)\n",
        "y_test = to_categorical(y_test - 1, num_classes=8)\n",
        "y_conf = to_categorical((y_conf == 9).astype(int), num_classes=2)  # Convert 0 and 9 labels to binary class\n",
        "\n",
        "# Create Validation Split\n",
        "x_train, x_val, y_train, y_val = train_test_split(x_train, y_train, test_size=0.2, random_state=42)\n",
        "\n",
        "# Print shapes to verify\n",
        "print(f\"x_train shape: {x_train.shape}, y_train shape: {y_train.shape}\")\n",
        "print(f\"x_test shape: {x_test.shape}, y_test shape: {y_test.shape}\")\n",
        "print(f\"x_conf shape: {x_conf.shape}, y_conf shape: {y_conf.shape}\")\n",
        "print(f\"x_val shape: {x_val.shape}, y_val shape: {y_val.shape}\")\n"
      ],
      "metadata": {
        "colab": {
          "base_uri": "https://localhost:8080/"
        },
        "id": "6SnE-2lJC1t7",
        "outputId": "ff05a0ac-01d1-450c-e449-78cc6288cf7c"
      },
      "execution_count": 2,
      "outputs": [
        {
          "output_type": "stream",
          "name": "stdout",
          "text": [
            "Downloading data from https://storage.googleapis.com/tensorflow/tf-keras-datasets/mnist.npz\n",
            "\u001b[1m11490434/11490434\u001b[0m \u001b[32m━━━━━━━━━━━━━━━━━━━━\u001b[0m\u001b[37m\u001b[0m \u001b[1m0s\u001b[0m 0us/step\n",
            "x_train shape: (1280, 28, 28, 1), y_train shape: (1280, 8)\n",
            "x_test shape: (400, 28, 28, 1), y_test shape: (400, 8)\n",
            "x_conf shape: (100, 28, 28, 1), y_conf shape: (100, 2)\n",
            "x_val shape: (320, 28, 28, 1), y_val shape: (320, 8)\n"
          ]
        }
      ]
    },
    {
      "cell_type": "code",
      "source": [
        "NUM_EPOCHS = 30\n",
        "_, IMG_ROWS, IMG_COLS,_= x_train.shape\n",
        "num_classes=y_train.shape[1]\n",
        "num_classes"
      ],
      "metadata": {
        "id": "hUw60AlG9yt-",
        "colab": {
          "base_uri": "https://localhost:8080/"
        },
        "outputId": "ebd389ae-a7f3-4b27-edaf-cfcf18a509d8"
      },
      "execution_count": 3,
      "outputs": [
        {
          "output_type": "execute_result",
          "data": {
            "text/plain": [
              "8"
            ]
          },
          "metadata": {},
          "execution_count": 3
        }
      ]
    },
    {
      "cell_type": "code",
      "source": [
        "def make_model(shape, num_classes):\n",
        "    (temp, t, f, num) = shape\n",
        "    inputs = tf.keras.layers.Input(shape=(t, f, num))\n",
        "    x = tf.keras.layers.Conv2D(10, 3, strides=2, activation='relu', padding='same')(inputs)\n",
        "    x = tf.keras.layers.BatchNormalization()(x)\n",
        "    x = tf.keras.layers.MaxPooling2D(pool_size=(2, 2))(x)\n",
        "    x = tf.keras.layers.Dropout(0.1)(x)\n",
        "    x = tf.keras.layers.Flatten()(x)\n",
        "    x = tf.keras.layers.Dense(10, activation='relu')(x)\n",
        "    x = tf.keras.layers.Dropout(0.1)(x)\n",
        "    outputs = tf.keras.layers.Dense(num_classes, activation='softmax')(x)\n",
        "    model = tf.keras.Model(inputs=inputs, outputs=outputs)\n",
        "    return model\n",
        "\n",
        "model = make_model(x_train.shape, num_classes)"
      ],
      "metadata": {
        "id": "a3_UGbR0tltJ"
      },
      "execution_count": null,
      "outputs": []
    },
    {
      "cell_type": "code",
      "source": [
        "# Compile the model\n",
        "model.compile(loss = \"categorical_crossentropy\", optimizer=\"adam\", metrics=[\"accuracy\"])\n",
        "model.summary()"
      ],
      "metadata": {
        "id": "aYiKPr2a9xtx"
      },
      "execution_count": null,
      "outputs": []
    },
    {
      "cell_type": "code",
      "source": [
        "# from sklearn.utils import shuffle\n",
        "\n",
        "# x_train, y_train = shuffle(x_train, y_train)"
      ],
      "metadata": {
        "id": "dQqqy08y50Bc"
      },
      "execution_count": null,
      "outputs": []
    },
    {
      "cell_type": "code",
      "source": [
        "# Train the model\n",
        "history = model.fit(x_train, y_train,\n",
        "          batch_size=128,\n",
        "          epochs=NUM_EPOCHS,\n",
        "          verbose=1,\n",
        "          validation_data=(x_val, y_val))"
      ],
      "metadata": {
        "colab": {
          "base_uri": "https://localhost:8080/"
        },
        "id": "eij2UIon-MGs",
        "outputId": "4d701aa6-9abb-4d09-a65b-60777d28117b"
      },
      "execution_count": null,
      "outputs": [
        {
          "output_type": "stream",
          "name": "stdout",
          "text": [
            "Epoch 1/30\n",
            "\u001b[1m10/10\u001b[0m \u001b[32m━━━━━━━━━━━━━━━━━━━━\u001b[0m\u001b[37m\u001b[0m \u001b[1m2s\u001b[0m 38ms/step - accuracy: 0.1082 - loss: 2.4240 - val_accuracy: 0.2750 - val_loss: 2.0680\n",
            "Epoch 2/30\n",
            "\u001b[1m10/10\u001b[0m \u001b[32m━━━━━━━━━━━━━━━━━━━━\u001b[0m\u001b[37m\u001b[0m \u001b[1m0s\u001b[0m 16ms/step - accuracy: 0.2264 - loss: 1.9809 - val_accuracy: 0.3375 - val_loss: 2.0472\n",
            "Epoch 3/30\n",
            "\u001b[1m10/10\u001b[0m \u001b[32m━━━━━━━━━━━━━━━━━━━━\u001b[0m\u001b[37m\u001b[0m \u001b[1m0s\u001b[0m 17ms/step - accuracy: 0.2708 - loss: 1.8440 - val_accuracy: 0.3750 - val_loss: 2.0173\n",
            "Epoch 4/30\n",
            "\u001b[1m10/10\u001b[0m \u001b[32m━━━━━━━━━━━━━━━━━━━━\u001b[0m\u001b[37m\u001b[0m \u001b[1m0s\u001b[0m 16ms/step - accuracy: 0.2901 - loss: 1.7459 - val_accuracy: 0.4094 - val_loss: 1.9821\n",
            "Epoch 5/30\n",
            "\u001b[1m10/10\u001b[0m \u001b[32m━━━━━━━━━━━━━━━━━━━━\u001b[0m\u001b[37m\u001b[0m \u001b[1m0s\u001b[0m 17ms/step - accuracy: 0.3604 - loss: 1.6462 - val_accuracy: 0.4437 - val_loss: 1.9475\n",
            "Epoch 6/30\n",
            "\u001b[1m10/10\u001b[0m \u001b[32m━━━━━━━━━━━━━━━━━━━━\u001b[0m\u001b[37m\u001b[0m \u001b[1m0s\u001b[0m 18ms/step - accuracy: 0.4213 - loss: 1.4993 - val_accuracy: 0.4625 - val_loss: 1.9043\n",
            "Epoch 7/30\n",
            "\u001b[1m10/10\u001b[0m \u001b[32m━━━━━━━━━━━━━━━━━━━━\u001b[0m\u001b[37m\u001b[0m \u001b[1m0s\u001b[0m 16ms/step - accuracy: 0.4989 - loss: 1.3397 - val_accuracy: 0.4812 - val_loss: 1.8600\n",
            "Epoch 8/30\n",
            "\u001b[1m10/10\u001b[0m \u001b[32m━━━━━━━━━━━━━━━━━━━━\u001b[0m\u001b[37m\u001b[0m \u001b[1m0s\u001b[0m 17ms/step - accuracy: 0.5544 - loss: 1.2416 - val_accuracy: 0.5375 - val_loss: 1.8028\n",
            "Epoch 9/30\n",
            "\u001b[1m10/10\u001b[0m \u001b[32m━━━━━━━━━━━━━━━━━━━━\u001b[0m\u001b[37m\u001b[0m \u001b[1m0s\u001b[0m 16ms/step - accuracy: 0.5977 - loss: 1.1250 - val_accuracy: 0.5969 - val_loss: 1.7581\n",
            "Epoch 10/30\n",
            "\u001b[1m10/10\u001b[0m \u001b[32m━━━━━━━━━━━━━━━━━━━━\u001b[0m\u001b[37m\u001b[0m \u001b[1m0s\u001b[0m 17ms/step - accuracy: 0.6169 - loss: 1.0526 - val_accuracy: 0.6938 - val_loss: 1.7084\n",
            "Epoch 11/30\n",
            "\u001b[1m10/10\u001b[0m \u001b[32m━━━━━━━━━━━━━━━━━━━━\u001b[0m\u001b[37m\u001b[0m \u001b[1m0s\u001b[0m 18ms/step - accuracy: 0.6393 - loss: 0.9856 - val_accuracy: 0.7156 - val_loss: 1.6589\n",
            "Epoch 12/30\n",
            "\u001b[1m10/10\u001b[0m \u001b[32m━━━━━━━━━━━━━━━━━━━━\u001b[0m\u001b[37m\u001b[0m \u001b[1m0s\u001b[0m 18ms/step - accuracy: 0.6417 - loss: 0.9373 - val_accuracy: 0.8031 - val_loss: 1.6209\n",
            "Epoch 13/30\n",
            "\u001b[1m10/10\u001b[0m \u001b[32m━━━━━━━━━━━━━━━━━━━━\u001b[0m\u001b[37m\u001b[0m \u001b[1m0s\u001b[0m 17ms/step - accuracy: 0.6718 - loss: 0.8386 - val_accuracy: 0.7969 - val_loss: 1.5762\n",
            "Epoch 14/30\n",
            "\u001b[1m10/10\u001b[0m \u001b[32m━━━━━━━━━━━━━━━━━━━━\u001b[0m\u001b[37m\u001b[0m \u001b[1m0s\u001b[0m 26ms/step - accuracy: 0.6883 - loss: 0.8122 - val_accuracy: 0.8062 - val_loss: 1.5358\n",
            "Epoch 15/30\n",
            "\u001b[1m10/10\u001b[0m \u001b[32m━━━━━━━━━━━━━━━━━━━━\u001b[0m\u001b[37m\u001b[0m \u001b[1m0s\u001b[0m 29ms/step - accuracy: 0.7099 - loss: 0.7669 - val_accuracy: 0.8094 - val_loss: 1.5119\n",
            "Epoch 16/30\n",
            "\u001b[1m10/10\u001b[0m \u001b[32m━━━━━━━━━━━━━━━━━━━━\u001b[0m\u001b[37m\u001b[0m \u001b[1m0s\u001b[0m 30ms/step - accuracy: 0.6973 - loss: 0.7509 - val_accuracy: 0.8094 - val_loss: 1.4529\n",
            "Epoch 17/30\n",
            "\u001b[1m10/10\u001b[0m \u001b[32m━━━━━━━━━━━━━━━━━━━━\u001b[0m\u001b[37m\u001b[0m \u001b[1m0s\u001b[0m 31ms/step - accuracy: 0.7497 - loss: 0.6698 - val_accuracy: 0.8281 - val_loss: 1.4066\n",
            "Epoch 18/30\n",
            "\u001b[1m10/10\u001b[0m \u001b[32m━━━━━━━━━━━━━━━━━━━━\u001b[0m\u001b[37m\u001b[0m \u001b[1m0s\u001b[0m 16ms/step - accuracy: 0.7596 - loss: 0.6573 - val_accuracy: 0.8281 - val_loss: 1.3543\n",
            "Epoch 19/30\n",
            "\u001b[1m10/10\u001b[0m \u001b[32m━━━━━━━━━━━━━━━━━━━━\u001b[0m\u001b[37m\u001b[0m \u001b[1m0s\u001b[0m 15ms/step - accuracy: 0.8056 - loss: 0.6351 - val_accuracy: 0.8219 - val_loss: 1.3217\n",
            "Epoch 20/30\n",
            "\u001b[1m10/10\u001b[0m \u001b[32m━━━━━━━━━━━━━━━━━━━━\u001b[0m\u001b[37m\u001b[0m \u001b[1m0s\u001b[0m 16ms/step - accuracy: 0.8314 - loss: 0.6069 - val_accuracy: 0.8250 - val_loss: 1.2787\n",
            "Epoch 21/30\n",
            "\u001b[1m10/10\u001b[0m \u001b[32m━━━━━━━━━━━━━━━━━━━━\u001b[0m\u001b[37m\u001b[0m \u001b[1m0s\u001b[0m 17ms/step - accuracy: 0.8438 - loss: 0.5551 - val_accuracy: 0.8250 - val_loss: 1.2358\n",
            "Epoch 22/30\n",
            "\u001b[1m10/10\u001b[0m \u001b[32m━━━━━━━━━━━━━━━━━━━━\u001b[0m\u001b[37m\u001b[0m \u001b[1m0s\u001b[0m 16ms/step - accuracy: 0.8656 - loss: 0.5296 - val_accuracy: 0.8219 - val_loss: 1.2016\n",
            "Epoch 23/30\n",
            "\u001b[1m10/10\u001b[0m \u001b[32m━━━━━━━━━━━━━━━━━━━━\u001b[0m\u001b[37m\u001b[0m \u001b[1m0s\u001b[0m 16ms/step - accuracy: 0.8602 - loss: 0.4821 - val_accuracy: 0.8344 - val_loss: 1.1295\n",
            "Epoch 24/30\n",
            "\u001b[1m10/10\u001b[0m \u001b[32m━━━━━━━━━━━━━━━━━━━━\u001b[0m\u001b[37m\u001b[0m \u001b[1m0s\u001b[0m 17ms/step - accuracy: 0.8706 - loss: 0.4794 - val_accuracy: 0.8344 - val_loss: 1.0987\n",
            "Epoch 25/30\n",
            "\u001b[1m10/10\u001b[0m \u001b[32m━━━━━━━━━━━━━━━━━━━━\u001b[0m\u001b[37m\u001b[0m \u001b[1m0s\u001b[0m 18ms/step - accuracy: 0.8514 - loss: 0.5134 - val_accuracy: 0.8500 - val_loss: 1.0485\n",
            "Epoch 26/30\n",
            "\u001b[1m10/10\u001b[0m \u001b[32m━━━━━━━━━━━━━━━━━━━━\u001b[0m\u001b[37m\u001b[0m \u001b[1m0s\u001b[0m 17ms/step - accuracy: 0.8627 - loss: 0.4573 - val_accuracy: 0.8500 - val_loss: 1.0177\n",
            "Epoch 27/30\n",
            "\u001b[1m10/10\u001b[0m \u001b[32m━━━━━━━━━━━━━━━━━━━━\u001b[0m\u001b[37m\u001b[0m \u001b[1m0s\u001b[0m 16ms/step - accuracy: 0.8596 - loss: 0.4759 - val_accuracy: 0.8469 - val_loss: 0.9695\n",
            "Epoch 28/30\n",
            "\u001b[1m10/10\u001b[0m \u001b[32m━━━━━━━━━━━━━━━━━━━━\u001b[0m\u001b[37m\u001b[0m \u001b[1m0s\u001b[0m 17ms/step - accuracy: 0.8696 - loss: 0.4070 - val_accuracy: 0.8500 - val_loss: 0.8954\n",
            "Epoch 29/30\n",
            "\u001b[1m10/10\u001b[0m \u001b[32m━━━━━━━━━━━━━━━━━━━━\u001b[0m\u001b[37m\u001b[0m \u001b[1m0s\u001b[0m 17ms/step - accuracy: 0.8779 - loss: 0.3985 - val_accuracy: 0.8625 - val_loss: 0.8465\n",
            "Epoch 30/30\n",
            "\u001b[1m10/10\u001b[0m \u001b[32m━━━━━━━━━━━━━━━━━━━━\u001b[0m\u001b[37m\u001b[0m \u001b[1m0s\u001b[0m 19ms/step - accuracy: 0.8739 - loss: 0.3979 - val_accuracy: 0.8687 - val_loss: 0.8125\n"
          ]
        }
      ]
    },
    {
      "cell_type": "code",
      "source": [
        "y_pred = model.predict(x_test)\n",
        "y_pred_classes = np.argmax(y_pred, axis=1)\n",
        "y_true = np.argmax(y_test, axis=1)\n",
        "\n",
        "# Print classification report\n",
        "print(classification_report(y_true, y_pred_classes))"
      ],
      "metadata": {
        "colab": {
          "base_uri": "https://localhost:8080/"
        },
        "id": "iKb7aWFP-aVc",
        "outputId": "1d4af388-299d-4145-f390-fbc4af1e767f"
      },
      "execution_count": null,
      "outputs": [
        {
          "output_type": "stream",
          "name": "stdout",
          "text": [
            "\u001b[1m13/13\u001b[0m \u001b[32m━━━━━━━━━━━━━━━━━━━━\u001b[0m\u001b[37m\u001b[0m \u001b[1m0s\u001b[0m 6ms/step\n",
            "              precision    recall  f1-score   support\n",
            "\n",
            "           0       0.94      1.00      0.97        50\n",
            "           1       0.96      0.86      0.91        50\n",
            "           2       0.90      0.88      0.89        50\n",
            "           3       0.92      0.90      0.91        50\n",
            "           4       0.86      0.88      0.87        50\n",
            "           5       0.90      0.92      0.91        50\n",
            "           6       0.81      0.96      0.88        50\n",
            "           7       0.98      0.84      0.90        50\n",
            "\n",
            "    accuracy                           0.91       400\n",
            "   macro avg       0.91      0.90      0.91       400\n",
            "weighted avg       0.91      0.91      0.91       400\n",
            "\n"
          ]
        }
      ]
    },
    {
      "cell_type": "code",
      "source": [
        "# test_image=x_conf[9]\n",
        "# test_label=y_conf[9]\n",
        "\n",
        "\n",
        "test_image=x_test[9]\n",
        "# test_label=y_test[9]\n",
        "\n",
        "\n",
        "# Visualize the selected image\n",
        "plt.imshow(test_image.squeeze(), cmap='gray')  # Remove extra dimensions and plot\n",
        "plt.title(\"Sample Image from x_test\")\n",
        "plt.axis('off')  # Hide axis\n",
        "plt.show()\n"
      ],
      "metadata": {
        "id": "AtNiGYVvlR30"
      },
      "execution_count": null,
      "outputs": []
    },
    {
      "cell_type": "code",
      "source": [
        "# Define a subclassed model to keep dropout active during inference\n",
        "class MCDropoutModel(tf.keras.Model):\n",
        "    def __init__(self, model):\n",
        "        super(MCDropoutModel, self).__init__()\n",
        "        self.model = model\n",
        "\n",
        "    def call(self, inputs, training=False):\n",
        "        return self.model(inputs, training=True)  # Force dropout to be active\n",
        "\n",
        "mc_model = MCDropoutModel(model)\n",
        "\n",
        "# Function to apply MC Dropout for confidence estimation\n",
        "def mc_dropout_predictions(mc_model, x_sample, num_samples=50):\n",
        "    preds = np.array([mc_model(x_sample, training=True).numpy() for _ in range(num_samples)])\n",
        "    return preds\n",
        "\n",
        "# reshape to pass through the model\n",
        "x_sample = np.expand_dims(test_image, axis=0)\n",
        "num_samples = 50  # Number of stochastic forward passes\n",
        "\n",
        "# Get MC Dropout predictions\n",
        "mc_preds = mc_dropout_predictions(mc_model, x_sample, num_samples)\n",
        "\n",
        "# Compute mean and variance\n",
        "mean_prediction = np.mean(mc_preds, axis=0)\n",
        "variance = np.var(mc_preds, axis=0)\n",
        "confidence_score = 1 - variance.max()  # Confidence estimate\n",
        "\n",
        "# Print results\n",
        "print(\"Mean Prediction:\", mean_prediction)\n",
        "print(\"Variance:\", variance)\n",
        "print(\"Confidence Score:\", confidence_score)"
      ],
      "metadata": {
        "id": "rog9AYg0_k43",
        "colab": {
          "base_uri": "https://localhost:8080/"
        },
        "outputId": "4d084c49-61c4-486e-cd19-53be5485f8f6"
      },
      "execution_count": null,
      "outputs": [
        {
          "output_type": "stream",
          "name": "stdout",
          "text": [
            "Mean Prediction: [[0.6809185  0.01567085 0.06731349 0.00817695 0.0639661  0.14749056\n",
            "  0.0069478  0.00951573]]\n",
            "Variance: [[0.02996465 0.00094459 0.0036126  0.00014388 0.00872657 0.00466986\n",
            "  0.00016678 0.0002668 ]]\n",
            "Confidence Score: 0.9700353518128395\n"
          ]
        }
      ]
    },
    {
      "cell_type": "code",
      "source": [
        "test_image_1 = np.expand_dims(test_image, axis=0)\n",
        "y_pred = model.predict(test_image_1)\n",
        "y_pred_classes = np.argmax(y_pred, axis=1)\n",
        "# y_true = np.argmax(y_test, axis=1)\n",
        "y_pred"
      ],
      "metadata": {
        "colab": {
          "base_uri": "https://localhost:8080/",
          "height": 211
        },
        "id": "35xoas0zedeM",
        "outputId": "964981f7-118b-4f42-c970-96a22d54a77a"
      },
      "execution_count": 4,
      "outputs": [
        {
          "output_type": "error",
          "ename": "NameError",
          "evalue": "name 'test_image' is not defined",
          "traceback": [
            "\u001b[0;31m---------------------------------------------------------------------------\u001b[0m",
            "\u001b[0;31mNameError\u001b[0m                                 Traceback (most recent call last)",
            "\u001b[0;32m<ipython-input-4-3ff60d902071>\u001b[0m in \u001b[0;36m<cell line: 0>\u001b[0;34m()\u001b[0m\n\u001b[0;32m----> 1\u001b[0;31m \u001b[0mtest_image_1\u001b[0m \u001b[0;34m=\u001b[0m \u001b[0mnp\u001b[0m\u001b[0;34m.\u001b[0m\u001b[0mexpand_dims\u001b[0m\u001b[0;34m(\u001b[0m\u001b[0mtest_image\u001b[0m\u001b[0;34m,\u001b[0m \u001b[0maxis\u001b[0m\u001b[0;34m=\u001b[0m\u001b[0;36m0\u001b[0m\u001b[0;34m)\u001b[0m\u001b[0;34m\u001b[0m\u001b[0;34m\u001b[0m\u001b[0m\n\u001b[0m\u001b[1;32m      2\u001b[0m \u001b[0my_pred\u001b[0m \u001b[0;34m=\u001b[0m \u001b[0mmodel\u001b[0m\u001b[0;34m.\u001b[0m\u001b[0mpredict\u001b[0m\u001b[0;34m(\u001b[0m\u001b[0mtest_image_1\u001b[0m\u001b[0;34m)\u001b[0m\u001b[0;34m\u001b[0m\u001b[0;34m\u001b[0m\u001b[0m\n\u001b[1;32m      3\u001b[0m \u001b[0my_pred_classes\u001b[0m \u001b[0;34m=\u001b[0m \u001b[0mnp\u001b[0m\u001b[0;34m.\u001b[0m\u001b[0margmax\u001b[0m\u001b[0;34m(\u001b[0m\u001b[0my_pred\u001b[0m\u001b[0;34m,\u001b[0m \u001b[0maxis\u001b[0m\u001b[0;34m=\u001b[0m\u001b[0;36m1\u001b[0m\u001b[0;34m)\u001b[0m\u001b[0;34m\u001b[0m\u001b[0;34m\u001b[0m\u001b[0m\n\u001b[1;32m      4\u001b[0m \u001b[0;31m# y_true = np.argmax(y_test, axis=1)\u001b[0m\u001b[0;34m\u001b[0m\u001b[0;34m\u001b[0m\u001b[0m\n\u001b[1;32m      5\u001b[0m \u001b[0my_pred\u001b[0m\u001b[0;34m\u001b[0m\u001b[0;34m\u001b[0m\u001b[0m\n",
            "\u001b[0;31mNameError\u001b[0m: name 'test_image' is not defined"
          ]
        }
      ]
    },
    {
      "cell_type": "code",
      "source": [
        "import tensorflow as tf\n",
        "import numpy as np\n",
        "import scipy.stats\n",
        "\n",
        "# Define a subclassed model to keep dropout active during inference\n",
        "class MCDropoutModel(tf.keras.Model):\n",
        "    def __init__(self, model):\n",
        "        super(MCDropoutModel, self).__init__()\n",
        "        self.feature_extractor = tf.keras.Model(model.input, model.layers[-1].output)  # Remove softmax layer\n",
        "\n",
        "    def call(self, inputs, training=False):\n",
        "        return self.feature_extractor(inputs, training=True)  # Force dropout to be active\n",
        "\n",
        "# Convert model to MC Dropout model\n",
        "mc_model = MCDropoutModel(model)\n",
        "\n",
        "# Function to apply MC Dropout for confidence estimation\n",
        "def mc_dropout_predictions(mc_model, x_sample, num_samples=50):\n",
        "    \"\"\"Perform multiple stochastic forward passes to obtain logits distribution.\"\"\"\n",
        "    logits_samples = np.array([mc_model(x_sample, training=True).numpy().squeeze() for _ in range(num_samples)])\n",
        "    return logits_samples  # Shape: (50, 8)\n",
        "\n",
        "# Select one example from x_test\n",
        "x_sample = np.expand_dims(test_image, axis=0)  # Ensure shape (1, t, f, num)\n",
        "num_samples = 50  # Number of stochastic forward passes\n",
        "\n",
        "# Get MC Dropout predictions (logits)\n",
        "logits_samples = mc_dropout_predictions(mc_model, x_sample, num_samples)  # Shape: (50, 8)\n",
        "\n",
        "# Convert logits to probabilities for each stochastic pass\n",
        "probs_samples = scipy.special.softmax(logits_samples, axis=-1)  # Shape: (50, 8)\n",
        "\n",
        "# Compute entropy for each class separately across the 50 samples\n",
        "entropy = -np.mean(logits_samples * np.log(logits_samples + 1e-8), axis=0)  # Shape: (8,)\n",
        "\n",
        "# Compute confidence as (1 - entropy) for each class\n",
        "confidence_score = 1 - entropy  # Shape: (8,)\n",
        "\n",
        "# Print results\n",
        "print(\"Mean Logits:\", np.mean(logits_samples, axis=0))\n",
        "print(\"Logits Variance:\", np.var(logits_samples, axis=0))\n",
        "print(\"Entropy:\", entropy)\n",
        "print(\"Confidence Score:\", confidence_score)\n"
      ],
      "metadata": {
        "colab": {
          "base_uri": "https://localhost:8080/"
        },
        "id": "OuJSkMvzJQpn",
        "outputId": "e6976ec2-37be-4d58-8de9-628c88672558"
      },
      "execution_count": null,
      "outputs": [
        {
          "output_type": "stream",
          "name": "stdout",
          "text": [
            "Mean Logits: [0.6767532  0.02073334 0.05191001 0.01055675 0.04607066 0.17855847\n",
            " 0.00396948 0.01144823]\n",
            "Logits Variance: [3.4668688e-02 1.1285669e-03 4.3913876e-03 2.8368976e-04 8.5690441e-03\n",
            " 8.0416650e-03 5.2973326e-05 3.1052626e-04]\n",
            "Entropy: [0.23453256 0.06340329 0.12870449 0.03962028 0.09865805 0.28596053\n",
            " 0.01822246 0.04165397]\n",
            "Confidence Score: [0.7654674  0.9365967  0.8712955  0.9603797  0.901342   0.71403944\n",
            " 0.98177755 0.958346  ]\n"
          ]
        }
      ]
    },
    {
      "cell_type": "code",
      "source": [],
      "metadata": {
        "id": "OKvJmE3BbL0C"
      },
      "execution_count": null,
      "outputs": []
    },
    {
      "cell_type": "code",
      "source": [
        "import tensorflow as tf\n",
        "\n",
        "def make_model(shape, num_classes):\n",
        "    (temp, t, f, num) = shape\n",
        "    inputs = tf.keras.layers.Input(shape=(t, f, num))\n",
        "\n",
        "    x = tf.keras.layers.Conv2D(10, 3, strides=2, activation='relu', padding='same')(inputs)\n",
        "    x = tf.keras.layers.BatchNormalization()(x)\n",
        "    x = tf.keras.layers.MaxPooling2D(pool_size=(2, 2))(x)\n",
        "    x = tf.keras.layers.Dropout(0.1)(x)\n",
        "\n",
        "    x = tf.keras.layers.Flatten()(x)\n",
        "    x = tf.keras.layers.Dense(10, activation='relu')(x)\n",
        "    x = tf.keras.layers.Dropout(0.1)(x)\n",
        "\n",
        "    # Output mean (mu)\n",
        "    mu = tf.keras.layers.Dense(num_classes, activation=None, name=\"mu\")(x)\n",
        "\n",
        "    # Output log variance (log_sigma^2) with softplus to ensure positivity\n",
        "    log_sigma_sq = tf.keras.layers.Dense(num_classes, activation=tf.nn.softplus, name=\"log_sigma_sq\")(x)\n",
        "\n",
        "    model = tf.keras.Model(inputs=inputs, outputs=[mu, log_sigma_sq])\n",
        "    return model\n",
        "\n",
        "model = make_model(x_train.shape, num_classes)\n"
      ],
      "metadata": {
        "id": "OrTChj6DbL2h"
      },
      "execution_count": null,
      "outputs": []
    },
    {
      "cell_type": "code",
      "source": [
        "import tensorflow as tf\n",
        "\n",
        "class BayesianCrossEntropy(tf.keras.losses.Loss):\n",
        "    def __init__(self, num_samples=10):\n",
        "        super().__init__()\n",
        "        self.num_samples = num_samples  # Number of Monte Carlo samples\n",
        "\n",
        "    def call(self, y_true, y_pred):\n",
        "        mu, log_sigma_sq = y_pred  # Model outputs (mean and log variance)\n",
        "        sigma = tf.exp(0.5 * log_sigma_sq)  # Convert log variance to std dev\n",
        "\n",
        "        # Monte Carlo sampling of predictions\n",
        "        batch_size = tf.shape(mu)[0]\n",
        "        num_classes = tf.shape(mu)[1]\n",
        "\n",
        "        epsilon = tf.random.normal(shape=(self.num_samples, batch_size, num_classes))  # N(0, I)\n",
        "        x_t = mu[None, :, :] + sigma[None, :, :] * epsilon  # Perturbed logits\n",
        "\n",
        "        # Compute log-softmax for each sample\n",
        "        log_probs = tf.nn.log_softmax(x_t, axis=-1)  # (num_samples, batch, num_classes)\n",
        "\n",
        "        # Compute expectation over samples\n",
        "        avg_log_probs = tf.reduce_logsumexp(log_probs, axis=0) - tf.math.log(float(self.num_samples))\n",
        "\n",
        "        # Compute negative log likelihood for correct class\n",
        "        loss = -tf.reduce_mean(tf.reduce_sum(y_true * avg_log_probs, axis=-1))\n",
        "        return loss\n"
      ],
      "metadata": {
        "id": "jCmuoh24bhaa"
      },
      "execution_count": null,
      "outputs": []
    },
    {
      "cell_type": "code",
      "source": [],
      "metadata": {
        "id": "5OSCasTLbL6y"
      },
      "execution_count": null,
      "outputs": []
    },
    {
      "cell_type": "code",
      "source": [],
      "metadata": {
        "id": "DWy-afPHbL-A"
      },
      "execution_count": null,
      "outputs": []
    },
    {
      "cell_type": "code",
      "source": [
        "probs_samples.shape"
      ],
      "metadata": {
        "colab": {
          "base_uri": "https://localhost:8080/"
        },
        "id": "2BWipeZVJhNJ",
        "outputId": "7c482829-e3f8-4581-e8e4-6087050c2e8d"
      },
      "execution_count": null,
      "outputs": [
        {
          "output_type": "execute_result",
          "data": {
            "text/plain": [
              "(50, 8)"
            ]
          },
          "metadata": {},
          "execution_count": 55
        }
      ]
    },
    {
      "cell_type": "code",
      "source": [
        "logits_samples[0]"
      ],
      "metadata": {
        "colab": {
          "base_uri": "https://localhost:8080/"
        },
        "id": "MLNPMBN4IK-v",
        "outputId": "cb98b2c5-f83d-44a2-d349-cb3b4a50da9a"
      },
      "execution_count": null,
      "outputs": [
        {
          "output_type": "execute_result",
          "data": {
            "text/plain": [
              "array([0.7353206 , 0.00782632, 0.11813495, 0.00282696, 0.04902739,\n",
              "       0.08118229, 0.00195502, 0.00372643], dtype=float32)"
            ]
          },
          "metadata": {},
          "execution_count": 28
        }
      ]
    },
    {
      "cell_type": "code",
      "source": [
        "x_sample.shape"
      ],
      "metadata": {
        "colab": {
          "base_uri": "https://localhost:8080/"
        },
        "id": "Iz4mLLVzIlKW",
        "outputId": "010401c6-008e-41f0-d863-342eef52e4cc"
      },
      "execution_count": null,
      "outputs": [
        {
          "output_type": "execute_result",
          "data": {
            "text/plain": [
              "(1, 28, 28, 1)"
            ]
          },
          "metadata": {},
          "execution_count": 46
        }
      ]
    },
    {
      "cell_type": "code",
      "source": [
        "probs_samples.shape"
      ],
      "metadata": {
        "colab": {
          "base_uri": "https://localhost:8080/"
        },
        "id": "ThWN6HABHlBh",
        "outputId": "3764fe0a-f374-4092-c6b3-31bdbc0fe7d8"
      },
      "execution_count": null,
      "outputs": [
        {
          "output_type": "execute_result",
          "data": {
            "text/plain": [
              "(50, 1, 8)"
            ]
          },
          "metadata": {},
          "execution_count": 40
        }
      ]
    },
    {
      "cell_type": "code",
      "source": [
        "entropy"
      ],
      "metadata": {
        "colab": {
          "base_uri": "https://localhost:8080/"
        },
        "id": "YSjDLX3dqwr3",
        "outputId": "14352305-a4e6-4bfe-a183-9b402b2d509f"
      },
      "execution_count": null,
      "outputs": [
        {
          "output_type": "execute_result",
          "data": {
            "text/plain": [
              "array([[1.33835463e-04, 1.51131570e-01, 2.51248449e-01, 1.15201947e-04,\n",
              "        1.54462725e-01, 2.14732811e-03, 5.68378542e-04, 1.00871893e-02],\n",
              "       [7.98064843e-03, 3.48301604e-02, 2.55671710e-01, 7.47245029e-02,\n",
              "        1.67684987e-01, 7.01546296e-02, 2.55041599e-01, 2.07509235e-01],\n",
              "       [5.28224104e-04, 4.68023829e-02, 6.86879307e-02, 5.45162242e-04,\n",
              "        3.65982838e-02, 1.86499511e-03, 2.33895238e-03, 4.48357575e-02],\n",
              "       [4.95832792e-05, 1.40492886e-01, 2.55010098e-01, 3.90142195e-05,\n",
              "        1.52325451e-01, 1.30619027e-03, 1.90714243e-04, 6.93511683e-03],\n",
              "       [2.09552076e-04, 2.84640938e-01, 3.43603224e-01, 2.92131474e-04,\n",
              "        3.66774321e-01, 1.55410985e-03, 1.04372727e-03, 3.44323600e-03],\n",
              "       [6.28288690e-05, 6.17998764e-02, 8.23713243e-02, 3.23886379e-05,\n",
              "        3.69137637e-02, 1.52047665e-03, 1.95514236e-04, 9.00920574e-03],\n",
              "       [9.63232233e-05, 1.15115933e-01, 1.84123769e-01, 6.78158249e-05,\n",
              "        9.98235047e-02, 1.98343932e-03, 3.06992821e-04, 1.48677398e-02],\n",
              "       [1.11064187e-03, 4.45300862e-02, 2.45822743e-02, 3.57074430e-04,\n",
              "        2.13794298e-02, 6.14187215e-03, 1.52284198e-03, 3.17921340e-02],\n",
              "       [3.61808692e-04, 1.08769588e-01, 1.22969948e-01, 5.18926827e-04,\n",
              "        7.32611567e-02, 7.30950676e-04, 2.29119859e-03, 3.44538018e-02],\n",
              "       [6.16442296e-04, 1.05319276e-01, 7.78167546e-02, 2.21222523e-04,\n",
              "        5.60768656e-02, 3.22485855e-03, 4.51116794e-04, 3.60413417e-02],\n",
              "       [1.74006913e-04, 1.47773296e-01, 2.18894079e-01, 2.06056706e-04,\n",
              "        1.31584093e-01, 1.28166622e-03, 1.31299836e-03, 8.81317724e-03],\n",
              "       [3.18384002e-04, 3.33240598e-01, 2.92677730e-01, 1.19815297e-04,\n",
              "        2.96469182e-01, 8.63917696e-04, 1.39531388e-04, 3.15363659e-03],\n",
              "       [5.62219793e-05, 5.51346093e-02, 1.08786993e-01, 4.17690644e-05,\n",
              "        4.36771065e-02, 3.37718346e-04, 1.30857501e-04, 4.36391262e-03],\n",
              "       [1.87407266e-02, 1.38176829e-01, 3.51236939e-01, 1.02687776e-01,\n",
              "        1.62207276e-01, 6.65627420e-02, 3.67297858e-01, 7.67104253e-02],\n",
              "       [1.75626963e-04, 1.39581040e-01, 1.58616245e-01, 7.11318644e-05,\n",
              "        9.61097330e-02, 2.41226656e-03, 2.02832714e-04, 1.00908997e-02],\n",
              "       [1.28491037e-02, 1.24014147e-01, 3.41200352e-01, 8.96185860e-02,\n",
              "        1.41732171e-01, 5.10339960e-02, 3.67206872e-01, 6.63462877e-02],\n",
              "       [1.57745424e-04, 1.08365238e-01, 9.71730947e-02, 8.04196898e-05,\n",
              "        5.82559220e-02, 1.06932817e-03, 2.82406399e-04, 1.13329291e-02],\n",
              "       [1.76868890e-03, 7.97147378e-02, 1.34229641e-02, 1.04267645e-04,\n",
              "        2.50081439e-02, 4.24344279e-03, 8.45938994e-05, 1.15799038e-02],\n",
              "       [8.81894433e-04, 3.27370673e-01, 2.62426078e-01, 3.59825586e-04,\n",
              "        2.73018330e-01, 1.57228066e-03, 4.42565477e-04, 6.16538106e-03],\n",
              "       [1.10136716e-04, 1.07881702e-01, 1.56479448e-01, 6.25867979e-05,\n",
              "        8.22107345e-02, 2.17683404e-03, 3.06475325e-04, 8.20752513e-03],\n",
              "       [3.97072086e-04, 2.44298801e-01, 3.11440438e-01, 2.34690699e-04,\n",
              "        2.46991813e-01, 1.52046338e-03, 4.75936162e-04, 2.96311243e-03],\n",
              "       [1.09966400e-04, 6.66302219e-02, 5.64325601e-02, 5.01355426e-05,\n",
              "        2.93634087e-02, 9.33633652e-04, 3.05623340e-04, 3.96969682e-03],\n",
              "       [1.92770254e-04, 1.45412281e-01, 1.81967467e-01, 1.31264824e-04,\n",
              "        1.10800885e-01, 1.80709839e-03, 4.79121110e-04, 1.46348868e-02],\n",
              "       [7.81470808e-05, 1.56239688e-01, 2.05039352e-01, 3.62488317e-05,\n",
              "        1.26537561e-01, 1.37046806e-03, 1.10396722e-04, 5.97936148e-03],\n",
              "       [3.41462001e-04, 2.89445966e-01, 2.96141565e-01, 1.85225290e-04,\n",
              "        2.62070745e-01, 1.28604379e-03, 4.23235382e-04, 2.81812227e-03],\n",
              "       [1.11597510e-04, 1.13993697e-01, 1.30729958e-01, 4.65220546e-05,\n",
              "        7.26553947e-02, 1.70427945e-03, 1.74605186e-04, 6.13619573e-03],\n",
              "       [1.64136567e-04, 1.30659401e-01, 2.30640933e-01, 1.45882863e-04,\n",
              "        1.33573025e-01, 2.43096286e-03, 6.33389456e-04, 1.75080616e-02],\n",
              "       [2.87750045e-05, 8.57308805e-02, 1.00960329e-01, 1.56592760e-05,\n",
              "        4.99739200e-02, 4.30084707e-04, 9.29887756e-05, 2.44445982e-03],\n",
              "       [9.04841407e-04, 5.22697791e-02, 1.01930369e-02, 4.34277754e-05,\n",
              "        1.53655289e-02, 4.69077472e-03, 4.08440392e-05, 9.18847322e-03],\n",
              "       [5.31853933e-04, 1.39774963e-01, 9.58184749e-02, 3.47621244e-04,\n",
              "        7.55462497e-02, 1.12754840e-03, 8.84930312e-04, 3.45850624e-02],\n",
              "       [7.51721891e-05, 1.18633732e-01, 1.30544052e-01, 2.44376843e-05,\n",
              "        7.42229447e-02, 1.43657892e-03, 7.15768401e-05, 5.37633616e-03],\n",
              "       [1.20780300e-04, 8.39800015e-02, 1.20393388e-01, 1.33888083e-04,\n",
              "        5.83625361e-02, 1.11638720e-03, 1.14699092e-03, 1.04275011e-02],\n",
              "       [1.99389528e-03, 7.14775920e-02, 1.86428335e-02, 1.25880717e-04,\n",
              "        2.59673987e-02, 1.15753356e-02, 1.23498437e-04, 1.85702983e-02],\n",
              "       [5.15762476e-05, 2.20022395e-01, 3.30131143e-01, 3.39254075e-05,\n",
              "        2.54258394e-01, 9.18212580e-04, 1.11714937e-04, 2.76397262e-03],\n",
              "       [8.48137788e-05, 9.40530896e-02, 1.64477721e-01, 4.28628045e-05,\n",
              "        8.17799196e-02, 3.43230180e-03, 2.06614408e-04, 1.11074634e-02],\n",
              "       [6.64951585e-05, 1.15802929e-01, 1.35545343e-01, 2.00988761e-05,\n",
              "        7.47555718e-02, 1.13763520e-03, 6.02343316e-05, 2.18598428e-03],\n",
              "       [1.08127693e-04, 1.43007532e-01, 1.53301299e-01, 5.33720740e-05,\n",
              "        9.44379866e-02, 1.03014056e-03, 1.70217550e-04, 6.83989143e-03],\n",
              "       [5.86325732e-05, 6.84891045e-02, 1.13903083e-01, 6.60983496e-05,\n",
              "        5.07243462e-02, 9.08544695e-04, 6.35508623e-04, 1.04609681e-02],\n",
              "       [6.73751906e-03, 7.76560307e-02, 3.38443220e-01, 5.61288148e-02,\n",
              "        1.72425300e-01, 9.91565138e-02, 3.61886293e-01, 1.47007495e-01],\n",
              "       [9.12666219e-05, 6.85714260e-02, 7.90002495e-02, 5.13039413e-05,\n",
              "        3.78187038e-02, 1.29362557e-03, 3.03565379e-04, 8.91578291e-03],\n",
              "       [2.43901480e-02, 1.51960030e-01, 3.60287905e-01, 1.46904483e-01,\n",
              "        1.25478312e-01, 4.34228815e-02, 3.67792547e-01, 1.35279685e-01],\n",
              "       [2.84333888e-04, 1.08182386e-01, 2.05742612e-01, 1.59383926e-04,\n",
              "        1.08470149e-01, 5.20455278e-03, 6.89858338e-04, 6.48294762e-03],\n",
              "       [2.22057686e-04, 7.59463534e-02, 7.89790452e-02, 1.29882406e-04,\n",
              "        4.13397588e-02, 2.02280399e-03, 6.81436621e-04, 1.46122081e-02],\n",
              "       [4.59395305e-05, 1.07820205e-01, 2.13437825e-01, 2.94717720e-05,\n",
              "        1.12283841e-01, 1.50628993e-03, 1.40102260e-04, 5.82728535e-03],\n",
              "       [3.42530489e-04, 6.90062866e-02, 1.08992308e-01, 4.23304009e-04,\n",
              "        5.32042719e-02, 3.08419252e-03, 3.76992580e-03, 2.78625619e-02],\n",
              "       [3.70111928e-04, 1.36425778e-01, 3.16013917e-02, 1.03836119e-05,\n",
              "        4.90228646e-02, 2.73589231e-03, 5.00662236e-06, 1.58217095e-03],\n",
              "       [4.88298945e-04, 3.14912260e-01, 2.56296605e-01, 2.50734214e-04,\n",
              "        2.57073045e-01, 6.43307751e-04, 3.15969373e-04, 5.42763248e-03],\n",
              "       [1.48833875e-04, 8.64698365e-02, 8.12391192e-02, 4.26349543e-05,\n",
              "        4.56509702e-02, 2.61374749e-03, 1.14901959e-04, 1.48594500e-02],\n",
              "       [1.51019986e-03, 1.19468726e-01, 2.84312665e-02, 6.70202353e-05,\n",
              "        4.36736383e-02, 7.68935122e-03, 3.46321431e-05, 1.24423830e-02],\n",
              "       [5.41447553e-05, 9.21853036e-02, 1.01382375e-01, 2.77075615e-05,\n",
              "        5.26528955e-02, 6.87773281e-04, 1.36382878e-04, 4.29273117e-03]],\n",
              "      dtype=float32)"
            ]
          },
          "metadata": {},
          "execution_count": 35
        }
      ]
    },
    {
      "cell_type": "code",
      "source": [
        "entropy = - 1.0 * np.sum(mc_preds * np.log(mc_preds + 1e-16), axis=1)\n",
        "mean_entropy = np.mean(entropy, axis=0)\n",
        "mean_entropy"
      ],
      "metadata": {
        "colab": {
          "base_uri": "https://localhost:8080/"
        },
        "id": "aVwhHiFJpuww",
        "outputId": "36aa1d6c-4c73-40eb-8700-4d0086db7ee5"
      },
      "execution_count": null,
      "outputs": [
        {
          "output_type": "execute_result",
          "data": {
            "text/plain": [
              "array([0.23683418, 0.0528193 , 0.15995343, 0.03419844, 0.1300023 ,\n",
              "       0.26736736, 0.02757484, 0.03655317], dtype=float32)"
            ]
          },
          "metadata": {},
          "execution_count": 29
        }
      ]
    },
    {
      "cell_type": "code",
      "source": [
        "\n",
        "# Function to generate calibration curve\n",
        "def multiclass_calibration_curve(probs, labels, bins=10):\n",
        "    step_size = 1.0 / bins\n",
        "    n_classes = probs.shape[1]\n",
        "    labels_ohe = np.eye(n_classes)[labels.astype(np.int64)]\n",
        "\n",
        "    midpoints = []\n",
        "    mean_confidences = []\n",
        "    accuracies = []\n",
        "\n",
        "    for i in range(bins):\n",
        "        beg = i * step_size\n",
        "        end = (i + 1) * step_size\n",
        "\n",
        "        bin_mask = (probs >= beg) & (probs < end)\n",
        "        bin_cnt = bin_mask.astype(np.float32).sum()\n",
        "        if bin_cnt == 0:\n",
        "            continue\n",
        "        bin_confs = probs[bin_mask]\n",
        "        bin_acc = labels_ohe[bin_mask].sum() / bin_cnt\n",
        "\n",
        "        midpoints.append((beg+end)/2.)\n",
        "        mean_confidences.append(np.mean(bin_confs))\n",
        "        accuracies.append(bin_acc)\n",
        "\n",
        "    return midpoints, accuracies, mean_confidences\n",
        "\n",
        "# Get MC Dropout predictions for full test set\n",
        "mc_preds_test = mc_dropout_predictions(mc_model, x_test, num_samples)\n",
        "probs = np.mean(mc_preds_test, axis=0)\n",
        "labels = np.argmax(y_test, axis=1)\n",
        "\n",
        "# Compute calibration curve\n",
        "midpoints, accuracies, mean_confidences = multiclass_calibration_curve(probs, labels)\n",
        "\n",
        "# Plot calibration curve\n",
        "plt.figure(figsize=(6, 6))\n",
        "plt.plot(midpoints, accuracies, marker='o', linestyle='-', label='Accuracy')\n",
        "plt.bar(midpoints, mean_confidences, width=0.08, alpha=0.6, label='Mean Confidence', color='orange')\n",
        "#plt.plot(midpoints, mean_confidences, marker='s', linestyle='--', label='Confidence')\n",
        "plt.plot([0, 1], [0, 1], linestyle='dashed', color='gray')  # Perfect calibration line\n",
        "plt.xlabel(\"Confidence\")\n",
        "plt.ylabel(\"Accuracy\")\n",
        "plt.title(\"Calibration Curve with MC Dropout\")\n",
        "plt.legend()\n",
        "plt.grid()\n",
        "plt.show()"
      ],
      "metadata": {
        "colab": {
          "base_uri": "https://localhost:8080/",
          "height": 564
        },
        "id": "DHMhZvqvoF3E",
        "outputId": "d47cd0cf-3366-4220-dc54-632f66abb484"
      },
      "execution_count": null,
      "outputs": [
        {
          "output_type": "display_data",
          "data": {
            "text/plain": [
              "<Figure size 600x600 with 1 Axes>"
            ],
            "image/png": "[encoded data removed]"
          },
          "metadata": {}
        }
      ]
    },
    {
      "cell_type": "code",
      "source": [],
      "metadata": {
        "id": "655gOc4MjP-7"
      },
      "execution_count": null,
      "outputs": []
    },
    {
      "cell_type": "code",
      "source": [
        "## Ensamble Method"
      ],
      "metadata": {
        "id": "RNJOs-P2rHfN"
      },
      "execution_count": null,
      "outputs": []
    },
    {
      "cell_type": "code",
      "source": [
        "test_image=x_test[0]"
      ],
      "metadata": {
        "id": "g31n5lP-sXhD"
      },
      "execution_count": null,
      "outputs": []
    },
    {
      "cell_type": "code",
      "source": [
        "\n",
        "# Function to apply Gaussian noise perturbations\n",
        "def apply_gaussian_noise(x_sample, num_samples=50, noise_std=0.1):\n",
        "    noisy_samples = [x_sample + np.random.normal(0, noise_std, x_sample.shape) for _ in range(num_samples)]\n",
        "    return np.clip(np.array(noisy_samples), 0.0, 1.0)  # Clip to valid range\n",
        "\n",
        "# Select one example from x_test\n",
        "x_sample = np.expand_dims(test_image, axis=0)  # Select the first test example\n",
        "num_samples = 50  # Number of stochastic forward passes\n",
        "\n",
        "# Generate noisy samples\n",
        "noisy_samples = apply_gaussian_noise(x_sample, num_samples)\n",
        "\n",
        "# Get model predictions for noisy samples\n",
        "y_preds = np.array([model.predict(noisy_sample) for noisy_sample in noisy_samples])\n",
        "\n",
        "# Compute mean and variance\n",
        "mean_prediction = np.mean(y_preds, axis=0)\n",
        "variance = np.var(y_preds, axis=0)\n",
        "confidence_score = 1 - variance.max()  # Confidence estimate\n",
        "\n",
        "# Print results\n",
        "print(\"Mean Prediction:\", mean_prediction)\n",
        "print(\"Variance:\", variance)\n",
        "print(\"Confidence Score:\", confidence_score)\n",
        "\n",
        "\n"
      ],
      "metadata": {
        "colab": {
          "base_uri": "https://localhost:8080/"
        },
        "id": "dxIamFterHiO",
        "outputId": "bb059a4e-d0dc-4467-fdcd-6bb8c9f3b5fd"
      },
      "execution_count": null,
      "outputs": [
        {
          "output_type": "stream",
          "name": "stdout",
          "text": [
            "\u001b[1m1/1\u001b[0m \u001b[32m━━━━━━━━━━━━━━━━━━━━\u001b[0m\u001b[37m\u001b[0m \u001b[1m0s\u001b[0m 25ms/step\n",
            "\u001b[1m1/1\u001b[0m \u001b[32m━━━━━━━━━━━━━━━━━━━━\u001b[0m\u001b[37m\u001b[0m \u001b[1m0s\u001b[0m 25ms/step\n",
            "\u001b[1m1/1\u001b[0m \u001b[32m━━━━━━━━━━━━━━━━━━━━\u001b[0m\u001b[37m\u001b[0m \u001b[1m0s\u001b[0m 32ms/step\n",
            "\u001b[1m1/1\u001b[0m \u001b[32m━━━━━━━━━━━━━━━━━━━━\u001b[0m\u001b[37m\u001b[0m \u001b[1m0s\u001b[0m 26ms/step\n",
            "\u001b[1m1/1\u001b[0m \u001b[32m━━━━━━━━━━━━━━━━━━━━\u001b[0m\u001b[37m\u001b[0m \u001b[1m0s\u001b[0m 29ms/step\n",
            "\u001b[1m1/1\u001b[0m \u001b[32m━━━━━━━━━━━━━━━━━━━━\u001b[0m\u001b[37m\u001b[0m \u001b[1m0s\u001b[0m 29ms/step\n",
            "\u001b[1m1/1\u001b[0m \u001b[32m━━━━━━━━━━━━━━━━━━━━\u001b[0m\u001b[37m\u001b[0m \u001b[1m0s\u001b[0m 26ms/step\n",
            "\u001b[1m1/1\u001b[0m \u001b[32m━━━━━━━━━━━━━━━━━━━━\u001b[0m\u001b[37m\u001b[0m \u001b[1m0s\u001b[0m 28ms/step\n",
            "\u001b[1m1/1\u001b[0m \u001b[32m━━━━━━━━━━━━━━━━━━━━\u001b[0m\u001b[37m\u001b[0m \u001b[1m0s\u001b[0m 29ms/step\n",
            "\u001b[1m1/1\u001b[0m \u001b[32m━━━━━━━━━━━━━━━━━━━━\u001b[0m\u001b[37m\u001b[0m \u001b[1m0s\u001b[0m 28ms/step\n",
            "\u001b[1m1/1\u001b[0m \u001b[32m━━━━━━━━━━━━━━━━━━━━\u001b[0m\u001b[37m\u001b[0m \u001b[1m0s\u001b[0m 28ms/step\n",
            "\u001b[1m1/1\u001b[0m \u001b[32m━━━━━━━━━━━━━━━━━━━━\u001b[0m\u001b[37m\u001b[0m \u001b[1m0s\u001b[0m 27ms/step\n",
            "\u001b[1m1/1\u001b[0m \u001b[32m━━━━━━━━━━━━━━━━━━━━\u001b[0m\u001b[37m\u001b[0m \u001b[1m0s\u001b[0m 27ms/step\n",
            "\u001b[1m1/1\u001b[0m \u001b[32m━━━━━━━━━━━━━━━━━━━━\u001b[0m\u001b[37m\u001b[0m \u001b[1m0s\u001b[0m 29ms/step\n",
            "\u001b[1m1/1\u001b[0m \u001b[32m━━━━━━━━━━━━━━━━━━━━\u001b[0m\u001b[37m\u001b[0m \u001b[1m0s\u001b[0m 27ms/step\n",
            "\u001b[1m1/1\u001b[0m \u001b[32m━━━━━━━━━━━━━━━━━━━━\u001b[0m\u001b[37m\u001b[0m \u001b[1m0s\u001b[0m 25ms/step\n",
            "\u001b[1m1/1\u001b[0m \u001b[32m━━━━━━━━━━━━━━━━━━━━\u001b[0m\u001b[37m\u001b[0m \u001b[1m0s\u001b[0m 39ms/step\n",
            "\u001b[1m1/1\u001b[0m \u001b[32m━━━━━━━━━━━━━━━━━━━━\u001b[0m\u001b[37m\u001b[0m \u001b[1m0s\u001b[0m 25ms/step\n",
            "\u001b[1m1/1\u001b[0m \u001b[32m━━━━━━━━━━━━━━━━━━━━\u001b[0m\u001b[37m\u001b[0m \u001b[1m0s\u001b[0m 26ms/step\n",
            "\u001b[1m1/1\u001b[0m \u001b[32m━━━━━━━━━━━━━━━━━━━━\u001b[0m\u001b[37m\u001b[0m \u001b[1m0s\u001b[0m 44ms/step\n",
            "\u001b[1m1/1\u001b[0m \u001b[32m━━━━━━━━━━━━━━━━━━━━\u001b[0m\u001b[37m\u001b[0m \u001b[1m0s\u001b[0m 54ms/step\n",
            "\u001b[1m1/1\u001b[0m \u001b[32m━━━━━━━━━━━━━━━━━━━━\u001b[0m\u001b[37m\u001b[0m \u001b[1m0s\u001b[0m 85ms/step\n",
            "\u001b[1m1/1\u001b[0m \u001b[32m━━━━━━━━━━━━━━━━━━━━\u001b[0m\u001b[37m\u001b[0m \u001b[1m0s\u001b[0m 91ms/step\n",
            "\u001b[1m1/1\u001b[0m \u001b[32m━━━━━━━━━━━━━━━━━━━━\u001b[0m\u001b[37m\u001b[0m \u001b[1m0s\u001b[0m 179ms/step\n",
            "\u001b[1m1/1\u001b[0m \u001b[32m━━━━━━━━━━━━━━━━━━━━\u001b[0m\u001b[37m\u001b[0m \u001b[1m0s\u001b[0m 62ms/step\n",
            "\u001b[1m1/1\u001b[0m \u001b[32m━━━━━━━━━━━━━━━━━━━━\u001b[0m\u001b[37m\u001b[0m \u001b[1m0s\u001b[0m 95ms/step\n",
            "\u001b[1m1/1\u001b[0m \u001b[32m━━━━━━━━━━━━━━━━━━━━\u001b[0m\u001b[37m\u001b[0m \u001b[1m0s\u001b[0m 58ms/step\n",
            "\u001b[1m1/1\u001b[0m \u001b[32m━━━━━━━━━━━━━━━━━━━━\u001b[0m\u001b[37m\u001b[0m \u001b[1m0s\u001b[0m 73ms/step\n",
            "\u001b[1m1/1\u001b[0m \u001b[32m━━━━━━━━━━━━━━━━━━━━\u001b[0m\u001b[37m\u001b[0m \u001b[1m0s\u001b[0m 39ms/step\n",
            "\u001b[1m1/1\u001b[0m \u001b[32m━━━━━━━━━━━━━━━━━━━━\u001b[0m\u001b[37m\u001b[0m \u001b[1m0s\u001b[0m 41ms/step\n",
            "\u001b[1m1/1\u001b[0m \u001b[32m━━━━━━━━━━━━━━━━━━━━\u001b[0m\u001b[37m\u001b[0m \u001b[1m0s\u001b[0m 39ms/step\n",
            "\u001b[1m1/1\u001b[0m \u001b[32m━━━━━━━━━━━━━━━━━━━━\u001b[0m\u001b[37m\u001b[0m \u001b[1m0s\u001b[0m 41ms/step\n",
            "\u001b[1m1/1\u001b[0m \u001b[32m━━━━━━━━━━━━━━━━━━━━\u001b[0m\u001b[37m\u001b[0m \u001b[1m0s\u001b[0m 41ms/step\n",
            "\u001b[1m1/1\u001b[0m \u001b[32m━━━━━━━━━━━━━━━━━━━━\u001b[0m\u001b[37m\u001b[0m \u001b[1m0s\u001b[0m 49ms/step\n",
            "\u001b[1m1/1\u001b[0m \u001b[32m━━━━━━━━━━━━━━━━━━━━\u001b[0m\u001b[37m\u001b[0m \u001b[1m0s\u001b[0m 41ms/step\n",
            "\u001b[1m1/1\u001b[0m \u001b[32m━━━━━━━━━━━━━━━━━━━━\u001b[0m\u001b[37m\u001b[0m \u001b[1m0s\u001b[0m 56ms/step\n",
            "\u001b[1m1/1\u001b[0m \u001b[32m━━━━━━━━━━━━━━━━━━━━\u001b[0m\u001b[37m\u001b[0m \u001b[1m0s\u001b[0m 43ms/step\n",
            "\u001b[1m1/1\u001b[0m \u001b[32m━━━━━━━━━━━━━━━━━━━━\u001b[0m\u001b[37m\u001b[0m \u001b[1m0s\u001b[0m 67ms/step\n",
            "\u001b[1m1/1\u001b[0m \u001b[32m━━━━━━━━━━━━━━━━━━━━\u001b[0m\u001b[37m\u001b[0m \u001b[1m0s\u001b[0m 54ms/step\n",
            "\u001b[1m1/1\u001b[0m \u001b[32m━━━━━━━━━━━━━━━━━━━━\u001b[0m\u001b[37m\u001b[0m \u001b[1m0s\u001b[0m 59ms/step\n",
            "\u001b[1m1/1\u001b[0m \u001b[32m━━━━━━━━━━━━━━━━━━━━\u001b[0m\u001b[37m\u001b[0m \u001b[1m0s\u001b[0m 45ms/step\n",
            "\u001b[1m1/1\u001b[0m \u001b[32m━━━━━━━━━━━━━━━━━━━━\u001b[0m\u001b[37m\u001b[0m \u001b[1m0s\u001b[0m 41ms/step\n",
            "\u001b[1m1/1\u001b[0m \u001b[32m━━━━━━━━━━━━━━━━━━━━\u001b[0m\u001b[37m\u001b[0m \u001b[1m0s\u001b[0m 40ms/step\n",
            "\u001b[1m1/1\u001b[0m \u001b[32m━━━━━━━━━━━━━━━━━━━━\u001b[0m\u001b[37m\u001b[0m \u001b[1m0s\u001b[0m 42ms/step\n",
            "\u001b[1m1/1\u001b[0m \u001b[32m━━━━━━━━━━━━━━━━━━━━\u001b[0m\u001b[37m\u001b[0m \u001b[1m0s\u001b[0m 39ms/step\n",
            "\u001b[1m1/1\u001b[0m \u001b[32m━━━━━━━━━━━━━━━━━━━━\u001b[0m\u001b[37m\u001b[0m \u001b[1m0s\u001b[0m 37ms/step\n",
            "\u001b[1m1/1\u001b[0m \u001b[32m━━━━━━━━━━━━━━━━━━━━\u001b[0m\u001b[37m\u001b[0m \u001b[1m0s\u001b[0m 40ms/step\n",
            "\u001b[1m1/1\u001b[0m \u001b[32m━━━━━━━━━━━━━━━━━━━━\u001b[0m\u001b[37m\u001b[0m \u001b[1m0s\u001b[0m 52ms/step\n",
            "\u001b[1m1/1\u001b[0m \u001b[32m━━━━━━━━━━━━━━━━━━━━\u001b[0m\u001b[37m\u001b[0m \u001b[1m0s\u001b[0m 28ms/step\n",
            "\u001b[1m1/1\u001b[0m \u001b[32m━━━━━━━━━━━━━━━━━━━━\u001b[0m\u001b[37m\u001b[0m \u001b[1m0s\u001b[0m 27ms/step\n",
            "Mean Prediction: [[0.7155136  0.0272991  0.02494445 0.01098619 0.01023465 0.20259899\n",
            "  0.00192262 0.00650025]]\n",
            "Variance: [[1.4243410e-03 1.1251910e-04 3.3145043e-05 1.7435670e-05 1.5262296e-05\n",
            "  3.3836608e-04 1.1953551e-06 7.0192341e-06]]\n",
            "Confidence Score: 0.9985756590031087\n"
          ]
        }
      ]
    },
    {
      "cell_type": "code",
      "source": [
        "test_image_1 = np.expand_dims(test_image, axis=0)\n",
        "y_pred = model.predict(test_image_1)\n",
        "y_pred_classes = np.argmax(y_pred, axis=1)\n",
        "# y_true = np.argmax(y_test, axis=1)\n",
        "y_pred"
      ],
      "metadata": {
        "colab": {
          "base_uri": "https://localhost:8080/"
        },
        "id": "jQfHkGczsLm8",
        "outputId": "e1851e1b-5b45-42de-a764-cb335d7650d9"
      },
      "execution_count": null,
      "outputs": [
        {
          "output_type": "stream",
          "name": "stdout",
          "text": [
            "\u001b[1m1/1\u001b[0m \u001b[32m━━━━━━━━━━━━━━━━━━━━\u001b[0m\u001b[37m\u001b[0m \u001b[1m0s\u001b[0m 26ms/step\n"
          ]
        },
        {
          "output_type": "execute_result",
          "data": {
            "text/plain": [
              "array([[7.9457253e-01, 1.1161583e-02, 1.2055728e-02, 3.7024776e-03,\n",
              "        3.7166497e-03, 1.7252794e-01, 4.0475861e-04, 1.8583754e-03]],\n",
              "      dtype=float32)"
            ]
          },
          "metadata": {},
          "execution_count": 43
        }
      ]
    },
    {
      "cell_type": "code",
      "source": [
        "# # Function to generate calibration curve\n",
        "# def multiclass_calibration_curve(probs, labels, bins=10):\n",
        "#     step_size = 1.0 / bins\n",
        "#     n_classes = probs.shape[1]\n",
        "#     labels_ohe = np.eye(n_classes)[labels.astype(np.int64)]\n",
        "\n",
        "#     midpoints = []\n",
        "#     mean_confidences = []\n",
        "#     accuracies = []\n",
        "\n",
        "#     for i in range(bins):\n",
        "#         beg = i * step_size\n",
        "#         end = (i + 1) * step_size\n",
        "\n",
        "#         bin_mask = (probs >= beg) & (probs < end)\n",
        "#         bin_cnt = bin_mask.astype(np.float32).sum()\n",
        "#         if bin_cnt == 0:\n",
        "#             continue\n",
        "#         bin_confs = probs[bin_mask]\n",
        "#         bin_acc = labels_ohe[bin_mask].sum() / bin_cnt\n",
        "\n",
        "#         midpoints.append((beg+end)/2.)\n",
        "#         mean_confidences.append(np.mean(bin_confs))\n",
        "#         accuracies.append(bin_acc)\n",
        "\n",
        "#     return midpoints, accuracies, mean_confidences\n",
        "\n",
        "# # # Apply Gaussian noise and reshape correctly\n",
        "# # noisy_x_test = np.array([apply_gaussian_noise(img, num_samples) for img in test_image])\n",
        "# # noisy_x_test = noisy_x_test.reshape(-1, *test_image.shape[1:])  # Flatten to (batch_size, H, W, C)\n",
        "# # print(test_image.shape)\n",
        "# # print(noisy_x_test.shape)\n",
        "# # # Get predictions for full test set\n",
        "# # y_preds_test = model.predict(noisy_x_test)\n",
        "\n",
        "# # Compute probabilities and calibration curve\n",
        "# probs = mean_prediction\n",
        "# labels = np.argmax(y_test, axis=1)\n",
        "\n",
        "# # Compute calibration curve\n",
        "# midpoints, accuracies, mean_confidences = multiclass_calibration_curve(probs, labels)\n",
        "\n",
        "# # Plot calibration curve\n",
        "# plt.figure(figsize=(6, 6))\n",
        "# plt.plot(midpoints, accuracies, marker='o', linestyle='-', label='Actual')\n",
        "# plt.plot(midpoints, mean_confidences, marker='s', linestyle='--', label='Confidence')\n",
        "# plt.plot([0, 1], [0, 1], linestyle='dashed', color='gray')  # Perfect calibration line\n",
        "# plt.xlabel(\"Confidence\")\n",
        "# plt.ylabel(\"Accuracy\")\n",
        "# plt.title(\"Calibration Curve with Gaussian Noise Perturbations\")\n",
        "# plt.legend()\n",
        "# plt.grid()\n",
        "# plt.show()\n"
      ],
      "metadata": {
        "colab": {
          "base_uri": "https://localhost:8080/",
          "height": 332
        },
        "id": "SSJktmFYr_dF",
        "outputId": "fdc2de6f-e8ff-474c-b732-f410fb48179a"
      },
      "execution_count": null,
      "outputs": [
        {
          "output_type": "error",
          "ename": "IndexError",
          "evalue": "boolean index did not match indexed array along dimension 0; dimension is 400 but corresponding boolean dimension is 1",
          "traceback": [
            "\u001b[0;31m---------------------------------------------------------------------------\u001b[0m",
            "\u001b[0;31mIndexError\u001b[0m                                Traceback (most recent call last)",
            "\u001b[0;32m<ipython-input-44-b72cf44c1f9f>\u001b[0m in \u001b[0;36m<cell line: 0>\u001b[0;34m()\u001b[0m\n\u001b[1;32m     39\u001b[0m \u001b[0;34m\u001b[0m\u001b[0m\n\u001b[1;32m     40\u001b[0m \u001b[0;31m# Compute calibration curve\u001b[0m\u001b[0;34m\u001b[0m\u001b[0;34m\u001b[0m\u001b[0m\n\u001b[0;32m---> 41\u001b[0;31m \u001b[0mmidpoints\u001b[0m\u001b[0;34m,\u001b[0m \u001b[0maccuracies\u001b[0m\u001b[0;34m,\u001b[0m \u001b[0mmean_confidences\u001b[0m \u001b[0;34m=\u001b[0m \u001b[0mmulticlass_calibration_curve\u001b[0m\u001b[0;34m(\u001b[0m\u001b[0mprobs\u001b[0m\u001b[0;34m,\u001b[0m \u001b[0mlabels\u001b[0m\u001b[0;34m)\u001b[0m\u001b[0;34m\u001b[0m\u001b[0;34m\u001b[0m\u001b[0m\n\u001b[0m\u001b[1;32m     42\u001b[0m \u001b[0;34m\u001b[0m\u001b[0m\n\u001b[1;32m     43\u001b[0m \u001b[0;31m# Plot calibration curve\u001b[0m\u001b[0;34m\u001b[0m\u001b[0;34m\u001b[0m\u001b[0m\n",
            "\u001b[0;32m<ipython-input-44-b72cf44c1f9f>\u001b[0m in \u001b[0;36mmulticlass_calibration_curve\u001b[0;34m(probs, labels, bins)\u001b[0m\n\u001b[1;32m     18\u001b[0m             \u001b[0;32mcontinue\u001b[0m\u001b[0;34m\u001b[0m\u001b[0;34m\u001b[0m\u001b[0m\n\u001b[1;32m     19\u001b[0m         \u001b[0mbin_confs\u001b[0m \u001b[0;34m=\u001b[0m \u001b[0mprobs\u001b[0m\u001b[0;34m[\u001b[0m\u001b[0mbin_mask\u001b[0m\u001b[0;34m]\u001b[0m\u001b[0;34m\u001b[0m\u001b[0;34m\u001b[0m\u001b[0m\n\u001b[0;32m---> 20\u001b[0;31m         \u001b[0mbin_acc\u001b[0m \u001b[0;34m=\u001b[0m \u001b[0mlabels_ohe\u001b[0m\u001b[0;34m[\u001b[0m\u001b[0mbin_mask\u001b[0m\u001b[0;34m]\u001b[0m\u001b[0;34m.\u001b[0m\u001b[0msum\u001b[0m\u001b[0;34m(\u001b[0m\u001b[0;34m)\u001b[0m \u001b[0;34m/\u001b[0m \u001b[0mbin_cnt\u001b[0m\u001b[0;34m\u001b[0m\u001b[0;34m\u001b[0m\u001b[0m\n\u001b[0m\u001b[1;32m     21\u001b[0m \u001b[0;34m\u001b[0m\u001b[0m\n\u001b[1;32m     22\u001b[0m         \u001b[0mmidpoints\u001b[0m\u001b[0;34m.\u001b[0m\u001b[0mappend\u001b[0m\u001b[0;34m(\u001b[0m\u001b[0;34m(\u001b[0m\u001b[0mbeg\u001b[0m\u001b[0;34m+\u001b[0m\u001b[0mend\u001b[0m\u001b[0;34m)\u001b[0m\u001b[0;34m/\u001b[0m\u001b[0;36m2.\u001b[0m\u001b[0;34m)\u001b[0m\u001b[0;34m\u001b[0m\u001b[0;34m\u001b[0m\u001b[0m\n",
            "\u001b[0;31mIndexError\u001b[0m: boolean index did not match indexed array along dimension 0; dimension is 400 but corresponding boolean dimension is 1"
          ]
        }
      ]
    },
    {
      "cell_type": "code",
      "source": [],
      "metadata": {
        "id": "4Uz3gKMesogp"
      },
      "execution_count": null,
      "outputs": []
    },
    {
      "cell_type": "code",
      "source": [],
      "metadata": {
        "id": "jnj_dhZur_2y"
      },
      "execution_count": null,
      "outputs": []
    },
    {
      "cell_type": "markdown",
      "source": [
        "## TCN Model (Auxiliary Model)"
      ],
      "metadata": {
        "id": "MX03dZeUsBw7"
      }
    },
    {
      "cell_type": "code",
      "source": [
        "TCN_model=model\n",
        "TCN_model.summary()"
      ],
      "metadata": {
        "colab": {
          "base_uri": "https://localhost:8080/",
          "height": 469
        },
        "id": "UKhdkGmir_5i",
        "outputId": "80dfcbff-da49-4855-e213-3268bbe311b1"
      },
      "execution_count": null,
      "outputs": [
        {
          "output_type": "display_data",
          "data": {
            "text/plain": [
              "\u001b[1mModel: \"functional\"\u001b[0m\n"
            ],
            "text/html": [
              "<pre style=\"white-space:pre;overflow-x:auto;line-height:normal;font-family:Menlo,'DejaVu Sans Mono',consolas,'Courier New',monospace\"><span style=\"font-weight: bold\">Model: \"functional\"</span>\n",
              "</pre>\n"
            ]
          },
          "metadata": {}
        },
        {
          "output_type": "display_data",
          "data": {
            "text/plain": [
              "┏━━━━━━━━━━━━━━━━━━━━━━━━━━━━━━━━━━━━━━┳━━━━━━━━━━━━━━━━━━━━━━━━━━━━━┳━━━━━━━━━━━━━━━━━┓\n",
              "┃\u001b[1m \u001b[0m\u001b[1mLayer (type)                        \u001b[0m\u001b[1m \u001b[0m┃\u001b[1m \u001b[0m\u001b[1mOutput Shape               \u001b[0m\u001b[1m \u001b[0m┃\u001b[1m \u001b[0m\u001b[1m        Param #\u001b[0m\u001b[1m \u001b[0m┃\n",
              "┡━━━━━━━━━━━━━━━━━━━━━━━━━━━━━━━━━━━━━━╇━━━━━━━━━━━━━━━━━━━━━━━━━━━━━╇━━━━━━━━━━━━━━━━━┩\n",
              "│ input_layer (\u001b[38;5;33mInputLayer\u001b[0m)             │ (\u001b[38;5;45mNone\u001b[0m, \u001b[38;5;34m28\u001b[0m, \u001b[38;5;34m28\u001b[0m, \u001b[38;5;34m1\u001b[0m)           │               \u001b[38;5;34m0\u001b[0m │\n",
              "├──────────────────────────────────────┼─────────────────────────────┼─────────────────┤\n",
              "│ conv2d (\u001b[38;5;33mConv2D\u001b[0m)                      │ (\u001b[38;5;45mNone\u001b[0m, \u001b[38;5;34m14\u001b[0m, \u001b[38;5;34m14\u001b[0m, \u001b[38;5;34m10\u001b[0m)          │             \u001b[38;5;34m100\u001b[0m │\n",
              "├──────────────────────────────────────┼─────────────────────────────┼─────────────────┤\n",
              "│ batch_normalization                  │ (\u001b[38;5;45mNone\u001b[0m, \u001b[38;5;34m14\u001b[0m, \u001b[38;5;34m14\u001b[0m, \u001b[38;5;34m10\u001b[0m)          │              \u001b[38;5;34m40\u001b[0m │\n",
              "│ (\u001b[38;5;33mBatchNormalization\u001b[0m)                 │                             │                 │\n",
              "├──────────────────────────────────────┼─────────────────────────────┼─────────────────┤\n",
              "│ max_pooling2d (\u001b[38;5;33mMaxPooling2D\u001b[0m)         │ (\u001b[38;5;45mNone\u001b[0m, \u001b[38;5;34m7\u001b[0m, \u001b[38;5;34m7\u001b[0m, \u001b[38;5;34m10\u001b[0m)            │               \u001b[38;5;34m0\u001b[0m │\n",
              "├──────────────────────────────────────┼─────────────────────────────┼─────────────────┤\n",
              "│ dropout (\u001b[38;5;33mDropout\u001b[0m)                    │ (\u001b[38;5;45mNone\u001b[0m, \u001b[38;5;34m7\u001b[0m, \u001b[38;5;34m7\u001b[0m, \u001b[38;5;34m10\u001b[0m)            │               \u001b[38;5;34m0\u001b[0m │\n",
              "├──────────────────────────────────────┼─────────────────────────────┼─────────────────┤\n",
              "│ flatten (\u001b[38;5;33mFlatten\u001b[0m)                    │ (\u001b[38;5;45mNone\u001b[0m, \u001b[38;5;34m490\u001b[0m)                 │               \u001b[38;5;34m0\u001b[0m │\n",
              "├──────────────────────────────────────┼─────────────────────────────┼─────────────────┤\n",
              "│ dense (\u001b[38;5;33mDense\u001b[0m)                        │ (\u001b[38;5;45mNone\u001b[0m, \u001b[38;5;34m10\u001b[0m)                  │           \u001b[38;5;34m4,910\u001b[0m │\n",
              "├──────────────────────────────────────┼─────────────────────────────┼─────────────────┤\n",
              "│ dropout_1 (\u001b[38;5;33mDropout\u001b[0m)                  │ (\u001b[38;5;45mNone\u001b[0m, \u001b[38;5;34m10\u001b[0m)                  │               \u001b[38;5;34m0\u001b[0m │\n",
              "├──────────────────────────────────────┼─────────────────────────────┼─────────────────┤\n",
              "│ dense_1 (\u001b[38;5;33mDense\u001b[0m)                      │ (\u001b[38;5;45mNone\u001b[0m, \u001b[38;5;34m8\u001b[0m)                   │              \u001b[38;5;34m88\u001b[0m │\n",
              "└──────────────────────────────────────┴─────────────────────────────┴─────────────────┘\n"
            ],
            "text/html": [
              "<pre style=\"white-space:pre;overflow-x:auto;line-height:normal;font-family:Menlo,'DejaVu Sans Mono',consolas,'Courier New',monospace\">┏━━━━━━━━━━━━━━━━━━━━━━━━━━━━━━━━━━━━━━┳━━━━━━━━━━━━━━━━━━━━━━━━━━━━━┳━━━━━━━━━━━━━━━━━┓\n",
              "┃<span style=\"font-weight: bold\"> Layer (type)                         </span>┃<span style=\"font-weight: bold\"> Output Shape                </span>┃<span style=\"font-weight: bold\">         Param # </span>┃\n",
              "┡━━━━━━━━━━━━━━━━━━━━━━━━━━━━━━━━━━━━━━╇━━━━━━━━━━━━━━━━━━━━━━━━━━━━━╇━━━━━━━━━━━━━━━━━┩\n",
              "│ input_layer (<span style=\"color: #0087ff; text-decoration-color: #0087ff\">InputLayer</span>)             │ (<span style=\"color: #00d7ff; text-decoration-color: #00d7ff\">None</span>, <span style=\"color: #00af00; text-decoration-color: #00af00\">28</span>, <span style=\"color: #00af00; text-decoration-color: #00af00\">28</span>, <span style=\"color: #00af00; text-decoration-color: #00af00\">1</span>)           │               <span style=\"color: #00af00; text-decoration-color: #00af00\">0</span> │\n",
              "├──────────────────────────────────────┼─────────────────────────────┼─────────────────┤\n",
              "│ conv2d (<span style=\"color: #0087ff; text-decoration-color: #0087ff\">Conv2D</span>)                      │ (<span style=\"color: #00d7ff; text-decoration-color: #00d7ff\">None</span>, <span style=\"color: #00af00; text-decoration-color: #00af00\">14</span>, <span style=\"color: #00af00; text-decoration-color: #00af00\">14</span>, <span style=\"color: #00af00; text-decoration-color: #00af00\">10</span>)          │             <span style=\"color: #00af00; text-decoration-color: #00af00\">100</span> │\n",
              "├──────────────────────────────────────┼─────────────────────────────┼─────────────────┤\n",
              "│ batch_normalization                  │ (<span style=\"color: #00d7ff; text-decoration-color: #00d7ff\">None</span>, <span style=\"color: #00af00; text-decoration-color: #00af00\">14</span>, <span style=\"color: #00af00; text-decoration-color: #00af00\">14</span>, <span style=\"color: #00af00; text-decoration-color: #00af00\">10</span>)          │              <span style=\"color: #00af00; text-decoration-color: #00af00\">40</span> │\n",
              "│ (<span style=\"color: #0087ff; text-decoration-color: #0087ff\">BatchNormalization</span>)                 │                             │                 │\n",
              "├──────────────────────────────────────┼─────────────────────────────┼─────────────────┤\n",
              "│ max_pooling2d (<span style=\"color: #0087ff; text-decoration-color: #0087ff\">MaxPooling2D</span>)         │ (<span style=\"color: #00d7ff; text-decoration-color: #00d7ff\">None</span>, <span style=\"color: #00af00; text-decoration-color: #00af00\">7</span>, <span style=\"color: #00af00; text-decoration-color: #00af00\">7</span>, <span style=\"color: #00af00; text-decoration-color: #00af00\">10</span>)            │               <span style=\"color: #00af00; text-decoration-color: #00af00\">0</span> │\n",
              "├──────────────────────────────────────┼─────────────────────────────┼─────────────────┤\n",
              "│ dropout (<span style=\"color: #0087ff; text-decoration-color: #0087ff\">Dropout</span>)                    │ (<span style=\"color: #00d7ff; text-decoration-color: #00d7ff\">None</span>, <span style=\"color: #00af00; text-decoration-color: #00af00\">7</span>, <span style=\"color: #00af00; text-decoration-color: #00af00\">7</span>, <span style=\"color: #00af00; text-decoration-color: #00af00\">10</span>)            │               <span style=\"color: #00af00; text-decoration-color: #00af00\">0</span> │\n",
              "├──────────────────────────────────────┼─────────────────────────────┼─────────────────┤\n",
              "│ flatten (<span style=\"color: #0087ff; text-decoration-color: #0087ff\">Flatten</span>)                    │ (<span style=\"color: #00d7ff; text-decoration-color: #00d7ff\">None</span>, <span style=\"color: #00af00; text-decoration-color: #00af00\">490</span>)                 │               <span style=\"color: #00af00; text-decoration-color: #00af00\">0</span> │\n",
              "├──────────────────────────────────────┼─────────────────────────────┼─────────────────┤\n",
              "│ dense (<span style=\"color: #0087ff; text-decoration-color: #0087ff\">Dense</span>)                        │ (<span style=\"color: #00d7ff; text-decoration-color: #00d7ff\">None</span>, <span style=\"color: #00af00; text-decoration-color: #00af00\">10</span>)                  │           <span style=\"color: #00af00; text-decoration-color: #00af00\">4,910</span> │\n",
              "├──────────────────────────────────────┼─────────────────────────────┼─────────────────┤\n",
              "│ dropout_1 (<span style=\"color: #0087ff; text-decoration-color: #0087ff\">Dropout</span>)                  │ (<span style=\"color: #00d7ff; text-decoration-color: #00d7ff\">None</span>, <span style=\"color: #00af00; text-decoration-color: #00af00\">10</span>)                  │               <span style=\"color: #00af00; text-decoration-color: #00af00\">0</span> │\n",
              "├──────────────────────────────────────┼─────────────────────────────┼─────────────────┤\n",
              "│ dense_1 (<span style=\"color: #0087ff; text-decoration-color: #0087ff\">Dense</span>)                      │ (<span style=\"color: #00d7ff; text-decoration-color: #00d7ff\">None</span>, <span style=\"color: #00af00; text-decoration-color: #00af00\">8</span>)                   │              <span style=\"color: #00af00; text-decoration-color: #00af00\">88</span> │\n",
              "└──────────────────────────────────────┴─────────────────────────────┴─────────────────┘\n",
              "</pre>\n"
            ]
          },
          "metadata": {}
        },
        {
          "output_type": "display_data",
          "data": {
            "text/plain": [
              "\u001b[1m Total params: \u001b[0m\u001b[38;5;34m15,376\u001b[0m (60.07 KB)\n"
            ],
            "text/html": [
              "<pre style=\"white-space:pre;overflow-x:auto;line-height:normal;font-family:Menlo,'DejaVu Sans Mono',consolas,'Courier New',monospace\"><span style=\"font-weight: bold\"> Total params: </span><span style=\"color: #00af00; text-decoration-color: #00af00\">15,376</span> (60.07 KB)\n",
              "</pre>\n"
            ]
          },
          "metadata": {}
        },
        {
          "output_type": "display_data",
          "data": {
            "text/plain": [
              "\u001b[1m Trainable params: \u001b[0m\u001b[38;5;34m5,118\u001b[0m (19.99 KB)\n"
            ],
            "text/html": [
              "<pre style=\"white-space:pre;overflow-x:auto;line-height:normal;font-family:Menlo,'DejaVu Sans Mono',consolas,'Courier New',monospace\"><span style=\"font-weight: bold\"> Trainable params: </span><span style=\"color: #00af00; text-decoration-color: #00af00\">5,118</span> (19.99 KB)\n",
              "</pre>\n"
            ]
          },
          "metadata": {}
        },
        {
          "output_type": "display_data",
          "data": {
            "text/plain": [
              "\u001b[1m Non-trainable params: \u001b[0m\u001b[38;5;34m20\u001b[0m (80.00 B)\n"
            ],
            "text/html": [
              "<pre style=\"white-space:pre;overflow-x:auto;line-height:normal;font-family:Menlo,'DejaVu Sans Mono',consolas,'Courier New',monospace\"><span style=\"font-weight: bold\"> Non-trainable params: </span><span style=\"color: #00af00; text-decoration-color: #00af00\">20</span> (80.00 B)\n",
              "</pre>\n"
            ]
          },
          "metadata": {}
        },
        {
          "output_type": "display_data",
          "data": {
            "text/plain": [
              "\u001b[1m Optimizer params: \u001b[0m\u001b[38;5;34m10,238\u001b[0m (40.00 KB)\n"
            ],
            "text/html": [
              "<pre style=\"white-space:pre;overflow-x:auto;line-height:normal;font-family:Menlo,'DejaVu Sans Mono',consolas,'Courier New',monospace\"><span style=\"font-weight: bold\"> Optimizer params: </span><span style=\"color: #00af00; text-decoration-color: #00af00\">10,238</span> (40.00 KB)\n",
              "</pre>\n"
            ]
          },
          "metadata": {}
        }
      ]
    },
    {
      "cell_type": "code",
      "source": [
        "from keras.models import Model\n",
        "for layer in TCN_model.layers:\n",
        "    layer.trainable = False\n",
        "\n",
        "\n",
        "# Extract the penultimate layer (feature maps before softmax)\n",
        "feature_extractor = Model(inputs=TCN_model.input, outputs=TCN_model.layers[-3].output)\n",
        "feature_extractor.summary()"
      ],
      "metadata": {
        "colab": {
          "base_uri": "https://localhost:8080/",
          "height": 385
        },
        "id": "_LWBGBDBsF2W",
        "outputId": "0078f633-6573-4ab6-c1f9-bf39a2da4428"
      },
      "execution_count": null,
      "outputs": [
        {
          "output_type": "display_data",
          "data": {
            "text/plain": [
              "\u001b[1mModel: \"functional_3\"\u001b[0m\n"
            ],
            "text/html": [
              "<pre style=\"white-space:pre;overflow-x:auto;line-height:normal;font-family:Menlo,'DejaVu Sans Mono',consolas,'Courier New',monospace\"><span style=\"font-weight: bold\">Model: \"functional_3\"</span>\n",
              "</pre>\n"
            ]
          },
          "metadata": {}
        },
        {
          "output_type": "display_data",
          "data": {
            "text/plain": [
              "┏━━━━━━━━━━━━━━━━━━━━━━━━━━━━━━━━━━━━━━┳━━━━━━━━━━━━━━━━━━━━━━━━━━━━━┳━━━━━━━━━━━━━━━━━┓\n",
              "┃\u001b[1m \u001b[0m\u001b[1mLayer (type)                        \u001b[0m\u001b[1m \u001b[0m┃\u001b[1m \u001b[0m\u001b[1mOutput Shape               \u001b[0m\u001b[1m \u001b[0m┃\u001b[1m \u001b[0m\u001b[1m        Param #\u001b[0m\u001b[1m \u001b[0m┃\n",
              "┡━━━━━━━━━━━━━━━━━━━━━━━━━━━━━━━━━━━━━━╇━━━━━━━━━━━━━━━━━━━━━━━━━━━━━╇━━━━━━━━━━━━━━━━━┩\n",
              "│ input_layer (\u001b[38;5;33mInputLayer\u001b[0m)             │ (\u001b[38;5;45mNone\u001b[0m, \u001b[38;5;34m28\u001b[0m, \u001b[38;5;34m28\u001b[0m, \u001b[38;5;34m1\u001b[0m)           │               \u001b[38;5;34m0\u001b[0m │\n",
              "├──────────────────────────────────────┼─────────────────────────────┼─────────────────┤\n",
              "│ conv2d (\u001b[38;5;33mConv2D\u001b[0m)                      │ (\u001b[38;5;45mNone\u001b[0m, \u001b[38;5;34m14\u001b[0m, \u001b[38;5;34m14\u001b[0m, \u001b[38;5;34m10\u001b[0m)          │             \u001b[38;5;34m100\u001b[0m │\n",
              "├──────────────────────────────────────┼─────────────────────────────┼─────────────────┤\n",
              "│ batch_normalization                  │ (\u001b[38;5;45mNone\u001b[0m, \u001b[38;5;34m14\u001b[0m, \u001b[38;5;34m14\u001b[0m, \u001b[38;5;34m10\u001b[0m)          │              \u001b[38;5;34m40\u001b[0m │\n",
              "│ (\u001b[38;5;33mBatchNormalization\u001b[0m)                 │                             │                 │\n",
              "├──────────────────────────────────────┼─────────────────────────────┼─────────────────┤\n",
              "│ max_pooling2d (\u001b[38;5;33mMaxPooling2D\u001b[0m)         │ (\u001b[38;5;45mNone\u001b[0m, \u001b[38;5;34m7\u001b[0m, \u001b[38;5;34m7\u001b[0m, \u001b[38;5;34m10\u001b[0m)            │               \u001b[38;5;34m0\u001b[0m │\n",
              "├──────────────────────────────────────┼─────────────────────────────┼─────────────────┤\n",
              "│ dropout (\u001b[38;5;33mDropout\u001b[0m)                    │ (\u001b[38;5;45mNone\u001b[0m, \u001b[38;5;34m7\u001b[0m, \u001b[38;5;34m7\u001b[0m, \u001b[38;5;34m10\u001b[0m)            │               \u001b[38;5;34m0\u001b[0m │\n",
              "├──────────────────────────────────────┼─────────────────────────────┼─────────────────┤\n",
              "│ flatten (\u001b[38;5;33mFlatten\u001b[0m)                    │ (\u001b[38;5;45mNone\u001b[0m, \u001b[38;5;34m490\u001b[0m)                 │               \u001b[38;5;34m0\u001b[0m │\n",
              "├──────────────────────────────────────┼─────────────────────────────┼─────────────────┤\n",
              "│ dense (\u001b[38;5;33mDense\u001b[0m)                        │ (\u001b[38;5;45mNone\u001b[0m, \u001b[38;5;34m10\u001b[0m)                  │           \u001b[38;5;34m4,910\u001b[0m │\n",
              "└──────────────────────────────────────┴─────────────────────────────┴─────────────────┘\n"
            ],
            "text/html": [
              "<pre style=\"white-space:pre;overflow-x:auto;line-height:normal;font-family:Menlo,'DejaVu Sans Mono',consolas,'Courier New',monospace\">┏━━━━━━━━━━━━━━━━━━━━━━━━━━━━━━━━━━━━━━┳━━━━━━━━━━━━━━━━━━━━━━━━━━━━━┳━━━━━━━━━━━━━━━━━┓\n",
              "┃<span style=\"font-weight: bold\"> Layer (type)                         </span>┃<span style=\"font-weight: bold\"> Output Shape                </span>┃<span style=\"font-weight: bold\">         Param # </span>┃\n",
              "┡━━━━━━━━━━━━━━━━━━━━━━━━━━━━━━━━━━━━━━╇━━━━━━━━━━━━━━━━━━━━━━━━━━━━━╇━━━━━━━━━━━━━━━━━┩\n",
              "│ input_layer (<span style=\"color: #0087ff; text-decoration-color: #0087ff\">InputLayer</span>)             │ (<span style=\"color: #00d7ff; text-decoration-color: #00d7ff\">None</span>, <span style=\"color: #00af00; text-decoration-color: #00af00\">28</span>, <span style=\"color: #00af00; text-decoration-color: #00af00\">28</span>, <span style=\"color: #00af00; text-decoration-color: #00af00\">1</span>)           │               <span style=\"color: #00af00; text-decoration-color: #00af00\">0</span> │\n",
              "├──────────────────────────────────────┼─────────────────────────────┼─────────────────┤\n",
              "│ conv2d (<span style=\"color: #0087ff; text-decoration-color: #0087ff\">Conv2D</span>)                      │ (<span style=\"color: #00d7ff; text-decoration-color: #00d7ff\">None</span>, <span style=\"color: #00af00; text-decoration-color: #00af00\">14</span>, <span style=\"color: #00af00; text-decoration-color: #00af00\">14</span>, <span style=\"color: #00af00; text-decoration-color: #00af00\">10</span>)          │             <span style=\"color: #00af00; text-decoration-color: #00af00\">100</span> │\n",
              "├──────────────────────────────────────┼─────────────────────────────┼─────────────────┤\n",
              "│ batch_normalization                  │ (<span style=\"color: #00d7ff; text-decoration-color: #00d7ff\">None</span>, <span style=\"color: #00af00; text-decoration-color: #00af00\">14</span>, <span style=\"color: #00af00; text-decoration-color: #00af00\">14</span>, <span style=\"color: #00af00; text-decoration-color: #00af00\">10</span>)          │              <span style=\"color: #00af00; text-decoration-color: #00af00\">40</span> │\n",
              "│ (<span style=\"color: #0087ff; text-decoration-color: #0087ff\">BatchNormalization</span>)                 │                             │                 │\n",
              "├──────────────────────────────────────┼─────────────────────────────┼─────────────────┤\n",
              "│ max_pooling2d (<span style=\"color: #0087ff; text-decoration-color: #0087ff\">MaxPooling2D</span>)         │ (<span style=\"color: #00d7ff; text-decoration-color: #00d7ff\">None</span>, <span style=\"color: #00af00; text-decoration-color: #00af00\">7</span>, <span style=\"color: #00af00; text-decoration-color: #00af00\">7</span>, <span style=\"color: #00af00; text-decoration-color: #00af00\">10</span>)            │               <span style=\"color: #00af00; text-decoration-color: #00af00\">0</span> │\n",
              "├──────────────────────────────────────┼─────────────────────────────┼─────────────────┤\n",
              "│ dropout (<span style=\"color: #0087ff; text-decoration-color: #0087ff\">Dropout</span>)                    │ (<span style=\"color: #00d7ff; text-decoration-color: #00d7ff\">None</span>, <span style=\"color: #00af00; text-decoration-color: #00af00\">7</span>, <span style=\"color: #00af00; text-decoration-color: #00af00\">7</span>, <span style=\"color: #00af00; text-decoration-color: #00af00\">10</span>)            │               <span style=\"color: #00af00; text-decoration-color: #00af00\">0</span> │\n",
              "├──────────────────────────────────────┼─────────────────────────────┼─────────────────┤\n",
              "│ flatten (<span style=\"color: #0087ff; text-decoration-color: #0087ff\">Flatten</span>)                    │ (<span style=\"color: #00d7ff; text-decoration-color: #00d7ff\">None</span>, <span style=\"color: #00af00; text-decoration-color: #00af00\">490</span>)                 │               <span style=\"color: #00af00; text-decoration-color: #00af00\">0</span> │\n",
              "├──────────────────────────────────────┼─────────────────────────────┼─────────────────┤\n",
              "│ dense (<span style=\"color: #0087ff; text-decoration-color: #0087ff\">Dense</span>)                        │ (<span style=\"color: #00d7ff; text-decoration-color: #00d7ff\">None</span>, <span style=\"color: #00af00; text-decoration-color: #00af00\">10</span>)                  │           <span style=\"color: #00af00; text-decoration-color: #00af00\">4,910</span> │\n",
              "└──────────────────────────────────────┴─────────────────────────────┴─────────────────┘\n",
              "</pre>\n"
            ]
          },
          "metadata": {}
        },
        {
          "output_type": "display_data",
          "data": {
            "text/plain": [
              "\u001b[1m Total params: \u001b[0m\u001b[38;5;34m5,050\u001b[0m (19.73 KB)\n"
            ],
            "text/html": [
              "<pre style=\"white-space:pre;overflow-x:auto;line-height:normal;font-family:Menlo,'DejaVu Sans Mono',consolas,'Courier New',monospace\"><span style=\"font-weight: bold\"> Total params: </span><span style=\"color: #00af00; text-decoration-color: #00af00\">5,050</span> (19.73 KB)\n",
              "</pre>\n"
            ]
          },
          "metadata": {}
        },
        {
          "output_type": "display_data",
          "data": {
            "text/plain": [
              "\u001b[1m Trainable params: \u001b[0m\u001b[38;5;34m0\u001b[0m (0.00 B)\n"
            ],
            "text/html": [
              "<pre style=\"white-space:pre;overflow-x:auto;line-height:normal;font-family:Menlo,'DejaVu Sans Mono',consolas,'Courier New',monospace\"><span style=\"font-weight: bold\"> Trainable params: </span><span style=\"color: #00af00; text-decoration-color: #00af00\">0</span> (0.00 B)\n",
              "</pre>\n"
            ]
          },
          "metadata": {}
        },
        {
          "output_type": "display_data",
          "data": {
            "text/plain": [
              "\u001b[1m Non-trainable params: \u001b[0m\u001b[38;5;34m5,050\u001b[0m (19.73 KB)\n"
            ],
            "text/html": [
              "<pre style=\"white-space:pre;overflow-x:auto;line-height:normal;font-family:Menlo,'DejaVu Sans Mono',consolas,'Courier New',monospace\"><span style=\"font-weight: bold\"> Non-trainable params: </span><span style=\"color: #00af00; text-decoration-color: #00af00\">5,050</span> (19.73 KB)\n",
              "</pre>\n"
            ]
          },
          "metadata": {}
        }
      ]
    },
    {
      "cell_type": "code",
      "source": [
        "# Pass these feature maps through ConfidNet\n",
        "x = feature_extractor.output\n",
        "x = Dense(64,activation='relu')(x)\n",
        "x = Dense(32,activation='relu')(x)\n",
        "# x = Dense(10,activation='relu')(x)\n",
        "x = Dense(10,activation='relu')(x)#,kernel_initializer='he_normal',kernel_regularizer=l2(1e-5),bias_regularizer=l2(1e-5))(x)  # Dense layers for confidence prediction\n",
        "confidence_output = Dense(1, activation='sigmoid', name='confidence')(x)#,kernel_initializer='he_normal',kernel_regularizer=l2(1e-5),bias_regularizer=l2(1e-5), name='confidence')(x)"
      ],
      "metadata": {
        "id": "RR-jOutbsKZ-"
      },
      "execution_count": null,
      "outputs": []
    },
    {
      "cell_type": "code",
      "source": [
        "confidnet_model = Model(inputs=TCN_model.input, outputs=[confidence_output])"
      ],
      "metadata": {
        "id": "2PcaYvuswC8k"
      },
      "execution_count": null,
      "outputs": []
    },
    {
      "cell_type": "code",
      "source": [
        "confidnet_model.summary()"
      ],
      "metadata": {
        "colab": {
          "base_uri": "https://localhost:8080/",
          "height": 519
        },
        "id": "qelRZSm9wEu0",
        "outputId": "bc5b7dbc-64e1-4bdd-e6b6-4cb76d741d3b"
      },
      "execution_count": null,
      "outputs": [
        {
          "output_type": "display_data",
          "data": {
            "text/plain": [
              "\u001b[1mModel: \"functional_4\"\u001b[0m\n"
            ],
            "text/html": [
              "<pre style=\"white-space:pre;overflow-x:auto;line-height:normal;font-family:Menlo,'DejaVu Sans Mono',consolas,'Courier New',monospace\"><span style=\"font-weight: bold\">Model: \"functional_4\"</span>\n",
              "</pre>\n"
            ]
          },
          "metadata": {}
        },
        {
          "output_type": "display_data",
          "data": {
            "text/plain": [
              "┏━━━━━━━━━━━━━━━━━━━━━━━━━━━━━━━━━━━━━━┳━━━━━━━━━━━━━━━━━━━━━━━━━━━━━┳━━━━━━━━━━━━━━━━━┓\n",
              "┃\u001b[1m \u001b[0m\u001b[1mLayer (type)                        \u001b[0m\u001b[1m \u001b[0m┃\u001b[1m \u001b[0m\u001b[1mOutput Shape               \u001b[0m\u001b[1m \u001b[0m┃\u001b[1m \u001b[0m\u001b[1m        Param #\u001b[0m\u001b[1m \u001b[0m┃\n",
              "┡━━━━━━━━━━━━━━━━━━━━━━━━━━━━━━━━━━━━━━╇━━━━━━━━━━━━━━━━━━━━━━━━━━━━━╇━━━━━━━━━━━━━━━━━┩\n",
              "│ input_layer (\u001b[38;5;33mInputLayer\u001b[0m)             │ (\u001b[38;5;45mNone\u001b[0m, \u001b[38;5;34m28\u001b[0m, \u001b[38;5;34m28\u001b[0m, \u001b[38;5;34m1\u001b[0m)           │               \u001b[38;5;34m0\u001b[0m │\n",
              "├──────────────────────────────────────┼─────────────────────────────┼─────────────────┤\n",
              "│ conv2d (\u001b[38;5;33mConv2D\u001b[0m)                      │ (\u001b[38;5;45mNone\u001b[0m, \u001b[38;5;34m14\u001b[0m, \u001b[38;5;34m14\u001b[0m, \u001b[38;5;34m10\u001b[0m)          │             \u001b[38;5;34m100\u001b[0m │\n",
              "├──────────────────────────────────────┼─────────────────────────────┼─────────────────┤\n",
              "│ batch_normalization                  │ (\u001b[38;5;45mNone\u001b[0m, \u001b[38;5;34m14\u001b[0m, \u001b[38;5;34m14\u001b[0m, \u001b[38;5;34m10\u001b[0m)          │              \u001b[38;5;34m40\u001b[0m │\n",
              "│ (\u001b[38;5;33mBatchNormalization\u001b[0m)                 │                             │                 │\n",
              "├──────────────────────────────────────┼─────────────────────────────┼─────────────────┤\n",
              "│ max_pooling2d (\u001b[38;5;33mMaxPooling2D\u001b[0m)         │ (\u001b[38;5;45mNone\u001b[0m, \u001b[38;5;34m7\u001b[0m, \u001b[38;5;34m7\u001b[0m, \u001b[38;5;34m10\u001b[0m)            │               \u001b[38;5;34m0\u001b[0m │\n",
              "├──────────────────────────────────────┼─────────────────────────────┼─────────────────┤\n",
              "│ dropout (\u001b[38;5;33mDropout\u001b[0m)                    │ (\u001b[38;5;45mNone\u001b[0m, \u001b[38;5;34m7\u001b[0m, \u001b[38;5;34m7\u001b[0m, \u001b[38;5;34m10\u001b[0m)            │               \u001b[38;5;34m0\u001b[0m │\n",
              "├──────────────────────────────────────┼─────────────────────────────┼─────────────────┤\n",
              "│ flatten (\u001b[38;5;33mFlatten\u001b[0m)                    │ (\u001b[38;5;45mNone\u001b[0m, \u001b[38;5;34m490\u001b[0m)                 │               \u001b[38;5;34m0\u001b[0m │\n",
              "├──────────────────────────────────────┼─────────────────────────────┼─────────────────┤\n",
              "│ dense (\u001b[38;5;33mDense\u001b[0m)                        │ (\u001b[38;5;45mNone\u001b[0m, \u001b[38;5;34m10\u001b[0m)                  │           \u001b[38;5;34m4,910\u001b[0m │\n",
              "├──────────────────────────────────────┼─────────────────────────────┼─────────────────┤\n",
              "│ dense_2 (\u001b[38;5;33mDense\u001b[0m)                      │ (\u001b[38;5;45mNone\u001b[0m, \u001b[38;5;34m64\u001b[0m)                  │             \u001b[38;5;34m704\u001b[0m │\n",
              "├──────────────────────────────────────┼─────────────────────────────┼─────────────────┤\n",
              "│ dense_3 (\u001b[38;5;33mDense\u001b[0m)                      │ (\u001b[38;5;45mNone\u001b[0m, \u001b[38;5;34m32\u001b[0m)                  │           \u001b[38;5;34m2,080\u001b[0m │\n",
              "├──────────────────────────────────────┼─────────────────────────────┼─────────────────┤\n",
              "│ dense_4 (\u001b[38;5;33mDense\u001b[0m)                      │ (\u001b[38;5;45mNone\u001b[0m, \u001b[38;5;34m10\u001b[0m)                  │             \u001b[38;5;34m330\u001b[0m │\n",
              "├──────────────────────────────────────┼─────────────────────────────┼─────────────────┤\n",
              "│ confidence (\u001b[38;5;33mDense\u001b[0m)                   │ (\u001b[38;5;45mNone\u001b[0m, \u001b[38;5;34m1\u001b[0m)                   │              \u001b[38;5;34m11\u001b[0m │\n",
              "└──────────────────────────────────────┴─────────────────────────────┴─────────────────┘\n"
            ],
            "text/html": [
              "<pre style=\"white-space:pre;overflow-x:auto;line-height:normal;font-family:Menlo,'DejaVu Sans Mono',consolas,'Courier New',monospace\">┏━━━━━━━━━━━━━━━━━━━━━━━━━━━━━━━━━━━━━━┳━━━━━━━━━━━━━━━━━━━━━━━━━━━━━┳━━━━━━━━━━━━━━━━━┓\n",
              "┃<span style=\"font-weight: bold\"> Layer (type)                         </span>┃<span style=\"font-weight: bold\"> Output Shape                </span>┃<span style=\"font-weight: bold\">         Param # </span>┃\n",
              "┡━━━━━━━━━━━━━━━━━━━━━━━━━━━━━━━━━━━━━━╇━━━━━━━━━━━━━━━━━━━━━━━━━━━━━╇━━━━━━━━━━━━━━━━━┩\n",
              "│ input_layer (<span style=\"color: #0087ff; text-decoration-color: #0087ff\">InputLayer</span>)             │ (<span style=\"color: #00d7ff; text-decoration-color: #00d7ff\">None</span>, <span style=\"color: #00af00; text-decoration-color: #00af00\">28</span>, <span style=\"color: #00af00; text-decoration-color: #00af00\">28</span>, <span style=\"color: #00af00; text-decoration-color: #00af00\">1</span>)           │               <span style=\"color: #00af00; text-decoration-color: #00af00\">0</span> │\n",
              "├──────────────────────────────────────┼─────────────────────────────┼─────────────────┤\n",
              "│ conv2d (<span style=\"color: #0087ff; text-decoration-color: #0087ff\">Conv2D</span>)                      │ (<span style=\"color: #00d7ff; text-decoration-color: #00d7ff\">None</span>, <span style=\"color: #00af00; text-decoration-color: #00af00\">14</span>, <span style=\"color: #00af00; text-decoration-color: #00af00\">14</span>, <span style=\"color: #00af00; text-decoration-color: #00af00\">10</span>)          │             <span style=\"color: #00af00; text-decoration-color: #00af00\">100</span> │\n",
              "├──────────────────────────────────────┼─────────────────────────────┼─────────────────┤\n",
              "│ batch_normalization                  │ (<span style=\"color: #00d7ff; text-decoration-color: #00d7ff\">None</span>, <span style=\"color: #00af00; text-decoration-color: #00af00\">14</span>, <span style=\"color: #00af00; text-decoration-color: #00af00\">14</span>, <span style=\"color: #00af00; text-decoration-color: #00af00\">10</span>)          │              <span style=\"color: #00af00; text-decoration-color: #00af00\">40</span> │\n",
              "│ (<span style=\"color: #0087ff; text-decoration-color: #0087ff\">BatchNormalization</span>)                 │                             │                 │\n",
              "├──────────────────────────────────────┼─────────────────────────────┼─────────────────┤\n",
              "│ max_pooling2d (<span style=\"color: #0087ff; text-decoration-color: #0087ff\">MaxPooling2D</span>)         │ (<span style=\"color: #00d7ff; text-decoration-color: #00d7ff\">None</span>, <span style=\"color: #00af00; text-decoration-color: #00af00\">7</span>, <span style=\"color: #00af00; text-decoration-color: #00af00\">7</span>, <span style=\"color: #00af00; text-decoration-color: #00af00\">10</span>)            │               <span style=\"color: #00af00; text-decoration-color: #00af00\">0</span> │\n",
              "├──────────────────────────────────────┼─────────────────────────────┼─────────────────┤\n",
              "│ dropout (<span style=\"color: #0087ff; text-decoration-color: #0087ff\">Dropout</span>)                    │ (<span style=\"color: #00d7ff; text-decoration-color: #00d7ff\">None</span>, <span style=\"color: #00af00; text-decoration-color: #00af00\">7</span>, <span style=\"color: #00af00; text-decoration-color: #00af00\">7</span>, <span style=\"color: #00af00; text-decoration-color: #00af00\">10</span>)            │               <span style=\"color: #00af00; text-decoration-color: #00af00\">0</span> │\n",
              "├──────────────────────────────────────┼─────────────────────────────┼─────────────────┤\n",
              "│ flatten (<span style=\"color: #0087ff; text-decoration-color: #0087ff\">Flatten</span>)                    │ (<span style=\"color: #00d7ff; text-decoration-color: #00d7ff\">None</span>, <span style=\"color: #00af00; text-decoration-color: #00af00\">490</span>)                 │               <span style=\"color: #00af00; text-decoration-color: #00af00\">0</span> │\n",
              "├──────────────────────────────────────┼─────────────────────────────┼─────────────────┤\n",
              "│ dense (<span style=\"color: #0087ff; text-decoration-color: #0087ff\">Dense</span>)                        │ (<span style=\"color: #00d7ff; text-decoration-color: #00d7ff\">None</span>, <span style=\"color: #00af00; text-decoration-color: #00af00\">10</span>)                  │           <span style=\"color: #00af00; text-decoration-color: #00af00\">4,910</span> │\n",
              "├──────────────────────────────────────┼─────────────────────────────┼─────────────────┤\n",
              "│ dense_2 (<span style=\"color: #0087ff; text-decoration-color: #0087ff\">Dense</span>)                      │ (<span style=\"color: #00d7ff; text-decoration-color: #00d7ff\">None</span>, <span style=\"color: #00af00; text-decoration-color: #00af00\">64</span>)                  │             <span style=\"color: #00af00; text-decoration-color: #00af00\">704</span> │\n",
              "├──────────────────────────────────────┼─────────────────────────────┼─────────────────┤\n",
              "│ dense_3 (<span style=\"color: #0087ff; text-decoration-color: #0087ff\">Dense</span>)                      │ (<span style=\"color: #00d7ff; text-decoration-color: #00d7ff\">None</span>, <span style=\"color: #00af00; text-decoration-color: #00af00\">32</span>)                  │           <span style=\"color: #00af00; text-decoration-color: #00af00\">2,080</span> │\n",
              "├──────────────────────────────────────┼─────────────────────────────┼─────────────────┤\n",
              "│ dense_4 (<span style=\"color: #0087ff; text-decoration-color: #0087ff\">Dense</span>)                      │ (<span style=\"color: #00d7ff; text-decoration-color: #00d7ff\">None</span>, <span style=\"color: #00af00; text-decoration-color: #00af00\">10</span>)                  │             <span style=\"color: #00af00; text-decoration-color: #00af00\">330</span> │\n",
              "├──────────────────────────────────────┼─────────────────────────────┼─────────────────┤\n",
              "│ confidence (<span style=\"color: #0087ff; text-decoration-color: #0087ff\">Dense</span>)                   │ (<span style=\"color: #00d7ff; text-decoration-color: #00d7ff\">None</span>, <span style=\"color: #00af00; text-decoration-color: #00af00\">1</span>)                   │              <span style=\"color: #00af00; text-decoration-color: #00af00\">11</span> │\n",
              "└──────────────────────────────────────┴─────────────────────────────┴─────────────────┘\n",
              "</pre>\n"
            ]
          },
          "metadata": {}
        },
        {
          "output_type": "display_data",
          "data": {
            "text/plain": [
              "\u001b[1m Total params: \u001b[0m\u001b[38;5;34m8,175\u001b[0m (31.93 KB)\n"
            ],
            "text/html": [
              "<pre style=\"white-space:pre;overflow-x:auto;line-height:normal;font-family:Menlo,'DejaVu Sans Mono',consolas,'Courier New',monospace\"><span style=\"font-weight: bold\"> Total params: </span><span style=\"color: #00af00; text-decoration-color: #00af00\">8,175</span> (31.93 KB)\n",
              "</pre>\n"
            ]
          },
          "metadata": {}
        },
        {
          "output_type": "display_data",
          "data": {
            "text/plain": [
              "\u001b[1m Trainable params: \u001b[0m\u001b[38;5;34m3,125\u001b[0m (12.21 KB)\n"
            ],
            "text/html": [
              "<pre style=\"white-space:pre;overflow-x:auto;line-height:normal;font-family:Menlo,'DejaVu Sans Mono',consolas,'Courier New',monospace\"><span style=\"font-weight: bold\"> Trainable params: </span><span style=\"color: #00af00; text-decoration-color: #00af00\">3,125</span> (12.21 KB)\n",
              "</pre>\n"
            ]
          },
          "metadata": {}
        },
        {
          "output_type": "display_data",
          "data": {
            "text/plain": [
              "\u001b[1m Non-trainable params: \u001b[0m\u001b[38;5;34m5,050\u001b[0m (19.73 KB)\n"
            ],
            "text/html": [
              "<pre style=\"white-space:pre;overflow-x:auto;line-height:normal;font-family:Menlo,'DejaVu Sans Mono',consolas,'Courier New',monospace\"><span style=\"font-weight: bold\"> Non-trainable params: </span><span style=\"color: #00af00; text-decoration-color: #00af00\">5,050</span> (19.73 KB)\n",
              "</pre>\n"
            ]
          },
          "metadata": {}
        }
      ]
    },
    {
      "cell_type": "code",
      "source": [
        "batch_size = 64\n",
        "optimizer = tf.keras.optimizers.Adam(learning_rate=5e-5)"
      ],
      "metadata": {
        "id": "pe8ZS6BiwGIx"
      },
      "execution_count": null,
      "outputs": []
    },
    {
      "cell_type": "code",
      "source": [
        "## Code for TCP-R\n",
        "def l_conf(y_true, y_pred, y_conf):\n",
        "    # y_true: (batch_size, num_classes)\n",
        "    # y_pred: (batch_size, num_classes)\n",
        "    # y_conf: (batch_size, 1)\n",
        "\n",
        "    # Get the index of the true class for each sample\n",
        "    true_indices = tf.argmax(y_true, axis=-1)  # Shape: (batch_size,)\n",
        "\n",
        "    # Get the maximum confidence prediction (MCP) for each sample\n",
        "    max_conf = tf.reduce_max(y_pred, axis=-1)  # Shape: (batch_size,)\n",
        "\n",
        "    # Gather the predicted confidence for the true class (TCP)\n",
        "    c_star = tf.gather(y_pred, true_indices, axis=1, batch_dims=1)  # Shape: (batch_size,)\n",
        "    c_star_normalized = tf.where(\n",
        "        tf.equal(c_star, max_conf),  # Condition: if c_star == max_conf\n",
        "        c_star / (max_conf + 1e-8),  # True branch: c_star / (max_conf + 1e-8)\n",
        "        c_star / (c_star + max_conf + 1e-8)  # False branch: c_star / (c_star + max_conf + 1e-8)\n",
        "    )\n",
        "    # print(c_star_normalized)\n",
        "\n",
        "    # Normalize the true class confidence by the maximum confidence (TCP/MCP)\n",
        "   # c_star_normalized = c_star / (max_conf + 1e-8)  # Shape: (batch_size,)\n",
        "\n",
        "    # Reshape c_star_normalized to match y_conf shape\n",
        "    c_star_normalized = tf.expand_dims(c_star_normalized, axis=-1)  # Shape: (batch_size, 1)\n",
        "\n",
        "    # Create sample weights\n",
        "    # Assign a higher weight to error examples (where c_star_normalized < 1)\n",
        "    # and a lower weight to success examples (where c_star_normalized == 1)\n",
        "    success_mask = tf.cast(tf.equal(c_star_normalized, 1.0), tf.float32)\n",
        "    #print(success_mask)\n",
        "    error_mask = tf.cast(tf.less(c_star_normalized, 1.0), tf.float32)\n",
        "    #print(error_mask)\n",
        "\n",
        "    # Define weights\n",
        "    success_weight = 1  # Adjust this value as needed\n",
        "    error_weight = 1    # Adjust this value as needed\n",
        "\n",
        "    # Compute sample weights\n",
        "    sample_weights = success_weight * success_mask + error_weight * error_mask  # Shape: (batch_size, 1)\n",
        "\n",
        "    # Compute the per-sample MSE loss without reduction\n",
        "    mse = tf.keras.losses.MeanSquaredError(reduction=tf.keras.losses.Reduction.NONE)\n",
        "    loss_per_sample = mse(c_star_normalized, y_conf)  # Shape: (batch_size, 1)\n",
        "\n",
        "    # Apply sample weights\n",
        "    weighted_loss = loss_per_sample * sample_weights  # Shape: (batch_size, 1)\n",
        "\n",
        "    # Compute the mean loss over the batch\n",
        "    loss = tf.reduce_mean(weighted_loss)\n",
        "\n",
        "    return loss\n"
      ],
      "metadata": {
        "id": "1yLAajUqwNBT"
      },
      "execution_count": null,
      "outputs": []
    },
    {
      "cell_type": "code",
      "source": [
        "# def l_conf(y_true, y_pred, y_conf):\n",
        "#     # y_true: (batch_size, num_classes)\n",
        "#     # y_pred: (batch_size, num_classes)\n",
        "#     # y_conf: (batch_size, 1)\n",
        "\n",
        "#     # Get the index of the true class for each sample\n",
        "#     true_indices = tf.argmax(y_true, axis=-1)  # Shape: (batch_size,)\n",
        "\n",
        "#     # Get the maximum confidence prediction (MCP) for each sample\n",
        "#     max_conf = tf.reduce_max(y_pred, axis=-1)  # Shape: (batch_size,)\n",
        "\n",
        "#     # Gather the predicted confidence for the true class (TCP)\n",
        "#     c_star = tf.gather(y_pred, true_indices, axis=1, batch_dims=1)  # Shape: (batch_size,)\n",
        "#     c_star_normalized = tf.where(\n",
        "#         tf.equal(c_star, max_conf),  # Condition: if c_star == max_conf\n",
        "#         c_star / (max_conf + 1e-8),  # True branch: c_star / (max_conf + 1e-8)\n",
        "#         c_star / (c_star + max_conf + 1e-8)  # False branch: c_star / (c_star + max_conf + 1e-8)\n",
        "#     )\n",
        "\n",
        "#     # Normalize the true class confidence by the maximum confidence (TCP/MCP)\n",
        "#    # c_star_normalized = c_star / (max_conf + 1e-8)  # Shape: (batch_size,)\n",
        "\n",
        "#     # Reshape c_star_normalized to match y_conf shape\n",
        "#     c_star_normalized = tf.expand_dims(c_star, axis=-1)  # Shape: (batch_size, 1)\n",
        "\n",
        "#     # Create sample weights\n",
        "#     # Assign a higher weight to error examples (where c_star_normalized < 1)\n",
        "#     # and a lower weight to success examples (where c_star_normalized == 1)\n",
        "#     success_mask = tf.cast(tf.equal(c_star_normalized, 1.0), tf.float32)\n",
        "#     #print(success_mask)\n",
        "#     error_mask = tf.cast(tf.less(c_star_normalized, 1.0), tf.float32)\n",
        "#     #print(error_mask)\n",
        "\n",
        "#     # Define weights\n",
        "#     success_weight = 1  # Adjust this value as needed\n",
        "#     error_weight = 1    # Adjust this value as needed\n",
        "\n",
        "#     # Compute sample weights\n",
        "#     sample_weights = success_weight * success_mask + error_weight * error_mask  # Shape: (batch_size, 1)\n",
        "\n",
        "#     # Compute the per-sample MSE loss without reduction\n",
        "#     mse = tf.keras.losses.MeanSquaredError(reduction=tf.keras.losses.Reduction.NONE)\n",
        "#     loss_per_sample = mse(c_star_normalized, y_conf)  # Shape: (batch_size, 1)\n",
        "\n",
        "#     # Apply sample weights\n",
        "#     weighted_loss = loss_per_sample  # Shape: (batch_size, 1)\n",
        "\n",
        "#     # Compute the mean loss over the batch\n",
        "#     loss = tf.reduce_mean(weighted_loss)\n",
        "\n",
        "#     return loss\n"
      ],
      "metadata": {
        "id": "r6cyP5LpTBzP"
      },
      "execution_count": null,
      "outputs": []
    },
    {
      "cell_type": "code",
      "source": [
        "def train_step(x, y):\n",
        "    with tf.GradientTape() as tape:\n",
        "        y_pre = TCN_model(x, training=True)  # Shape: (batch_size, num_classes)\n",
        "        y_conf = confidnet_model(x, training=True)  # Shape: (batch_size, 1)\n",
        "\n",
        "        # Calculate loss with the updated loss function\n",
        "        loss = l_conf(y, y_pre, y_conf)\n",
        "    grads = tape.gradient(loss, confidnet_model.trainable_variables)\n",
        "    optimizer.apply_gradients(zip(grads, confidnet_model.trainable_variables))\n",
        "    return loss\n",
        "\n",
        "def test_step(x, y):\n",
        "    y_pre = TCN_model(x, training=False)  # Shape: (batch_size, num_classes)\n",
        "    y_conf = confidnet_model(x, training=False)  # Shape: (batch_size, 1)\n",
        "    loss = l_conf(y, y_pre, y_conf)\n",
        "    return loss\n"
      ],
      "metadata": {
        "id": "saPz6X56wkU_"
      },
      "execution_count": null,
      "outputs": []
    },
    {
      "cell_type": "code",
      "source": [
        "epochs=200"
      ],
      "metadata": {
        "id": "DinyWtrkwue6"
      },
      "execution_count": null,
      "outputs": []
    },
    {
      "cell_type": "code",
      "source": [
        "y_train.shape"
      ],
      "metadata": {
        "colab": {
          "base_uri": "https://localhost:8080/"
        },
        "id": "40So86ttw4w0",
        "outputId": "66ce9363-6ab5-4746-eeb2-9e2b5e480c62"
      },
      "execution_count": null,
      "outputs": [
        {
          "output_type": "execute_result",
          "data": {
            "text/plain": [
              "(1280, 8)"
            ]
          },
          "metadata": {},
          "execution_count": 97
        }
      ]
    },
    {
      "cell_type": "code",
      "source": [
        "# Create the balanced training dataset\n",
        "train_dataset = tf.data.Dataset.from_tensor_slices((x_train, y_train))\n",
        "train_dataset = train_dataset.shuffle(buffer_size=1000).batch(batch_size).prefetch(tf.data.AUTOTUNE)"
      ],
      "metadata": {
        "id": "MVQChw1uw2a2"
      },
      "execution_count": null,
      "outputs": []
    },
    {
      "cell_type": "code",
      "source": [
        "# Optimize dataset for validation\n",
        "val_dataset = tf.data.Dataset.from_tensor_slices((x_val, y_val))\n",
        "#val_dataset = val_dataset.batch(batch_size, drop_remainder=True).prefetch(tf.data.AUTOTUNE)\n",
        "val_dataset = val_dataset.batch(batch_size).prefetch(tf.data.AUTOTUNE)"
      ],
      "metadata": {
        "id": "QxUROCI3w2dv"
      },
      "execution_count": null,
      "outputs": []
    },
    {
      "cell_type": "code",
      "source": [
        "# for x, y in train_dataset.take(1).as_numpy_iterator():\n",
        "#     print(\"Input Sample (x):\", x.shape)\n",
        "#     print(\"Label (y):\", y)"
      ],
      "metadata": {
        "id": "DDMxUsFjxeuV"
      },
      "execution_count": null,
      "outputs": []
    },
    {
      "cell_type": "code",
      "source": [
        "import numpy as np\n",
        "import scipy.stats as stats\n",
        "\n",
        "def compute_sample_weights(pred_values, num_bins=10):\n",
        "    \"\"\"\n",
        "    Compute sample weights based on the probability density function (PDF) of predicted values.\n",
        "\n",
        "    Parameters:\n",
        "    - pred_values (numpy array): Array of predicted values (between 0 and 1).\n",
        "    - num_bins (int): Number of bins for density estimation.\n",
        "\n",
        "    Returns:\n",
        "    - weights (numpy array): Computed sample weights.\n",
        "    \"\"\"\n",
        "    pred_values = np.asarray(pred_values)\n",
        "\n",
        "    # Estimate PDF using Kernel Density Estimation (KDE)\n",
        "    kde = stats.gaussian_kde(pred_values)\n",
        "\n",
        "    # Compute PDF for each sample\n",
        "    pdf_values = kde(pred_values)\n",
        "\n",
        "    # Compute weights as inverse of PDF\n",
        "    weights = 1.0 / (pdf_values + 1e-6)  # Adding epsilon to avoid division by zero\n",
        "\n",
        "    # Normalize weights to keep them in a reasonable range\n",
        "    weights /= np.max(weights)\n",
        "\n",
        "    return weights\n",
        "\n",
        "# Example Usage\n",
        "pred_values = np.random.rand(1000)  # Simulating predicted values between 0 and 1\n",
        "sample_weights = compute_sample_weights(pred_values)\n",
        "\n",
        "print(sample_weights[:10])  # Print first 10 weights\n"
      ],
      "metadata": {
        "id": "Pz1MqB1h-zaP"
      },
      "execution_count": null,
      "outputs": []
    },
    {
      "cell_type": "code",
      "source": [
        "def train_step(x, y):\n",
        "    with tf.GradientTape() as tape:\n",
        "        y_pre = TCN_model(x, training=True)  # Shape: (batch_size, num_classes)\n",
        "        y_conf = confidnet_model(x, training=True)  # Shape: (batch_size, 1)\n",
        "\n",
        "        # Calculate loss with the updated loss function\n",
        "        loss = l_conf(y, y_pre, y_conf)\n",
        "    grads = tape.gradient(loss, confidnet_model.trainable_variables)\n",
        "    optimizer.apply_gradients(zip(grads, confidnet_model.trainable_variables))\n",
        "    return loss\n",
        "\n",
        "def test_step(x, y):\n",
        "    y_pre = TCN_model(x, training=False)  # Shape: (batch_size, num_classes)\n",
        "    y_conf = confidnet_model(x, training=False)  # Shape: (batch_size, 1)\n",
        "    loss = l_conf(y, y_pre, y_conf)\n",
        "    return loss\n"
      ],
      "metadata": {
        "id": "6IRBMEc5H1YW"
      },
      "execution_count": null,
      "outputs": []
    },
    {
      "cell_type": "code",
      "source": [
        "\n",
        "# Training loop remains the same\n",
        "from tqdm import tqdm\n",
        "\n",
        "for epoch in range(epochs):\n",
        "    print(f'Epoch {epoch + 1}/{epochs}')\n",
        "\n",
        "    # Training step\n",
        "    for step, (x_batch, y_batch) in enumerate(tqdm(val_dataset, total=len(val_dataset))):\n",
        "        loss_value = train_step(x_batch, y_batch)\n",
        "\n",
        "    # Validation step\n",
        "    total_val_loss = 0\n",
        "    for x_val_batch, y_val_batch in val_dataset:\n",
        "        val_loss_value = test_step(x_val_batch, y_val_batch)\n",
        "        total_val_loss += val_loss_value\n",
        "\n",
        "    avg_val_loss = total_val_loss / len(val_dataset)\n",
        "    print(f'Validation Loss: {avg_val_loss.numpy():.4f}')"
      ],
      "metadata": {
        "colab": {
          "base_uri": "https://localhost:8080/"
        },
        "id": "nFe3hH-RIQF_",
        "outputId": "1874101d-b0a5-4ac3-8604-dc4017b08ee0"
      },
      "execution_count": null,
      "outputs": [
        {
          "output_type": "stream",
          "name": "stdout",
          "text": [
            "Epoch 1/200\n"
          ]
        },
        {
          "output_type": "stream",
          "name": "stderr",
          "text": [
            "100%|██████████| 5/5 [00:00<00:00,  9.19it/s]\n"
          ]
        },
        {
          "output_type": "stream",
          "name": "stdout",
          "text": [
            "Validation Loss: 0.1735\n",
            "Epoch 2/200\n"
          ]
        },
        {
          "output_type": "stream",
          "name": "stderr",
          "text": [
            "100%|██████████| 5/5 [00:01<00:00,  3.96it/s]\n"
          ]
        },
        {
          "output_type": "stream",
          "name": "stdout",
          "text": [
            "Validation Loss: 0.1703\n",
            "Epoch 3/200\n"
          ]
        },
        {
          "output_type": "stream",
          "name": "stderr",
          "text": [
            "100%|██████████| 5/5 [00:00<00:00,  7.73it/s]\n"
          ]
        },
        {
          "output_type": "stream",
          "name": "stdout",
          "text": [
            "Validation Loss: 0.1670\n",
            "Epoch 4/200\n"
          ]
        },
        {
          "output_type": "stream",
          "name": "stderr",
          "text": [
            "100%|██████████| 5/5 [00:00<00:00,  9.41it/s]\n"
          ]
        },
        {
          "output_type": "stream",
          "name": "stdout",
          "text": [
            "Validation Loss: 0.1637\n",
            "Epoch 5/200\n"
          ]
        },
        {
          "output_type": "stream",
          "name": "stderr",
          "text": [
            "100%|██████████| 5/5 [00:00<00:00,  9.57it/s]\n"
          ]
        },
        {
          "output_type": "stream",
          "name": "stdout",
          "text": [
            "Validation Loss: 0.1604\n",
            "Epoch 6/200\n"
          ]
        },
        {
          "output_type": "stream",
          "name": "stderr",
          "text": [
            "100%|██████████| 5/5 [00:00<00:00,  8.03it/s]\n"
          ]
        },
        {
          "output_type": "stream",
          "name": "stdout",
          "text": [
            "Validation Loss: 0.1572\n",
            "Epoch 7/200\n"
          ]
        },
        {
          "output_type": "stream",
          "name": "stderr",
          "text": [
            "100%|██████████| 5/5 [00:00<00:00,  9.84it/s]\n"
          ]
        },
        {
          "output_type": "stream",
          "name": "stdout",
          "text": [
            "Validation Loss: 0.1541\n",
            "Epoch 8/200\n"
          ]
        },
        {
          "output_type": "stream",
          "name": "stderr",
          "text": [
            "100%|██████████| 5/5 [00:00<00:00,  9.65it/s]\n"
          ]
        },
        {
          "output_type": "stream",
          "name": "stdout",
          "text": [
            "Validation Loss: 0.1511\n",
            "Epoch 9/200\n"
          ]
        },
        {
          "output_type": "stream",
          "name": "stderr",
          "text": [
            "100%|██████████| 5/5 [00:01<00:00,  3.94it/s]\n"
          ]
        },
        {
          "output_type": "stream",
          "name": "stdout",
          "text": [
            "Validation Loss: 0.1482\n",
            "Epoch 10/200\n"
          ]
        },
        {
          "output_type": "stream",
          "name": "stderr",
          "text": [
            "100%|██████████| 5/5 [00:00<00:00,  9.61it/s]\n"
          ]
        },
        {
          "output_type": "stream",
          "name": "stdout",
          "text": [
            "Validation Loss: 0.1454\n",
            "Epoch 11/200\n"
          ]
        },
        {
          "output_type": "stream",
          "name": "stderr",
          "text": [
            "100%|██████████| 5/5 [00:00<00:00,  9.15it/s]\n"
          ]
        },
        {
          "output_type": "stream",
          "name": "stdout",
          "text": [
            "Validation Loss: 0.1426\n",
            "Epoch 12/200\n"
          ]
        },
        {
          "output_type": "stream",
          "name": "stderr",
          "text": [
            "100%|██████████| 5/5 [00:00<00:00,  8.04it/s]\n"
          ]
        },
        {
          "output_type": "stream",
          "name": "stdout",
          "text": [
            "Validation Loss: 0.1400\n",
            "Epoch 13/200\n"
          ]
        },
        {
          "output_type": "stream",
          "name": "stderr",
          "text": [
            "100%|██████████| 5/5 [00:00<00:00,  8.03it/s]\n"
          ]
        },
        {
          "output_type": "stream",
          "name": "stdout",
          "text": [
            "Validation Loss: 0.1374\n",
            "Epoch 14/200\n"
          ]
        },
        {
          "output_type": "stream",
          "name": "stderr",
          "text": [
            "100%|██████████| 5/5 [00:00<00:00,  8.94it/s]\n"
          ]
        },
        {
          "output_type": "stream",
          "name": "stdout",
          "text": [
            "Validation Loss: 0.1348\n",
            "Epoch 15/200\n"
          ]
        },
        {
          "output_type": "stream",
          "name": "stderr",
          "text": [
            "100%|██████████| 5/5 [00:00<00:00,  9.16it/s]\n"
          ]
        },
        {
          "output_type": "stream",
          "name": "stdout",
          "text": [
            "Validation Loss: 0.1323\n",
            "Epoch 16/200\n"
          ]
        },
        {
          "output_type": "stream",
          "name": "stderr",
          "text": [
            "100%|██████████| 5/5 [00:00<00:00,  9.88it/s]\n"
          ]
        },
        {
          "output_type": "stream",
          "name": "stdout",
          "text": [
            "Validation Loss: 0.1299\n",
            "Epoch 17/200\n"
          ]
        },
        {
          "output_type": "stream",
          "name": "stderr",
          "text": [
            "100%|██████████| 5/5 [00:00<00:00,  9.35it/s]\n"
          ]
        },
        {
          "output_type": "stream",
          "name": "stdout",
          "text": [
            "Validation Loss: 0.1274\n",
            "Epoch 18/200\n"
          ]
        },
        {
          "output_type": "stream",
          "name": "stderr",
          "text": [
            "100%|██████████| 5/5 [00:00<00:00,  9.82it/s]\n"
          ]
        },
        {
          "output_type": "stream",
          "name": "stdout",
          "text": [
            "Validation Loss: 0.1251\n",
            "Epoch 19/200\n"
          ]
        },
        {
          "output_type": "stream",
          "name": "stderr",
          "text": [
            "100%|██████████| 5/5 [00:00<00:00,  9.52it/s]\n"
          ]
        },
        {
          "output_type": "stream",
          "name": "stdout",
          "text": [
            "Validation Loss: 0.1228\n",
            "Epoch 20/200\n"
          ]
        },
        {
          "output_type": "stream",
          "name": "stderr",
          "text": [
            "100%|██████████| 5/5 [00:00<00:00,  9.14it/s]\n"
          ]
        },
        {
          "output_type": "stream",
          "name": "stdout",
          "text": [
            "Validation Loss: 0.1206\n",
            "Epoch 21/200\n"
          ]
        },
        {
          "output_type": "stream",
          "name": "stderr",
          "text": [
            "100%|██████████| 5/5 [00:00<00:00,  8.04it/s]\n"
          ]
        },
        {
          "output_type": "stream",
          "name": "stdout",
          "text": [
            "Validation Loss: 0.1184\n",
            "Epoch 22/200\n"
          ]
        },
        {
          "output_type": "stream",
          "name": "stderr",
          "text": [
            "100%|██████████| 5/5 [00:00<00:00,  8.00it/s]\n"
          ]
        },
        {
          "output_type": "stream",
          "name": "stdout",
          "text": [
            "Validation Loss: 0.1163\n",
            "Epoch 23/200\n"
          ]
        },
        {
          "output_type": "stream",
          "name": "stderr",
          "text": [
            "100%|██████████| 5/5 [00:00<00:00,  8.03it/s]\n"
          ]
        },
        {
          "output_type": "stream",
          "name": "stdout",
          "text": [
            "Validation Loss: 0.1143\n",
            "Epoch 24/200\n"
          ]
        },
        {
          "output_type": "stream",
          "name": "stderr",
          "text": [
            "100%|██████████| 5/5 [00:00<00:00,  8.03it/s]\n"
          ]
        },
        {
          "output_type": "stream",
          "name": "stdout",
          "text": [
            "Validation Loss: 0.1124\n",
            "Epoch 25/200\n"
          ]
        },
        {
          "output_type": "stream",
          "name": "stderr",
          "text": [
            "100%|██████████| 5/5 [00:01<00:00,  3.96it/s]\n"
          ]
        },
        {
          "output_type": "stream",
          "name": "stdout",
          "text": [
            "Validation Loss: 0.1105\n",
            "Epoch 26/200\n"
          ]
        },
        {
          "output_type": "stream",
          "name": "stderr",
          "text": [
            "100%|██████████| 5/5 [00:00<00:00,  8.03it/s]\n"
          ]
        },
        {
          "output_type": "stream",
          "name": "stdout",
          "text": [
            "Validation Loss: 0.1087\n",
            "Epoch 27/200\n"
          ]
        },
        {
          "output_type": "stream",
          "name": "stderr",
          "text": [
            "100%|██████████| 5/5 [00:00<00:00,  9.49it/s]\n"
          ]
        },
        {
          "output_type": "stream",
          "name": "stdout",
          "text": [
            "Validation Loss: 0.1068\n",
            "Epoch 28/200\n"
          ]
        },
        {
          "output_type": "stream",
          "name": "stderr",
          "text": [
            "100%|██████████| 5/5 [00:00<00:00,  8.03it/s]\n"
          ]
        },
        {
          "output_type": "stream",
          "name": "stdout",
          "text": [
            "Validation Loss: 0.1050\n",
            "Epoch 29/200\n"
          ]
        },
        {
          "output_type": "stream",
          "name": "stderr",
          "text": [
            "100%|██████████| 5/5 [00:00<00:00,  9.38it/s]\n"
          ]
        },
        {
          "output_type": "stream",
          "name": "stdout",
          "text": [
            "Validation Loss: 0.1032\n",
            "Epoch 30/200\n"
          ]
        },
        {
          "output_type": "stream",
          "name": "stderr",
          "text": [
            "100%|██████████| 5/5 [00:00<00:00,  8.04it/s]\n"
          ]
        },
        {
          "output_type": "stream",
          "name": "stdout",
          "text": [
            "Validation Loss: 0.1015\n",
            "Epoch 31/200\n"
          ]
        },
        {
          "output_type": "stream",
          "name": "stderr",
          "text": [
            "100%|██████████| 5/5 [00:00<00:00,  9.33it/s]\n"
          ]
        },
        {
          "output_type": "stream",
          "name": "stdout",
          "text": [
            "Validation Loss: 0.0998\n",
            "Epoch 32/200\n"
          ]
        },
        {
          "output_type": "stream",
          "name": "stderr",
          "text": [
            "100%|██████████| 5/5 [00:00<00:00,  8.04it/s]\n"
          ]
        },
        {
          "output_type": "stream",
          "name": "stdout",
          "text": [
            "Validation Loss: 0.0981\n",
            "Epoch 33/200\n"
          ]
        },
        {
          "output_type": "stream",
          "name": "stderr",
          "text": [
            "100%|██████████| 5/5 [00:00<00:00,  5.22it/s]\n"
          ]
        },
        {
          "output_type": "stream",
          "name": "stdout",
          "text": [
            "Validation Loss: 0.0965\n",
            "Epoch 34/200\n"
          ]
        },
        {
          "output_type": "stream",
          "name": "stderr",
          "text": [
            "100%|██████████| 5/5 [00:00<00:00,  8.03it/s]\n"
          ]
        },
        {
          "output_type": "stream",
          "name": "stdout",
          "text": [
            "Validation Loss: 0.0949\n",
            "Epoch 35/200\n"
          ]
        },
        {
          "output_type": "stream",
          "name": "stderr",
          "text": [
            "100%|██████████| 5/5 [00:00<00:00,  9.98it/s]\n"
          ]
        },
        {
          "output_type": "stream",
          "name": "stdout",
          "text": [
            "Validation Loss: 0.0934\n",
            "Epoch 36/200\n"
          ]
        },
        {
          "output_type": "stream",
          "name": "stderr",
          "text": [
            "100%|██████████| 5/5 [00:00<00:00,  8.05it/s]\n"
          ]
        },
        {
          "output_type": "stream",
          "name": "stdout",
          "text": [
            "Validation Loss: 0.0919\n",
            "Epoch 37/200\n"
          ]
        },
        {
          "output_type": "stream",
          "name": "stderr",
          "text": [
            "100%|██████████| 5/5 [00:00<00:00,  8.04it/s]\n"
          ]
        },
        {
          "output_type": "stream",
          "name": "stdout",
          "text": [
            "Validation Loss: 0.0904\n",
            "Epoch 38/200\n"
          ]
        },
        {
          "output_type": "stream",
          "name": "stderr",
          "text": [
            "100%|██████████| 5/5 [00:00<00:00,  8.04it/s]\n"
          ]
        },
        {
          "output_type": "stream",
          "name": "stdout",
          "text": [
            "Validation Loss: 0.0890\n",
            "Epoch 39/200\n"
          ]
        },
        {
          "output_type": "stream",
          "name": "stderr",
          "text": [
            "100%|██████████| 5/5 [00:00<00:00,  8.85it/s]\n"
          ]
        },
        {
          "output_type": "stream",
          "name": "stdout",
          "text": [
            "Validation Loss: 0.0876\n",
            "Epoch 40/200\n"
          ]
        },
        {
          "output_type": "stream",
          "name": "stderr",
          "text": [
            "100%|██████████| 5/5 [00:01<00:00,  3.96it/s]\n"
          ]
        },
        {
          "output_type": "stream",
          "name": "stdout",
          "text": [
            "Validation Loss: 0.0863\n",
            "Epoch 41/200\n"
          ]
        },
        {
          "output_type": "stream",
          "name": "stderr",
          "text": [
            "100%|██████████| 5/5 [00:00<00:00,  9.41it/s]\n"
          ]
        },
        {
          "output_type": "stream",
          "name": "stdout",
          "text": [
            "Validation Loss: 0.0850\n",
            "Epoch 42/200\n"
          ]
        },
        {
          "output_type": "stream",
          "name": "stderr",
          "text": [
            "100%|██████████| 5/5 [00:00<00:00,  9.50it/s]\n"
          ]
        },
        {
          "output_type": "stream",
          "name": "stdout",
          "text": [
            "Validation Loss: 0.0838\n",
            "Epoch 43/200\n"
          ]
        },
        {
          "output_type": "stream",
          "name": "stderr",
          "text": [
            "100%|██████████| 5/5 [00:00<00:00,  9.64it/s]\n"
          ]
        },
        {
          "output_type": "stream",
          "name": "stdout",
          "text": [
            "Validation Loss: 0.0826\n",
            "Epoch 44/200\n"
          ]
        },
        {
          "output_type": "stream",
          "name": "stderr",
          "text": [
            "100%|██████████| 5/5 [00:00<00:00,  9.42it/s]\n"
          ]
        },
        {
          "output_type": "stream",
          "name": "stdout",
          "text": [
            "Validation Loss: 0.0815\n",
            "Epoch 45/200\n"
          ]
        },
        {
          "output_type": "stream",
          "name": "stderr",
          "text": [
            "100%|██████████| 5/5 [00:00<00:00,  8.04it/s]\n"
          ]
        },
        {
          "output_type": "stream",
          "name": "stdout",
          "text": [
            "Validation Loss: 0.0803\n",
            "Epoch 46/200\n"
          ]
        },
        {
          "output_type": "stream",
          "name": "stderr",
          "text": [
            "100%|██████████| 5/5 [00:00<00:00,  9.60it/s]\n"
          ]
        },
        {
          "output_type": "stream",
          "name": "stdout",
          "text": [
            "Validation Loss: 0.0792\n",
            "Epoch 47/200\n"
          ]
        },
        {
          "output_type": "stream",
          "name": "stderr",
          "text": [
            "100%|██████████| 5/5 [00:00<00:00,  9.08it/s]\n"
          ]
        },
        {
          "output_type": "stream",
          "name": "stdout",
          "text": [
            "Validation Loss: 0.0781\n",
            "Epoch 48/200\n"
          ]
        },
        {
          "output_type": "stream",
          "name": "stderr",
          "text": [
            "100%|██████████| 5/5 [00:00<00:00,  8.03it/s]\n"
          ]
        },
        {
          "output_type": "stream",
          "name": "stdout",
          "text": [
            "Validation Loss: 0.0771\n",
            "Epoch 49/200\n"
          ]
        },
        {
          "output_type": "stream",
          "name": "stderr",
          "text": [
            "100%|██████████| 5/5 [00:00<00:00,  9.67it/s]\n"
          ]
        },
        {
          "output_type": "stream",
          "name": "stdout",
          "text": [
            "Validation Loss: 0.0761\n",
            "Epoch 50/200\n"
          ]
        },
        {
          "output_type": "stream",
          "name": "stderr",
          "text": [
            "100%|██████████| 5/5 [00:00<00:00,  8.03it/s]\n"
          ]
        },
        {
          "output_type": "stream",
          "name": "stdout",
          "text": [
            "Validation Loss: 0.0751\n",
            "Epoch 51/200\n"
          ]
        },
        {
          "output_type": "stream",
          "name": "stderr",
          "text": [
            "100%|██████████| 5/5 [00:00<00:00,  9.76it/s]\n"
          ]
        },
        {
          "output_type": "stream",
          "name": "stdout",
          "text": [
            "Validation Loss: 0.0742\n",
            "Epoch 52/200\n"
          ]
        },
        {
          "output_type": "stream",
          "name": "stderr",
          "text": [
            "100%|██████████| 5/5 [00:00<00:00,  8.03it/s]\n"
          ]
        },
        {
          "output_type": "stream",
          "name": "stdout",
          "text": [
            "Validation Loss: 0.0733\n",
            "Epoch 53/200\n"
          ]
        },
        {
          "output_type": "stream",
          "name": "stderr",
          "text": [
            "100%|██████████| 5/5 [00:00<00:00,  8.04it/s]\n"
          ]
        },
        {
          "output_type": "stream",
          "name": "stdout",
          "text": [
            "Validation Loss: 0.0724\n",
            "Epoch 54/200\n"
          ]
        },
        {
          "output_type": "stream",
          "name": "stderr",
          "text": [
            "100%|██████████| 5/5 [00:00<00:00,  8.04it/s]\n"
          ]
        },
        {
          "output_type": "stream",
          "name": "stdout",
          "text": [
            "Validation Loss: 0.0716\n",
            "Epoch 55/200\n"
          ]
        },
        {
          "output_type": "stream",
          "name": "stderr",
          "text": [
            "100%|██████████| 5/5 [00:00<00:00,  8.36it/s]\n"
          ]
        },
        {
          "output_type": "stream",
          "name": "stdout",
          "text": [
            "Validation Loss: 0.0708\n",
            "Epoch 56/200\n"
          ]
        },
        {
          "output_type": "stream",
          "name": "stderr",
          "text": [
            "100%|██████████| 5/5 [00:01<00:00,  3.95it/s]\n"
          ]
        },
        {
          "output_type": "stream",
          "name": "stdout",
          "text": [
            "Validation Loss: 0.0700\n",
            "Epoch 57/200\n"
          ]
        },
        {
          "output_type": "stream",
          "name": "stderr",
          "text": [
            "100%|██████████| 5/5 [00:00<00:00,  9.63it/s]\n"
          ]
        },
        {
          "output_type": "stream",
          "name": "stdout",
          "text": [
            "Validation Loss: 0.0692\n",
            "Epoch 58/200\n"
          ]
        },
        {
          "output_type": "stream",
          "name": "stderr",
          "text": [
            "100%|██████████| 5/5 [00:00<00:00,  8.03it/s]\n"
          ]
        },
        {
          "output_type": "stream",
          "name": "stdout",
          "text": [
            "Validation Loss: 0.0685\n",
            "Epoch 59/200\n"
          ]
        },
        {
          "output_type": "stream",
          "name": "stderr",
          "text": [
            "100%|██████████| 5/5 [00:00<00:00,  8.04it/s]\n"
          ]
        },
        {
          "output_type": "stream",
          "name": "stdout",
          "text": [
            "Validation Loss: 0.0678\n",
            "Epoch 60/200\n"
          ]
        },
        {
          "output_type": "stream",
          "name": "stderr",
          "text": [
            "100%|██████████| 5/5 [00:00<00:00,  9.74it/s]\n"
          ]
        },
        {
          "output_type": "stream",
          "name": "stdout",
          "text": [
            "Validation Loss: 0.0671\n",
            "Epoch 61/200\n"
          ]
        },
        {
          "output_type": "stream",
          "name": "stderr",
          "text": [
            "100%|██████████| 5/5 [00:00<00:00,  9.54it/s]\n"
          ]
        },
        {
          "output_type": "stream",
          "name": "stdout",
          "text": [
            "Validation Loss: 0.0665\n",
            "Epoch 62/200\n"
          ]
        },
        {
          "output_type": "stream",
          "name": "stderr",
          "text": [
            "100%|██████████| 5/5 [00:00<00:00,  8.04it/s]\n"
          ]
        },
        {
          "output_type": "stream",
          "name": "stdout",
          "text": [
            "Validation Loss: 0.0658\n",
            "Epoch 63/200\n"
          ]
        },
        {
          "output_type": "stream",
          "name": "stderr",
          "text": [
            "100%|██████████| 5/5 [00:00<00:00,  9.33it/s]\n"
          ]
        },
        {
          "output_type": "stream",
          "name": "stdout",
          "text": [
            "Validation Loss: 0.0652\n",
            "Epoch 64/200\n"
          ]
        },
        {
          "output_type": "stream",
          "name": "stderr",
          "text": [
            "100%|██████████| 5/5 [00:00<00:00,  9.35it/s]\n"
          ]
        },
        {
          "output_type": "stream",
          "name": "stdout",
          "text": [
            "Validation Loss: 0.0646\n",
            "Epoch 65/200\n"
          ]
        },
        {
          "output_type": "stream",
          "name": "stderr",
          "text": [
            "100%|██████████| 5/5 [00:00<00:00,  9.61it/s]\n"
          ]
        },
        {
          "output_type": "stream",
          "name": "stdout",
          "text": [
            "Validation Loss: 0.0641\n",
            "Epoch 66/200\n"
          ]
        },
        {
          "output_type": "stream",
          "name": "stderr",
          "text": [
            "100%|██████████| 5/5 [00:00<00:00,  9.49it/s]\n"
          ]
        },
        {
          "output_type": "stream",
          "name": "stdout",
          "text": [
            "Validation Loss: 0.0635\n",
            "Epoch 67/200\n"
          ]
        },
        {
          "output_type": "stream",
          "name": "stderr",
          "text": [
            "100%|██████████| 5/5 [00:00<00:00,  9.52it/s]\n"
          ]
        },
        {
          "output_type": "stream",
          "name": "stdout",
          "text": [
            "Validation Loss: 0.0629\n",
            "Epoch 68/200\n"
          ]
        },
        {
          "output_type": "stream",
          "name": "stderr",
          "text": [
            "100%|██████████| 5/5 [00:00<00:00,  8.03it/s]\n"
          ]
        },
        {
          "output_type": "stream",
          "name": "stdout",
          "text": [
            "Validation Loss: 0.0624\n",
            "Epoch 69/200\n"
          ]
        },
        {
          "output_type": "stream",
          "name": "stderr",
          "text": [
            "100%|██████████| 5/5 [00:00<00:00,  8.04it/s]\n"
          ]
        },
        {
          "output_type": "stream",
          "name": "stdout",
          "text": [
            "Validation Loss: 0.0619\n",
            "Epoch 70/200\n"
          ]
        },
        {
          "output_type": "stream",
          "name": "stderr",
          "text": [
            "100%|██████████| 5/5 [00:00<00:00,  8.04it/s]\n"
          ]
        },
        {
          "output_type": "stream",
          "name": "stdout",
          "text": [
            "Validation Loss: 0.0615\n",
            "Epoch 71/200\n"
          ]
        },
        {
          "output_type": "stream",
          "name": "stderr",
          "text": [
            "100%|██████████| 5/5 [00:00<00:00,  9.45it/s]\n"
          ]
        },
        {
          "output_type": "stream",
          "name": "stdout",
          "text": [
            "Validation Loss: 0.0610\n",
            "Epoch 72/200\n"
          ]
        },
        {
          "output_type": "stream",
          "name": "stderr",
          "text": [
            "100%|██████████| 5/5 [00:01<00:00,  3.96it/s]\n"
          ]
        },
        {
          "output_type": "stream",
          "name": "stdout",
          "text": [
            "Validation Loss: 0.0605\n",
            "Epoch 73/200\n"
          ]
        },
        {
          "output_type": "stream",
          "name": "stderr",
          "text": [
            "100%|██████████| 5/5 [00:00<00:00,  8.04it/s]\n"
          ]
        },
        {
          "output_type": "stream",
          "name": "stdout",
          "text": [
            "Validation Loss: 0.0601\n",
            "Epoch 74/200\n"
          ]
        },
        {
          "output_type": "stream",
          "name": "stderr",
          "text": [
            "100%|██████████| 5/5 [00:00<00:00,  9.80it/s]\n"
          ]
        },
        {
          "output_type": "stream",
          "name": "stdout",
          "text": [
            "Validation Loss: 0.0597\n",
            "Epoch 75/200\n"
          ]
        },
        {
          "output_type": "stream",
          "name": "stderr",
          "text": [
            "100%|██████████| 5/5 [00:00<00:00,  9.71it/s]\n"
          ]
        },
        {
          "output_type": "stream",
          "name": "stdout",
          "text": [
            "Validation Loss: 0.0593\n",
            "Epoch 76/200\n"
          ]
        },
        {
          "output_type": "stream",
          "name": "stderr",
          "text": [
            "100%|██████████| 5/5 [00:00<00:00,  9.64it/s]\n"
          ]
        },
        {
          "output_type": "stream",
          "name": "stdout",
          "text": [
            "Validation Loss: 0.0589\n",
            "Epoch 77/200\n"
          ]
        },
        {
          "output_type": "stream",
          "name": "stderr",
          "text": [
            "100%|██████████| 5/5 [00:00<00:00,  9.70it/s]\n"
          ]
        },
        {
          "output_type": "stream",
          "name": "stdout",
          "text": [
            "Validation Loss: 0.0586\n",
            "Epoch 78/200\n"
          ]
        },
        {
          "output_type": "stream",
          "name": "stderr",
          "text": [
            "100%|██████████| 5/5 [00:00<00:00,  9.25it/s]\n"
          ]
        },
        {
          "output_type": "stream",
          "name": "stdout",
          "text": [
            "Validation Loss: 0.0582\n",
            "Epoch 79/200\n"
          ]
        },
        {
          "output_type": "stream",
          "name": "stderr",
          "text": [
            "100%|██████████| 5/5 [00:00<00:00,  8.04it/s]\n"
          ]
        },
        {
          "output_type": "stream",
          "name": "stdout",
          "text": [
            "Validation Loss: 0.0578\n",
            "Epoch 80/200\n"
          ]
        },
        {
          "output_type": "stream",
          "name": "stderr",
          "text": [
            "100%|██████████| 5/5 [00:00<00:00,  9.77it/s]\n"
          ]
        },
        {
          "output_type": "stream",
          "name": "stdout",
          "text": [
            "Validation Loss: 0.0575\n",
            "Epoch 81/200\n"
          ]
        },
        {
          "output_type": "stream",
          "name": "stderr",
          "text": [
            "100%|██████████| 5/5 [00:00<00:00,  8.04it/s]\n"
          ]
        },
        {
          "output_type": "stream",
          "name": "stdout",
          "text": [
            "Validation Loss: 0.0571\n",
            "Epoch 82/200\n"
          ]
        },
        {
          "output_type": "stream",
          "name": "stderr",
          "text": [
            "100%|██████████| 5/5 [00:00<00:00,  8.03it/s]\n"
          ]
        },
        {
          "output_type": "stream",
          "name": "stdout",
          "text": [
            "Validation Loss: 0.0568\n",
            "Epoch 83/200\n"
          ]
        },
        {
          "output_type": "stream",
          "name": "stderr",
          "text": [
            "100%|██████████| 5/5 [00:00<00:00,  9.59it/s]\n"
          ]
        },
        {
          "output_type": "stream",
          "name": "stdout",
          "text": [
            "Validation Loss: 0.0565\n",
            "Epoch 84/200\n"
          ]
        },
        {
          "output_type": "stream",
          "name": "stderr",
          "text": [
            "100%|██████████| 5/5 [00:00<00:00,  8.02it/s]\n"
          ]
        },
        {
          "output_type": "stream",
          "name": "stdout",
          "text": [
            "Validation Loss: 0.0561\n",
            "Epoch 85/200\n"
          ]
        },
        {
          "output_type": "stream",
          "name": "stderr",
          "text": [
            "100%|██████████| 5/5 [00:00<00:00,  9.48it/s]\n"
          ]
        },
        {
          "output_type": "stream",
          "name": "stdout",
          "text": [
            "Validation Loss: 0.0558\n",
            "Epoch 86/200\n"
          ]
        },
        {
          "output_type": "stream",
          "name": "stderr",
          "text": [
            "100%|██████████| 5/5 [00:00<00:00,  8.04it/s]\n"
          ]
        },
        {
          "output_type": "stream",
          "name": "stdout",
          "text": [
            "Validation Loss: 0.0556\n",
            "Epoch 87/200\n"
          ]
        },
        {
          "output_type": "stream",
          "name": "stderr",
          "text": [
            "100%|██████████| 5/5 [00:00<00:00,  8.02it/s]\n"
          ]
        },
        {
          "output_type": "stream",
          "name": "stdout",
          "text": [
            "Validation Loss: 0.0553\n",
            "Epoch 88/200\n"
          ]
        },
        {
          "output_type": "stream",
          "name": "stderr",
          "text": [
            "100%|██████████| 5/5 [00:00<00:00,  7.14it/s]\n"
          ]
        },
        {
          "output_type": "stream",
          "name": "stdout",
          "text": [
            "Validation Loss: 0.0551\n",
            "Epoch 89/200\n"
          ]
        },
        {
          "output_type": "stream",
          "name": "stderr",
          "text": [
            "100%|██████████| 5/5 [00:01<00:00,  3.96it/s]\n"
          ]
        },
        {
          "output_type": "stream",
          "name": "stdout",
          "text": [
            "Validation Loss: 0.0548\n",
            "Epoch 90/200\n"
          ]
        },
        {
          "output_type": "stream",
          "name": "stderr",
          "text": [
            "100%|██████████| 5/5 [00:00<00:00,  8.04it/s]\n"
          ]
        },
        {
          "output_type": "stream",
          "name": "stdout",
          "text": [
            "Validation Loss: 0.0546\n",
            "Epoch 91/200\n"
          ]
        },
        {
          "output_type": "stream",
          "name": "stderr",
          "text": [
            "100%|██████████| 5/5 [00:00<00:00,  9.54it/s]\n"
          ]
        },
        {
          "output_type": "stream",
          "name": "stdout",
          "text": [
            "Validation Loss: 0.0543\n",
            "Epoch 92/200\n"
          ]
        },
        {
          "output_type": "stream",
          "name": "stderr",
          "text": [
            "100%|██████████| 5/5 [00:00<00:00,  8.03it/s]\n"
          ]
        },
        {
          "output_type": "stream",
          "name": "stdout",
          "text": [
            "Validation Loss: 0.0541\n",
            "Epoch 93/200\n"
          ]
        },
        {
          "output_type": "stream",
          "name": "stderr",
          "text": [
            "100%|██████████| 5/5 [00:00<00:00,  8.03it/s]\n"
          ]
        },
        {
          "output_type": "stream",
          "name": "stdout",
          "text": [
            "Validation Loss: 0.0538\n",
            "Epoch 94/200\n"
          ]
        },
        {
          "output_type": "stream",
          "name": "stderr",
          "text": [
            "100%|██████████| 5/5 [00:00<00:00,  8.03it/s]\n"
          ]
        },
        {
          "output_type": "stream",
          "name": "stdout",
          "text": [
            "Validation Loss: 0.0536\n",
            "Epoch 95/200\n"
          ]
        },
        {
          "output_type": "stream",
          "name": "stderr",
          "text": [
            "100%|██████████| 5/5 [00:00<00:00,  9.69it/s]\n"
          ]
        },
        {
          "output_type": "stream",
          "name": "stdout",
          "text": [
            "Validation Loss: 0.0533\n",
            "Epoch 96/200\n"
          ]
        },
        {
          "output_type": "stream",
          "name": "stderr",
          "text": [
            "100%|██████████| 5/5 [00:00<00:00,  8.04it/s]\n"
          ]
        },
        {
          "output_type": "stream",
          "name": "stdout",
          "text": [
            "Validation Loss: 0.0531\n",
            "Epoch 97/200\n"
          ]
        },
        {
          "output_type": "stream",
          "name": "stderr",
          "text": [
            "100%|██████████| 5/5 [00:00<00:00,  9.60it/s]\n"
          ]
        },
        {
          "output_type": "stream",
          "name": "stdout",
          "text": [
            "Validation Loss: 0.0529\n",
            "Epoch 98/200\n"
          ]
        },
        {
          "output_type": "stream",
          "name": "stderr",
          "text": [
            "100%|██████████| 5/5 [00:00<00:00,  8.05it/s]\n"
          ]
        },
        {
          "output_type": "stream",
          "name": "stdout",
          "text": [
            "Validation Loss: 0.0528\n",
            "Epoch 99/200\n"
          ]
        },
        {
          "output_type": "stream",
          "name": "stderr",
          "text": [
            "100%|██████████| 5/5 [00:00<00:00,  9.97it/s]\n"
          ]
        },
        {
          "output_type": "stream",
          "name": "stdout",
          "text": [
            "Validation Loss: 0.0526\n",
            "Epoch 100/200\n"
          ]
        },
        {
          "output_type": "stream",
          "name": "stderr",
          "text": [
            "100%|██████████| 5/5 [00:00<00:00,  9.69it/s]\n"
          ]
        },
        {
          "output_type": "stream",
          "name": "stdout",
          "text": [
            "Validation Loss: 0.0524\n",
            "Epoch 101/200\n"
          ]
        },
        {
          "output_type": "stream",
          "name": "stderr",
          "text": [
            "100%|██████████| 5/5 [00:00<00:00,  8.04it/s]\n"
          ]
        },
        {
          "output_type": "stream",
          "name": "stdout",
          "text": [
            "Validation Loss: 0.0523\n",
            "Epoch 102/200\n"
          ]
        },
        {
          "output_type": "stream",
          "name": "stderr",
          "text": [
            "100%|██████████| 5/5 [00:00<00:00,  8.03it/s]\n"
          ]
        },
        {
          "output_type": "stream",
          "name": "stdout",
          "text": [
            "Validation Loss: 0.0521\n",
            "Epoch 103/200\n"
          ]
        },
        {
          "output_type": "stream",
          "name": "stderr",
          "text": [
            "100%|██████████| 5/5 [00:01<00:00,  3.96it/s]\n"
          ]
        },
        {
          "output_type": "stream",
          "name": "stdout",
          "text": [
            "Validation Loss: 0.0519\n",
            "Epoch 104/200\n"
          ]
        },
        {
          "output_type": "stream",
          "name": "stderr",
          "text": [
            "100%|██████████| 5/5 [00:01<00:00,  3.96it/s]\n"
          ]
        },
        {
          "output_type": "stream",
          "name": "stdout",
          "text": [
            "Validation Loss: 0.0518\n",
            "Epoch 105/200\n"
          ]
        },
        {
          "output_type": "stream",
          "name": "stderr",
          "text": [
            "100%|██████████| 5/5 [00:00<00:00,  8.03it/s]\n"
          ]
        },
        {
          "output_type": "stream",
          "name": "stdout",
          "text": [
            "Validation Loss: 0.0516\n",
            "Epoch 106/200\n"
          ]
        },
        {
          "output_type": "stream",
          "name": "stderr",
          "text": [
            "100%|██████████| 5/5 [00:00<00:00,  9.59it/s]\n"
          ]
        },
        {
          "output_type": "stream",
          "name": "stdout",
          "text": [
            "Validation Loss: 0.0514\n",
            "Epoch 107/200\n"
          ]
        },
        {
          "output_type": "stream",
          "name": "stderr",
          "text": [
            "100%|██████████| 5/5 [00:00<00:00,  9.11it/s]\n"
          ]
        },
        {
          "output_type": "stream",
          "name": "stdout",
          "text": [
            "Validation Loss: 0.0513\n",
            "Epoch 108/200\n"
          ]
        },
        {
          "output_type": "stream",
          "name": "stderr",
          "text": [
            "100%|██████████| 5/5 [00:00<00:00,  8.04it/s]\n"
          ]
        },
        {
          "output_type": "stream",
          "name": "stdout",
          "text": [
            "Validation Loss: 0.0511\n",
            "Epoch 109/200\n"
          ]
        },
        {
          "output_type": "stream",
          "name": "stderr",
          "text": [
            "100%|██████████| 5/5 [00:00<00:00,  9.92it/s]\n"
          ]
        },
        {
          "output_type": "stream",
          "name": "stdout",
          "text": [
            "Validation Loss: 0.0510\n",
            "Epoch 110/200\n"
          ]
        },
        {
          "output_type": "stream",
          "name": "stderr",
          "text": [
            "100%|██████████| 5/5 [00:00<00:00,  9.56it/s]\n"
          ]
        },
        {
          "output_type": "stream",
          "name": "stdout",
          "text": [
            "Validation Loss: 0.0509\n",
            "Epoch 111/200\n"
          ]
        },
        {
          "output_type": "stream",
          "name": "stderr",
          "text": [
            "100%|██████████| 5/5 [00:00<00:00,  9.42it/s]\n"
          ]
        },
        {
          "output_type": "stream",
          "name": "stdout",
          "text": [
            "Validation Loss: 0.0507\n",
            "Epoch 112/200\n"
          ]
        },
        {
          "output_type": "stream",
          "name": "stderr",
          "text": [
            "100%|██████████| 5/5 [00:00<00:00,  8.04it/s]\n"
          ]
        },
        {
          "output_type": "stream",
          "name": "stdout",
          "text": [
            "Validation Loss: 0.0506\n",
            "Epoch 113/200\n"
          ]
        },
        {
          "output_type": "stream",
          "name": "stderr",
          "text": [
            "100%|██████████| 5/5 [00:00<00:00,  9.44it/s]\n"
          ]
        },
        {
          "output_type": "stream",
          "name": "stdout",
          "text": [
            "Validation Loss: 0.0505\n",
            "Epoch 114/200\n"
          ]
        },
        {
          "output_type": "stream",
          "name": "stderr",
          "text": [
            "100%|██████████| 5/5 [00:00<00:00,  9.43it/s]\n"
          ]
        },
        {
          "output_type": "stream",
          "name": "stdout",
          "text": [
            "Validation Loss: 0.0504\n",
            "Epoch 115/200\n"
          ]
        },
        {
          "output_type": "stream",
          "name": "stderr",
          "text": [
            "100%|██████████| 5/5 [00:00<00:00,  8.03it/s]\n"
          ]
        },
        {
          "output_type": "stream",
          "name": "stdout",
          "text": [
            "Validation Loss: 0.0503\n",
            "Epoch 116/200\n"
          ]
        },
        {
          "output_type": "stream",
          "name": "stderr",
          "text": [
            "100%|██████████| 5/5 [00:00<00:00,  9.56it/s]\n"
          ]
        },
        {
          "output_type": "stream",
          "name": "stdout",
          "text": [
            "Validation Loss: 0.0502\n",
            "Epoch 117/200\n"
          ]
        },
        {
          "output_type": "stream",
          "name": "stderr",
          "text": [
            "100%|██████████| 5/5 [00:00<00:00,  9.54it/s]\n"
          ]
        },
        {
          "output_type": "stream",
          "name": "stdout",
          "text": [
            "Validation Loss: 0.0501\n",
            "Epoch 118/200\n"
          ]
        },
        {
          "output_type": "stream",
          "name": "stderr",
          "text": [
            "100%|██████████| 5/5 [00:01<00:00,  3.96it/s]\n"
          ]
        },
        {
          "output_type": "stream",
          "name": "stdout",
          "text": [
            "Validation Loss: 0.0500\n",
            "Epoch 119/200\n"
          ]
        },
        {
          "output_type": "stream",
          "name": "stderr",
          "text": [
            "100%|██████████| 5/5 [00:01<00:00,  3.96it/s]\n"
          ]
        },
        {
          "output_type": "stream",
          "name": "stdout",
          "text": [
            "Validation Loss: 0.0499\n",
            "Epoch 120/200\n"
          ]
        },
        {
          "output_type": "stream",
          "name": "stderr",
          "text": [
            "100%|██████████| 5/5 [00:00<00:00,  7.77it/s]\n"
          ]
        },
        {
          "output_type": "stream",
          "name": "stdout",
          "text": [
            "Validation Loss: 0.0498\n",
            "Epoch 121/200\n"
          ]
        },
        {
          "output_type": "stream",
          "name": "stderr",
          "text": [
            "100%|██████████| 5/5 [00:00<00:00,  8.02it/s]\n"
          ]
        },
        {
          "output_type": "stream",
          "name": "stdout",
          "text": [
            "Validation Loss: 0.0497\n",
            "Epoch 122/200\n"
          ]
        },
        {
          "output_type": "stream",
          "name": "stderr",
          "text": [
            "100%|██████████| 5/5 [00:00<00:00,  8.01it/s]\n"
          ]
        },
        {
          "output_type": "stream",
          "name": "stdout",
          "text": [
            "Validation Loss: 0.0497\n",
            "Epoch 123/200\n"
          ]
        },
        {
          "output_type": "stream",
          "name": "stderr",
          "text": [
            "100%|██████████| 5/5 [00:00<00:00,  9.55it/s]\n"
          ]
        },
        {
          "output_type": "stream",
          "name": "stdout",
          "text": [
            "Validation Loss: 0.0496\n",
            "Epoch 124/200\n"
          ]
        },
        {
          "output_type": "stream",
          "name": "stderr",
          "text": [
            "100%|██████████| 5/5 [00:00<00:00,  8.05it/s]\n"
          ]
        },
        {
          "output_type": "stream",
          "name": "stdout",
          "text": [
            "Validation Loss: 0.0495\n",
            "Epoch 125/200\n"
          ]
        },
        {
          "output_type": "stream",
          "name": "stderr",
          "text": [
            "100%|██████████| 5/5 [00:00<00:00,  9.74it/s]\n"
          ]
        },
        {
          "output_type": "stream",
          "name": "stdout",
          "text": [
            "Validation Loss: 0.0494\n",
            "Epoch 126/200\n"
          ]
        },
        {
          "output_type": "stream",
          "name": "stderr",
          "text": [
            "100%|██████████| 5/5 [00:00<00:00,  9.10it/s]\n"
          ]
        },
        {
          "output_type": "stream",
          "name": "stdout",
          "text": [
            "Validation Loss: 0.0493\n",
            "Epoch 127/200\n"
          ]
        },
        {
          "output_type": "stream",
          "name": "stderr",
          "text": [
            "100%|██████████| 5/5 [00:00<00:00,  9.61it/s]\n"
          ]
        },
        {
          "output_type": "stream",
          "name": "stdout",
          "text": [
            "Validation Loss: 0.0492\n",
            "Epoch 128/200\n"
          ]
        },
        {
          "output_type": "stream",
          "name": "stderr",
          "text": [
            "100%|██████████| 5/5 [00:00<00:00,  9.59it/s]\n"
          ]
        },
        {
          "output_type": "stream",
          "name": "stdout",
          "text": [
            "Validation Loss: 0.0492\n",
            "Epoch 129/200\n"
          ]
        },
        {
          "output_type": "stream",
          "name": "stderr",
          "text": [
            "100%|██████████| 5/5 [00:00<00:00,  9.72it/s]\n"
          ]
        },
        {
          "output_type": "stream",
          "name": "stdout",
          "text": [
            "Validation Loss: 0.0491\n",
            "Epoch 130/200\n"
          ]
        },
        {
          "output_type": "stream",
          "name": "stderr",
          "text": [
            "100%|██████████| 5/5 [00:00<00:00,  9.59it/s]\n"
          ]
        },
        {
          "output_type": "stream",
          "name": "stdout",
          "text": [
            "Validation Loss: 0.0490\n",
            "Epoch 131/200\n"
          ]
        },
        {
          "output_type": "stream",
          "name": "stderr",
          "text": [
            "100%|██████████| 5/5 [00:00<00:00,  9.30it/s]\n"
          ]
        },
        {
          "output_type": "stream",
          "name": "stdout",
          "text": [
            "Validation Loss: 0.0490\n",
            "Epoch 132/200\n"
          ]
        },
        {
          "output_type": "stream",
          "name": "stderr",
          "text": [
            "100%|██████████| 5/5 [00:00<00:00,  8.04it/s]\n"
          ]
        },
        {
          "output_type": "stream",
          "name": "stdout",
          "text": [
            "Validation Loss: 0.0489\n",
            "Epoch 133/200\n"
          ]
        },
        {
          "output_type": "stream",
          "name": "stderr",
          "text": [
            "100%|██████████| 5/5 [00:01<00:00,  3.96it/s]\n"
          ]
        },
        {
          "output_type": "stream",
          "name": "stdout",
          "text": [
            "Validation Loss: 0.0488\n",
            "Epoch 134/200\n"
          ]
        },
        {
          "output_type": "stream",
          "name": "stderr",
          "text": [
            "100%|██████████| 5/5 [00:00<00:00,  9.46it/s]\n"
          ]
        },
        {
          "output_type": "stream",
          "name": "stdout",
          "text": [
            "Validation Loss: 0.0488\n",
            "Epoch 135/200\n"
          ]
        },
        {
          "output_type": "stream",
          "name": "stderr",
          "text": [
            "100%|██████████| 5/5 [00:00<00:00,  8.03it/s]\n"
          ]
        },
        {
          "output_type": "stream",
          "name": "stdout",
          "text": [
            "Validation Loss: 0.0487\n",
            "Epoch 136/200\n"
          ]
        },
        {
          "output_type": "stream",
          "name": "stderr",
          "text": [
            "100%|██████████| 5/5 [00:00<00:00,  8.04it/s]\n"
          ]
        },
        {
          "output_type": "stream",
          "name": "stdout",
          "text": [
            "Validation Loss: 0.0487\n",
            "Epoch 137/200\n"
          ]
        },
        {
          "output_type": "stream",
          "name": "stderr",
          "text": [
            "100%|██████████| 5/5 [00:00<00:00,  9.29it/s]\n"
          ]
        },
        {
          "output_type": "stream",
          "name": "stdout",
          "text": [
            "Validation Loss: 0.0486\n",
            "Epoch 138/200\n"
          ]
        },
        {
          "output_type": "stream",
          "name": "stderr",
          "text": [
            "100%|██████████| 5/5 [00:00<00:00,  8.04it/s]\n"
          ]
        },
        {
          "output_type": "stream",
          "name": "stdout",
          "text": [
            "Validation Loss: 0.0486\n",
            "Epoch 139/200\n"
          ]
        },
        {
          "output_type": "stream",
          "name": "stderr",
          "text": [
            "100%|██████████| 5/5 [00:00<00:00,  9.37it/s]\n"
          ]
        },
        {
          "output_type": "stream",
          "name": "stdout",
          "text": [
            "Validation Loss: 0.0486\n",
            "Epoch 140/200\n"
          ]
        },
        {
          "output_type": "stream",
          "name": "stderr",
          "text": [
            "100%|██████████| 5/5 [00:00<00:00,  9.41it/s]\n"
          ]
        },
        {
          "output_type": "stream",
          "name": "stdout",
          "text": [
            "Validation Loss: 0.0485\n",
            "Epoch 141/200\n"
          ]
        },
        {
          "output_type": "stream",
          "name": "stderr",
          "text": [
            "100%|██████████| 5/5 [00:00<00:00,  9.66it/s]\n"
          ]
        },
        {
          "output_type": "stream",
          "name": "stdout",
          "text": [
            "Validation Loss: 0.0484\n",
            "Epoch 142/200\n"
          ]
        },
        {
          "output_type": "stream",
          "name": "stderr",
          "text": [
            "100%|██████████| 5/5 [00:00<00:00,  9.48it/s]\n"
          ]
        },
        {
          "output_type": "stream",
          "name": "stdout",
          "text": [
            "Validation Loss: 0.0484\n",
            "Epoch 143/200\n"
          ]
        },
        {
          "output_type": "stream",
          "name": "stderr",
          "text": [
            "100%|██████████| 5/5 [00:00<00:00,  8.04it/s]\n"
          ]
        },
        {
          "output_type": "stream",
          "name": "stdout",
          "text": [
            "Validation Loss: 0.0483\n",
            "Epoch 144/200\n"
          ]
        },
        {
          "output_type": "stream",
          "name": "stderr",
          "text": [
            "100%|██████████| 5/5 [00:00<00:00,  9.68it/s]\n"
          ]
        },
        {
          "output_type": "stream",
          "name": "stdout",
          "text": [
            "Validation Loss: 0.0482\n",
            "Epoch 145/200\n"
          ]
        },
        {
          "output_type": "stream",
          "name": "stderr",
          "text": [
            "100%|██████████| 5/5 [00:00<00:00,  8.03it/s]\n"
          ]
        },
        {
          "output_type": "stream",
          "name": "stdout",
          "text": [
            "Validation Loss: 0.0482\n",
            "Epoch 146/200\n"
          ]
        },
        {
          "output_type": "stream",
          "name": "stderr",
          "text": [
            "100%|██████████| 5/5 [00:00<00:00,  9.40it/s]\n"
          ]
        },
        {
          "output_type": "stream",
          "name": "stdout",
          "text": [
            "Validation Loss: 0.0481\n",
            "Epoch 147/200\n"
          ]
        },
        {
          "output_type": "stream",
          "name": "stderr",
          "text": [
            "100%|██████████| 5/5 [00:00<00:00,  8.03it/s]\n"
          ]
        },
        {
          "output_type": "stream",
          "name": "stdout",
          "text": [
            "Validation Loss: 0.0481\n",
            "Epoch 148/200\n"
          ]
        },
        {
          "output_type": "stream",
          "name": "stderr",
          "text": [
            "100%|██████████| 5/5 [00:00<00:00,  7.60it/s]\n"
          ]
        },
        {
          "output_type": "stream",
          "name": "stdout",
          "text": [
            "Validation Loss: 0.0480\n",
            "Epoch 149/200\n"
          ]
        },
        {
          "output_type": "stream",
          "name": "stderr",
          "text": [
            "100%|██████████| 5/5 [00:00<00:00,  7.23it/s]\n"
          ]
        },
        {
          "output_type": "stream",
          "name": "stdout",
          "text": [
            "Validation Loss: 0.0480\n",
            "Epoch 150/200\n"
          ]
        },
        {
          "output_type": "stream",
          "name": "stderr",
          "text": [
            "100%|██████████| 5/5 [00:00<00:00,  7.33it/s]\n"
          ]
        },
        {
          "output_type": "stream",
          "name": "stdout",
          "text": [
            "Validation Loss: 0.0479\n",
            "Epoch 151/200\n"
          ]
        },
        {
          "output_type": "stream",
          "name": "stderr",
          "text": [
            "100%|██████████| 5/5 [00:00<00:00,  8.04it/s]\n"
          ]
        },
        {
          "output_type": "stream",
          "name": "stdout",
          "text": [
            "Validation Loss: 0.0478\n",
            "Epoch 152/200\n"
          ]
        },
        {
          "output_type": "stream",
          "name": "stderr",
          "text": [
            "100%|██████████| 5/5 [00:00<00:00,  9.23it/s]\n"
          ]
        },
        {
          "output_type": "stream",
          "name": "stdout",
          "text": [
            "Validation Loss: 0.0478\n",
            "Epoch 153/200\n"
          ]
        },
        {
          "output_type": "stream",
          "name": "stderr",
          "text": [
            "100%|██████████| 5/5 [00:00<00:00,  8.03it/s]\n"
          ]
        },
        {
          "output_type": "stream",
          "name": "stdout",
          "text": [
            "Validation Loss: 0.0477\n",
            "Epoch 154/200\n"
          ]
        },
        {
          "output_type": "stream",
          "name": "stderr",
          "text": [
            "100%|██████████| 5/5 [00:00<00:00,  9.55it/s]\n"
          ]
        },
        {
          "output_type": "stream",
          "name": "stdout",
          "text": [
            "Validation Loss: 0.0476\n",
            "Epoch 155/200\n"
          ]
        },
        {
          "output_type": "stream",
          "name": "stderr",
          "text": [
            "100%|██████████| 5/5 [00:00<00:00,  9.65it/s]\n"
          ]
        },
        {
          "output_type": "stream",
          "name": "stdout",
          "text": [
            "Validation Loss: 0.0476\n",
            "Epoch 156/200\n"
          ]
        },
        {
          "output_type": "stream",
          "name": "stderr",
          "text": [
            "100%|██████████| 5/5 [00:00<00:00,  9.63it/s]\n"
          ]
        },
        {
          "output_type": "stream",
          "name": "stdout",
          "text": [
            "Validation Loss: 0.0475\n",
            "Epoch 157/200\n"
          ]
        },
        {
          "output_type": "stream",
          "name": "stderr",
          "text": [
            "100%|██████████| 5/5 [00:00<00:00,  8.04it/s]\n"
          ]
        },
        {
          "output_type": "stream",
          "name": "stdout",
          "text": [
            "Validation Loss: 0.0475\n",
            "Epoch 158/200\n"
          ]
        },
        {
          "output_type": "stream",
          "name": "stderr",
          "text": [
            "100%|██████████| 5/5 [00:00<00:00,  8.03it/s]\n"
          ]
        },
        {
          "output_type": "stream",
          "name": "stdout",
          "text": [
            "Validation Loss: 0.0474\n",
            "Epoch 159/200\n"
          ]
        },
        {
          "output_type": "stream",
          "name": "stderr",
          "text": [
            "100%|██████████| 5/5 [00:00<00:00,  8.04it/s]\n"
          ]
        },
        {
          "output_type": "stream",
          "name": "stdout",
          "text": [
            "Validation Loss: 0.0474\n",
            "Epoch 160/200\n"
          ]
        },
        {
          "output_type": "stream",
          "name": "stderr",
          "text": [
            "100%|██████████| 5/5 [00:00<00:00,  8.05it/s]\n"
          ]
        },
        {
          "output_type": "stream",
          "name": "stdout",
          "text": [
            "Validation Loss: 0.0473\n",
            "Epoch 161/200\n"
          ]
        },
        {
          "output_type": "stream",
          "name": "stderr",
          "text": [
            "100%|██████████| 5/5 [00:00<00:00,  9.59it/s]\n"
          ]
        },
        {
          "output_type": "stream",
          "name": "stdout",
          "text": [
            "Validation Loss: 0.0473\n",
            "Epoch 162/200\n"
          ]
        },
        {
          "output_type": "stream",
          "name": "stderr",
          "text": [
            "100%|██████████| 5/5 [00:00<00:00,  8.02it/s]\n"
          ]
        },
        {
          "output_type": "stream",
          "name": "stdout",
          "text": [
            "Validation Loss: 0.0472\n",
            "Epoch 163/200\n"
          ]
        },
        {
          "output_type": "stream",
          "name": "stderr",
          "text": [
            "100%|██████████| 5/5 [00:00<00:00,  8.02it/s]\n"
          ]
        },
        {
          "output_type": "stream",
          "name": "stdout",
          "text": [
            "Validation Loss: 0.0472\n",
            "Epoch 164/200\n"
          ]
        },
        {
          "output_type": "stream",
          "name": "stderr",
          "text": [
            "100%|██████████| 5/5 [00:00<00:00,  8.00it/s]\n"
          ]
        },
        {
          "output_type": "stream",
          "name": "stdout",
          "text": [
            "Validation Loss: 0.0472\n",
            "Epoch 165/200\n"
          ]
        },
        {
          "output_type": "stream",
          "name": "stderr",
          "text": [
            "100%|██████████| 5/5 [00:01<00:00,  3.96it/s]\n"
          ]
        },
        {
          "output_type": "stream",
          "name": "stdout",
          "text": [
            "Validation Loss: 0.0471\n",
            "Epoch 166/200\n"
          ]
        },
        {
          "output_type": "stream",
          "name": "stderr",
          "text": [
            "100%|██████████| 5/5 [00:00<00:00,  9.58it/s]\n"
          ]
        },
        {
          "output_type": "stream",
          "name": "stdout",
          "text": [
            "Validation Loss: 0.0471\n",
            "Epoch 167/200\n"
          ]
        },
        {
          "output_type": "stream",
          "name": "stderr",
          "text": [
            "100%|██████████| 5/5 [00:00<00:00,  9.45it/s]\n"
          ]
        },
        {
          "output_type": "stream",
          "name": "stdout",
          "text": [
            "Validation Loss: 0.0470\n",
            "Epoch 168/200\n"
          ]
        },
        {
          "output_type": "stream",
          "name": "stderr",
          "text": [
            "100%|██████████| 5/5 [00:00<00:00,  8.03it/s]\n"
          ]
        },
        {
          "output_type": "stream",
          "name": "stdout",
          "text": [
            "Validation Loss: 0.0470\n",
            "Epoch 169/200\n"
          ]
        },
        {
          "output_type": "stream",
          "name": "stderr",
          "text": [
            "100%|██████████| 5/5 [00:00<00:00,  8.04it/s]\n"
          ]
        },
        {
          "output_type": "stream",
          "name": "stdout",
          "text": [
            "Validation Loss: 0.0470\n",
            "Epoch 170/200\n"
          ]
        },
        {
          "output_type": "stream",
          "name": "stderr",
          "text": [
            "100%|██████████| 5/5 [00:00<00:00,  9.75it/s]\n"
          ]
        },
        {
          "output_type": "stream",
          "name": "stdout",
          "text": [
            "Validation Loss: 0.0469\n",
            "Epoch 171/200\n"
          ]
        },
        {
          "output_type": "stream",
          "name": "stderr",
          "text": [
            "100%|██████████| 5/5 [00:00<00:00,  9.40it/s]\n"
          ]
        },
        {
          "output_type": "stream",
          "name": "stdout",
          "text": [
            "Validation Loss: 0.0469\n",
            "Epoch 172/200\n"
          ]
        },
        {
          "output_type": "stream",
          "name": "stderr",
          "text": [
            "100%|██████████| 5/5 [00:00<00:00,  9.66it/s]\n"
          ]
        },
        {
          "output_type": "stream",
          "name": "stdout",
          "text": [
            "Validation Loss: 0.0468\n",
            "Epoch 173/200\n"
          ]
        },
        {
          "output_type": "stream",
          "name": "stderr",
          "text": [
            "100%|██████████| 5/5 [00:00<00:00,  9.37it/s]\n"
          ]
        },
        {
          "output_type": "stream",
          "name": "stdout",
          "text": [
            "Validation Loss: 0.0468\n",
            "Epoch 174/200\n"
          ]
        },
        {
          "output_type": "stream",
          "name": "stderr",
          "text": [
            "100%|██████████| 5/5 [00:00<00:00,  9.43it/s]\n"
          ]
        },
        {
          "output_type": "stream",
          "name": "stdout",
          "text": [
            "Validation Loss: 0.0467\n",
            "Epoch 175/200\n"
          ]
        },
        {
          "output_type": "stream",
          "name": "stderr",
          "text": [
            "100%|██████████| 5/5 [00:00<00:00,  8.04it/s]\n"
          ]
        },
        {
          "output_type": "stream",
          "name": "stdout",
          "text": [
            "Validation Loss: 0.0467\n",
            "Epoch 176/200\n"
          ]
        },
        {
          "output_type": "stream",
          "name": "stderr",
          "text": [
            "100%|██████████| 5/5 [00:00<00:00,  8.04it/s]\n"
          ]
        },
        {
          "output_type": "stream",
          "name": "stdout",
          "text": [
            "Validation Loss: 0.0467\n",
            "Epoch 177/200\n"
          ]
        },
        {
          "output_type": "stream",
          "name": "stderr",
          "text": [
            "100%|██████████| 5/5 [00:00<00:00,  9.38it/s]\n"
          ]
        },
        {
          "output_type": "stream",
          "name": "stdout",
          "text": [
            "Validation Loss: 0.0467\n",
            "Epoch 178/200\n"
          ]
        },
        {
          "output_type": "stream",
          "name": "stderr",
          "text": [
            "100%|██████████| 5/5 [00:00<00:00,  9.37it/s]\n"
          ]
        },
        {
          "output_type": "stream",
          "name": "stdout",
          "text": [
            "Validation Loss: 0.0467\n",
            "Epoch 179/200\n"
          ]
        },
        {
          "output_type": "stream",
          "name": "stderr",
          "text": [
            "100%|██████████| 5/5 [00:00<00:00,  9.49it/s]\n"
          ]
        },
        {
          "output_type": "stream",
          "name": "stdout",
          "text": [
            "Validation Loss: 0.0466\n",
            "Epoch 180/200\n"
          ]
        },
        {
          "output_type": "stream",
          "name": "stderr",
          "text": [
            "100%|██████████| 5/5 [00:00<00:00,  9.51it/s]\n"
          ]
        },
        {
          "output_type": "stream",
          "name": "stdout",
          "text": [
            "Validation Loss: 0.0466\n",
            "Epoch 181/200\n"
          ]
        },
        {
          "output_type": "stream",
          "name": "stderr",
          "text": [
            "100%|██████████| 5/5 [00:01<00:00,  3.96it/s]\n"
          ]
        },
        {
          "output_type": "stream",
          "name": "stdout",
          "text": [
            "Validation Loss: 0.0466\n",
            "Epoch 182/200\n"
          ]
        },
        {
          "output_type": "stream",
          "name": "stderr",
          "text": [
            "100%|██████████| 5/5 [00:00<00:00,  8.03it/s]\n"
          ]
        },
        {
          "output_type": "stream",
          "name": "stdout",
          "text": [
            "Validation Loss: 0.0466\n",
            "Epoch 183/200\n"
          ]
        },
        {
          "output_type": "stream",
          "name": "stderr",
          "text": [
            "100%|██████████| 5/5 [00:00<00:00,  9.28it/s]\n"
          ]
        },
        {
          "output_type": "stream",
          "name": "stdout",
          "text": [
            "Validation Loss: 0.0466\n",
            "Epoch 184/200\n"
          ]
        },
        {
          "output_type": "stream",
          "name": "stderr",
          "text": [
            "100%|██████████| 5/5 [00:00<00:00,  8.02it/s]\n"
          ]
        },
        {
          "output_type": "stream",
          "name": "stdout",
          "text": [
            "Validation Loss: 0.0466\n",
            "Epoch 185/200\n"
          ]
        },
        {
          "output_type": "stream",
          "name": "stderr",
          "text": [
            "100%|██████████| 5/5 [00:00<00:00,  8.04it/s]\n"
          ]
        },
        {
          "output_type": "stream",
          "name": "stdout",
          "text": [
            "Validation Loss: 0.0466\n",
            "Epoch 186/200\n"
          ]
        },
        {
          "output_type": "stream",
          "name": "stderr",
          "text": [
            "100%|██████████| 5/5 [00:00<00:00,  9.88it/s]\n"
          ]
        },
        {
          "output_type": "stream",
          "name": "stdout",
          "text": [
            "Validation Loss: 0.0465\n",
            "Epoch 187/200\n"
          ]
        },
        {
          "output_type": "stream",
          "name": "stderr",
          "text": [
            "100%|██████████| 5/5 [00:00<00:00,  8.04it/s]\n"
          ]
        },
        {
          "output_type": "stream",
          "name": "stdout",
          "text": [
            "Validation Loss: 0.0465\n",
            "Epoch 188/200\n"
          ]
        },
        {
          "output_type": "stream",
          "name": "stderr",
          "text": [
            "100%|██████████| 5/5 [00:00<00:00,  8.03it/s]\n"
          ]
        },
        {
          "output_type": "stream",
          "name": "stdout",
          "text": [
            "Validation Loss: 0.0465\n",
            "Epoch 189/200\n"
          ]
        },
        {
          "output_type": "stream",
          "name": "stderr",
          "text": [
            "100%|██████████| 5/5 [00:00<00:00,  9.85it/s]\n"
          ]
        },
        {
          "output_type": "stream",
          "name": "stdout",
          "text": [
            "Validation Loss: 0.0465\n",
            "Epoch 190/200\n"
          ]
        },
        {
          "output_type": "stream",
          "name": "stderr",
          "text": [
            "100%|██████████| 5/5 [00:00<00:00,  9.70it/s]\n"
          ]
        },
        {
          "output_type": "stream",
          "name": "stdout",
          "text": [
            "Validation Loss: 0.0465\n",
            "Epoch 191/200\n"
          ]
        },
        {
          "output_type": "stream",
          "name": "stderr",
          "text": [
            "100%|██████████| 5/5 [00:00<00:00,  8.04it/s]\n"
          ]
        },
        {
          "output_type": "stream",
          "name": "stdout",
          "text": [
            "Validation Loss: 0.0465\n",
            "Epoch 192/200\n"
          ]
        },
        {
          "output_type": "stream",
          "name": "stderr",
          "text": [
            "100%|██████████| 5/5 [00:00<00:00,  9.47it/s]\n"
          ]
        },
        {
          "output_type": "stream",
          "name": "stdout",
          "text": [
            "Validation Loss: 0.0465\n",
            "Epoch 193/200\n"
          ]
        },
        {
          "output_type": "stream",
          "name": "stderr",
          "text": [
            "100%|██████████| 5/5 [00:00<00:00,  9.92it/s]\n"
          ]
        },
        {
          "output_type": "stream",
          "name": "stdout",
          "text": [
            "Validation Loss: 0.0464\n",
            "Epoch 194/200\n"
          ]
        },
        {
          "output_type": "stream",
          "name": "stderr",
          "text": [
            "100%|██████████| 5/5 [00:00<00:00,  9.37it/s]\n"
          ]
        },
        {
          "output_type": "stream",
          "name": "stdout",
          "text": [
            "Validation Loss: 0.0464\n",
            "Epoch 195/200\n"
          ]
        },
        {
          "output_type": "stream",
          "name": "stderr",
          "text": [
            "100%|██████████| 5/5 [00:00<00:00,  9.63it/s]\n"
          ]
        },
        {
          "output_type": "stream",
          "name": "stdout",
          "text": [
            "Validation Loss: 0.0464\n",
            "Epoch 196/200\n"
          ]
        },
        {
          "output_type": "stream",
          "name": "stderr",
          "text": [
            "100%|██████████| 5/5 [00:00<00:00,  9.42it/s]\n"
          ]
        },
        {
          "output_type": "stream",
          "name": "stdout",
          "text": [
            "Validation Loss: 0.0463\n",
            "Epoch 197/200\n"
          ]
        },
        {
          "output_type": "stream",
          "name": "stderr",
          "text": [
            "100%|██████████| 5/5 [00:01<00:00,  3.96it/s]\n"
          ]
        },
        {
          "output_type": "stream",
          "name": "stdout",
          "text": [
            "Validation Loss: 0.0463\n",
            "Epoch 198/200\n"
          ]
        },
        {
          "output_type": "stream",
          "name": "stderr",
          "text": [
            "100%|██████████| 5/5 [00:00<00:00,  9.27it/s]\n"
          ]
        },
        {
          "output_type": "stream",
          "name": "stdout",
          "text": [
            "Validation Loss: 0.0462\n",
            "Epoch 199/200\n"
          ]
        },
        {
          "output_type": "stream",
          "name": "stderr",
          "text": [
            "100%|██████████| 5/5 [00:00<00:00,  8.97it/s]\n"
          ]
        },
        {
          "output_type": "stream",
          "name": "stdout",
          "text": [
            "Validation Loss: 0.0462\n",
            "Epoch 200/200\n"
          ]
        },
        {
          "output_type": "stream",
          "name": "stderr",
          "text": [
            "100%|██████████| 5/5 [00:00<00:00,  8.04it/s]\n"
          ]
        },
        {
          "output_type": "stream",
          "name": "stdout",
          "text": [
            "Validation Loss: 0.0462\n"
          ]
        }
      ]
    },
    {
      "cell_type": "code",
      "source": [
        "\n",
        "# # Training loop remains the same\n",
        "# from tqdm import tqdm\n",
        "\n",
        "# for epoch in range(epochs):\n",
        "#     print(f'Epoch {epoch + 1}/{epochs}')\n",
        "\n",
        "#     # Training step\n",
        "#     for step, (x_batch, y_batch) in enumerate(tqdm(train_dataset, total=len(train_dataset))):\n",
        "#         loss_value = train_step(x_batch, y_batch)\n",
        "\n",
        "#     # Validation step\n",
        "#     total_val_loss = 0\n",
        "#     for x_val_batch, y_val_batch in val_dataset:\n",
        "#         val_loss_value = test_step(x_val_batch, y_val_batch)\n",
        "#         total_val_loss += val_loss_value\n",
        "\n",
        "#     avg_val_loss = total_val_loss / len(val_dataset)\n",
        "#     print(f'Validation Loss: {avg_val_loss.numpy():.4f}')"
      ],
      "metadata": {
        "id": "7GxzKxMCwwHi"
      },
      "execution_count": null,
      "outputs": []
    },
    {
      "cell_type": "code",
      "source": [
        "# import tensorflow as tf\n",
        "# from tqdm import tqdm\n",
        "\n",
        "# # Define the optimizer\n",
        "# optimizer = tf.keras.optimizers.Adam(learning_rate=1e-3)\n",
        "\n",
        "# # Define the training step function\n",
        "# @tf.function\n",
        "# def train_step(x_batch, y_batch, confidnet):\n",
        "#     with tf.GradientTape() as tape:\n",
        "#         y_conf = confidnet_model(x_batch, training=True)  # Forward pass\n",
        "#         y_pred = TCN_model(x_batch, training=True)\n",
        "#         loss_value = l_conf(y_batch, y_pred, y_conf)  # Compute loss\n",
        "\n",
        "#     # Compute gradients\n",
        "#     gradients = tape.gradient(loss_value, confidnet_model.trainable_variables)\n",
        "\n",
        "#     # Apply gradients to update weights\n",
        "#     optimizer.apply_gradients(zip(gradients, confidnet_model.trainable_variables))\n",
        "\n",
        "#     return loss_value\n",
        "\n",
        "# # Define the validation step function (no gradient updates)\n",
        "# @tf.function\n",
        "# def test_step(x_batch, y_batch):\n",
        "#     y_conf = confidnet_model(x_batch, training=False)  # Forward pass\n",
        "#     y_pred = TCN_model(x_batch, training=False)\n",
        "#     loss_value = l_conf(y_batch, y_pred, y_conf)  # Compute loss\n",
        "#     return loss_value\n",
        "\n",
        "# # Convert datasets to tf.data format\n",
        "# batch_size = 32\n",
        "# train_dataset = tf.data.Dataset.from_tensor_slices((x_train, y_train)).batch(batch_size)\n",
        "# val_dataset = tf.data.Dataset.from_tensor_slices((x_val, y_val)).batch(batch_size)\n",
        "\n",
        "# # Training loop\n",
        "# epochs = 10  # Set your desired number of epochs\n",
        "# for epoch in range(epochs):\n",
        "#     print(f'\\nEpoch {epoch + 1}/{epochs}')\n",
        "\n",
        "#     # Training step\n",
        "#     total_train_loss = 0\n",
        "#     for step, (x_batch, y_batch) in enumerate(tqdm(train_dataset, total=len(train_dataset))):\n",
        "#         y_conf = confidnet_model(x_batch, training=True)  # Forward pass\n",
        "#         y_pred = TCN_model(x_batch, training=True)\n",
        "#         loss_value = l_conf(y_batch, y_pred, y_conf)  # Compute loss\n",
        "#         #loss_value = train_step(x_batch, y_batch)\n",
        "#         total_train_loss += loss_value.numpy()\n",
        "\n",
        "#     avg_train_loss = total_train_loss / len(train_dataset)\n",
        "\n",
        "#     # Validation step\n",
        "#     total_val_loss = 0\n",
        "#     for x_val_batch, y_val_batch in val_dataset:\n",
        "#       y_conf = confidnet_model(x_batch, training=False)  # Forward pass\n",
        "#       y_pred = TCN_model(x_batch, training=False)\n",
        "#       val_loss_value = l_conf(y_batch, y_pred, y_conf)\n",
        "#       total_val_loss += val_loss_value.numpy()\n",
        "\n",
        "#     avg_val_loss = total_val_loss / len(val_dataset)\n",
        "\n",
        "#     print(f'Train Loss: {avg_train_loss:.4f} | Validation Loss: {avg_val_loss:.4f}')\n"
      ],
      "metadata": {
        "id": "Z36RNZ4axCPY"
      },
      "execution_count": null,
      "outputs": []
    },
    {
      "cell_type": "code",
      "source": [
        "confidence_scores = confidnet_model.predict(x_test)  # Shape: (num_samples, 1)\n",
        "\n",
        "# If the outputs are in the shape (num_samples, 1), flatten them for plotting\n",
        "confidence_scores = confidence_scores.flatten()  # Shape: (num_samples,)"
      ],
      "metadata": {
        "colab": {
          "base_uri": "https://localhost:8080/"
        },
        "id": "YUcORdxd2hGY",
        "outputId": "c137fc26-d867-4e00-801a-2df13ae3dda2"
      },
      "execution_count": null,
      "outputs": [
        {
          "output_type": "stream",
          "name": "stdout",
          "text": [
            "\u001b[1m13/13\u001b[0m \u001b[32m━━━━━━━━━━━━━━━━━━━━\u001b[0m\u001b[37m\u001b[0m \u001b[1m1s\u001b[0m 35ms/step\n"
          ]
        }
      ]
    },
    {
      "cell_type": "code",
      "source": [
        "confidence_scores"
      ],
      "metadata": {
        "colab": {
          "base_uri": "https://localhost:8080/"
        },
        "id": "UiyNnN25OPSf",
        "outputId": "c38ed56b-f422-4d8f-8f91-01a6f2cd62bf"
      },
      "execution_count": null,
      "outputs": [
        {
          "output_type": "execute_result",
          "data": {
            "text/plain": [
              "array([0.92077345, 0.89655906, 0.8906074 , 0.88696367, 0.9023495 ,\n",
              "       0.9121993 , 0.8811961 , 0.91337234, 0.86898357, 0.8316835 ,\n",
              "       0.85319316, 0.86677617, 0.8376585 , 0.90665025, 0.8764089 ,\n",
              "       0.8760984 , 0.8752806 , 0.8978475 , 0.86703366, 0.90482956,\n",
              "       0.91787976, 0.89824533, 0.91496456, 0.9181449 , 0.92869526,\n",
              "       0.916801  , 0.92439824, 0.9152754 , 0.81131655, 0.8985295 ,\n",
              "       0.8797015 , 0.9058164 , 0.8250344 , 0.8640088 , 0.88866514,\n",
              "       0.8643635 , 0.894296  , 0.8813242 , 0.8790482 , 0.9228282 ,\n",
              "       0.90099734, 0.9256478 , 0.90034413, 0.8852479 , 0.89479977,\n",
              "       0.88821775, 0.87197953, 0.862297  , 0.88822204, 0.87944376,\n",
              "       0.93610865, 0.9124319 , 0.80636364, 0.88186985, 0.75021553,\n",
              "       0.9051672 , 0.85129005, 0.90457374, 0.94189304, 0.86362135,\n",
              "       0.92936695, 0.82209635, 0.891658  , 0.82143956, 0.8572778 ,\n",
              "       0.93846875, 0.86755365, 0.8378468 , 0.936349  , 0.8977523 ,\n",
              "       0.92132795, 0.8399773 , 0.8432053 , 0.88318056, 0.8824411 ,\n",
              "       0.7585207 , 0.8041641 , 0.84969133, 0.8784003 , 0.8378768 ,\n",
              "       0.87881285, 0.82323045, 0.8340172 , 0.7980127 , 0.8791539 ,\n",
              "       0.85674447, 0.88308656, 0.76232654, 0.8658037 , 0.8771672 ,\n",
              "       0.87713623, 0.8618459 , 0.86466855, 0.94197047, 0.85268354,\n",
              "       0.85017055, 0.9114368 , 0.79030323, 0.91874224, 0.86669934,\n",
              "       0.86672944, 0.7830919 , 0.8801976 , 0.8344818 , 0.8430273 ,\n",
              "       0.89485455, 0.86250526, 0.8837041 , 0.88946486, 0.8603489 ,\n",
              "       0.8316053 , 0.83611757, 0.8339956 , 0.78783935, 0.87531507,\n",
              "       0.84481996, 0.88293254, 0.90066063, 0.9076428 , 0.8518877 ,\n",
              "       0.8670607 , 0.86531323, 0.83807963, 0.8116249 , 0.84539664,\n",
              "       0.85323185, 0.85784036, 0.8448087 , 0.83126324, 0.85745955,\n",
              "       0.88902754, 0.79587257, 0.8266771 , 0.7995908 , 0.89610016,\n",
              "       0.86053354, 0.8964507 , 0.8572707 , 0.877651  , 0.84470236,\n",
              "       0.7938405 , 0.87616765, 0.870369  , 0.87099475, 0.82299995,\n",
              "       0.7842634 , 0.8431445 , 0.887021  , 0.9069271 , 0.86906785,\n",
              "       0.9297663 , 0.85360336, 0.89998627, 0.83617586, 0.86340976,\n",
              "       0.8167966 , 0.8217059 , 0.87311274, 0.8836346 , 0.8664514 ,\n",
              "       0.89638036, 0.9036354 , 0.91572714, 0.9274063 , 0.8720281 ,\n",
              "       0.9052725 , 0.909155  , 0.7842961 , 0.89721227, 0.9065894 ,\n",
              "       0.87293124, 0.91391295, 0.8881205 , 0.7834545 , 0.86430204,\n",
              "       0.8670497 , 0.91385126, 0.9136103 , 0.90750957, 0.8483447 ,\n",
              "       0.92933303, 0.8344279 , 0.9128181 , 0.8708208 , 0.8987323 ,\n",
              "       0.8634479 , 0.86591375, 0.84874374, 0.82086885, 0.88094604,\n",
              "       0.89765495, 0.90687877, 0.91548824, 0.9381541 , 0.94045305,\n",
              "       0.89748317, 0.87317735, 0.8503474 , 0.80642   , 0.8540259 ,\n",
              "       0.8277383 , 0.7542922 , 0.8725437 , 0.8219152 , 0.77162564,\n",
              "       0.87894493, 0.8473125 , 0.84397995, 0.8444668 , 0.79067993,\n",
              "       0.83607936, 0.8595942 , 0.8477475 , 0.8827574 , 0.85368294,\n",
              "       0.8914032 , 0.8668549 , 0.87299824, 0.8977791 , 0.8790012 ,\n",
              "       0.87253016, 0.8741209 , 0.81021464, 0.80069995, 0.8537587 ,\n",
              "       0.83250713, 0.8865823 , 0.86348385, 0.76778483, 0.82091343,\n",
              "       0.8287626 , 0.83783066, 0.7786738 , 0.8624776 , 0.90178937,\n",
              "       0.82920194, 0.84534407, 0.7512849 , 0.86974734, 0.8625771 ,\n",
              "       0.8853255 , 0.85662436, 0.81644535, 0.8789273 , 0.8348316 ,\n",
              "       0.77068627, 0.87754804, 0.88497394, 0.8776636 , 0.81468993,\n",
              "       0.8566148 , 0.9520749 , 0.9304756 , 0.9125867 , 0.91783077,\n",
              "       0.92332315, 0.9127249 , 0.90810007, 0.9064547 , 0.96635187,\n",
              "       0.8964933 , 0.9191215 , 0.9122354 , 0.9512971 , 0.93731266,\n",
              "       0.86058134, 0.9249043 , 0.92330194, 0.9100671 , 0.95465285,\n",
              "       0.9471027 , 0.91028357, 0.9122433 , 0.9139745 , 0.94239366,\n",
              "       0.9578244 , 0.9051411 , 0.91583   , 0.94542825, 0.9169453 ,\n",
              "       0.9268668 , 0.9241933 , 0.92809933, 0.9045229 , 0.90750766,\n",
              "       0.9004617 , 0.8884296 , 0.88003904, 0.93418944, 0.87261075,\n",
              "       0.94466394, 0.92443806, 0.85744315, 0.887843  , 0.9386117 ,\n",
              "       0.96445614, 0.9056117 , 0.8683159 , 0.90343606, 0.8254645 ,\n",
              "       0.89865494, 0.8849579 , 0.90966886, 0.853158  , 0.86560637,\n",
              "       0.8410315 , 0.89593315, 0.88299483, 0.8525913 , 0.9011801 ,\n",
              "       0.8383109 , 0.88052475, 0.8208448 , 0.9177614 , 0.84398395,\n",
              "       0.89741284, 0.8906074 , 0.9204353 , 0.91824096, 0.8666292 ,\n",
              "       0.8834522 , 0.93327916, 0.8566496 , 0.9044511 , 0.84749335,\n",
              "       0.92025185, 0.84428304, 0.92698276, 0.87347275, 0.85380155,\n",
              "       0.92496026, 0.9043229 , 0.8460372 , 0.8378816 , 0.85177207,\n",
              "       0.83001614, 0.90147036, 0.92564493, 0.941499  , 0.8874047 ,\n",
              "       0.8225373 , 0.89945114, 0.8871989 , 0.855539  , 0.8840989 ,\n",
              "       0.88884795, 0.8518323 , 0.86068   , 0.80671126, 0.8466844 ,\n",
              "       0.86202586, 0.7704276 , 0.8236433 , 0.78437674, 0.80465144,\n",
              "       0.8792845 , 0.82789695, 0.81915385, 0.8072762 , 0.7736144 ,\n",
              "       0.7737425 , 0.8075522 , 0.8435792 , 0.8435881 , 0.82180613,\n",
              "       0.8511901 , 0.7715686 , 0.79046357, 0.8342733 , 0.7951447 ,\n",
              "       0.8359338 , 0.80650187, 0.87654763, 0.7762611 , 0.8390656 ,\n",
              "       0.78422254, 0.7708652 , 0.8991074 , 0.8253173 , 0.7990756 ,\n",
              "       0.81934196, 0.8620447 , 0.8217492 , 0.7931448 , 0.8085215 ,\n",
              "       0.8266338 , 0.82432   , 0.8230706 , 0.7925172 , 0.84668493,\n",
              "       0.79903835, 0.84495056, 0.8776406 , 0.785914  , 0.8548871 ,\n",
              "       0.8303056 , 0.7260894 , 0.8426121 , 0.853651  , 0.84446424],\n",
              "      dtype=float32)"
            ]
          },
          "metadata": {},
          "execution_count": 106
        }
      ]
    },
    {
      "cell_type": "code",
      "source": [],
      "metadata": {
        "id": "O4weeZ0pOMCv"
      },
      "execution_count": null,
      "outputs": []
    },
    {
      "cell_type": "code",
      "source": [
        "import matplotlib.pyplot as plt\n",
        "\n",
        "plt.figure(figsize=(10, 6))\n",
        "plt.hist(confidence_scores, bins=50, range=(0, 1), alpha=0.75, color='blue')\n",
        "plt.title('Distribution of Model Confidence Scores')\n",
        "plt.xlabel('Confidence Score')\n",
        "plt.ylabel('Number of Samples')\n",
        "plt.grid(True)\n",
        "plt.show()\n"
      ],
      "metadata": {
        "colab": {
          "base_uri": "https://localhost:8080/",
          "height": 564
        },
        "id": "WHib0Eu_ytOy",
        "outputId": "018b1faa-bf7d-4ec1-fdb2-173a0a5e3d61"
      },
      "execution_count": null,
      "outputs": [
        {
          "output_type": "display_data",
          "data": {
            "text/plain": [
              "<Figure size 1000x600 with 1 Axes>"
            ],
            "image/png": "[encoded data removed]"
          },
          "metadata": {}
        }
      ]
    },
    {
      "cell_type": "code",
      "source": [
        "# Plot confidence scores for the first N samples\n",
        "N = len(y_test)  # Number of samples to plot\n",
        "sample_indices = np.arange(N)\n",
        "sample_confidences = confidence_scores[:N]\n",
        "\n",
        "plt.figure(figsize=(12, 6))\n",
        "plt.plot(sample_indices, sample_confidences, marker='o', linestyle='-', color='blue')\n",
        "plt.title('Model Confidence Scores for First N Samples')\n",
        "plt.xlabel('Sample Index')\n",
        "plt.ylabel('Confidence Score')\n",
        "plt.ylim(0, 1)\n",
        "plt.grid(True)\n",
        "plt.show()\n"
      ],
      "metadata": {
        "colab": {
          "base_uri": "https://localhost:8080/",
          "height": 564
        },
        "id": "HnvLQBJP2oLB",
        "outputId": "4f242bae-1a85-45e6-9209-bcd8d37f9c23"
      },
      "execution_count": null,
      "outputs": [
        {
          "output_type": "display_data",
          "data": {
            "text/plain": [
              "<Figure size 1200x600 with 1 Axes>"
            ],
            "image/png": "[encoded data removed]"
          },
          "metadata": {}
        }
      ]
    },
    {
      "cell_type": "code",
      "source": [
        "\n",
        "class_names=[\"1\",\"2\",\"3\",\"4\",\"5\",\"6\",\"7\",\"8\"]\n",
        "def idx_to_str(index):\n",
        "    return class_names[index]"
      ],
      "metadata": {
        "id": "57-Ub1523GSi"
      },
      "execution_count": null,
      "outputs": []
    },
    {
      "cell_type": "code",
      "source": [
        "import numpy as np\n",
        "import pandas as pd\n",
        "\n",
        "# Get predictions from models\n",
        "tcn_pred = TCN_model.predict(x_test)  # Shape: (num_samples, num_classes)\n",
        "confidence_values = confidnet_model.predict(x_test).flatten()  # Shape: (num_samples,)\n",
        "\n",
        "# Prepare data for the DataFrame\n",
        "data = []\n",
        "\n",
        "for i in range(len(tcn_pred)):\n",
        "    # Get true class index\n",
        "    true_index = np.argmax(y_test[i])  # Assuming y_train is one-hot encoded\n",
        "    # Get predicted class index\n",
        "    predicted_index = np.argmax(tcn_pred[i])\n",
        "\n",
        "    # Get maximum confidence prediction (MCP)\n",
        "    max_conf = np.max(tcn_pred[i])  # Should be scalar\n",
        "\n",
        "    # Get predicted confidence for the true class (TCP)\n",
        "    c_star = tcn_pred[i][true_index]\n",
        "\n",
        "    # Normalize TCP by MCP to get yc_star\n",
        "    c_star_normalized = c_star / (max_conf + 1e-8)  # Should be scalar\n",
        "\n",
        "    # Get confidence value from confidence model\n",
        "    conf_value = confidence_values[i]  # Should be scalar\n",
        "\n",
        "    # Optionally convert indices to class labels\n",
        "    if 'idx_to_str' in globals():\n",
        "        ground_truth = idx_to_str(true_index)\n",
        "        predicted_class = idx_to_str(predicted_index)\n",
        "    else:\n",
        "        ground_truth = true_index\n",
        "        predicted_class = predicted_index\n",
        "\n",
        "    pred_class_prob = max_conf  # Probability of the predicted class\n",
        "\n",
        "    # Append row data\n",
        "    data.append([ground_truth, predicted_class, pred_class_prob, conf_value, c_star_normalized])\n",
        "    # data.append([ground_truth, predicted_class, pred_class_prob, conf_value, c_star])\n",
        "\n",
        "# Create DataFrame\n",
        "df = pd.DataFrame(data, columns=['ground_truth', 'prediction', 'p(predicted class)', 'confidence', 'yc_star'])\n",
        "\n",
        "# Display DataFrame\n",
        "df\n"
      ],
      "metadata": {
        "colab": {
          "base_uri": "https://localhost:8080/",
          "height": 458
        },
        "id": "LhDvo9LJK0NP",
        "outputId": "baaa076e-998c-4313-d606-a5dd13f40fb2"
      },
      "execution_count": null,
      "outputs": [
        {
          "output_type": "stream",
          "name": "stdout",
          "text": [
            "\u001b[1m13/13\u001b[0m \u001b[32m━━━━━━━━━━━━━━━━━━━━\u001b[0m\u001b[37m\u001b[0m \u001b[1m0s\u001b[0m 2ms/step \n",
            "\u001b[1m13/13\u001b[0m \u001b[32m━━━━━━━━━━━━━━━━━━━━\u001b[0m\u001b[37m\u001b[0m \u001b[1m0s\u001b[0m 2ms/step \n"
          ]
        },
        {
          "output_type": "execute_result",
          "data": {
            "text/plain": [
              "    ground_truth prediction  p(predicted class)  confidence   yc_star\n",
              "0              1          1            0.926929    0.920773  1.000000\n",
              "1              1          1            0.882867    0.896559  1.000000\n",
              "2              1          1            0.854306    0.890607  1.000000\n",
              "3              1          1            0.881142    0.886964  1.000000\n",
              "4              1          1            0.925566    0.902349  1.000000\n",
              "..           ...        ...                 ...         ...       ...\n",
              "395            8          8            0.791883    0.830306  1.000000\n",
              "396            8          4            0.343224    0.726089  0.319577\n",
              "397            8          8            0.915068    0.842612  1.000000\n",
              "398            8          8            0.898905    0.853651  1.000000\n",
              "399            8          8            0.839564    0.844464  1.000000\n",
              "\n",
              "[400 rows x 5 columns]"
            ],
            "text/html": [
              "\n",
              "  <div id=\"df-18a05fd2-0df5-4401-84c4-7a8eeda08c6a\" class=\"colab-df-container\">\n",
              "    <div>\n",
              "<style scoped>\n",
              "    .dataframe tbody tr th:only-of-type {\n",
              "        vertical-align: middle;\n",
              "    }\n",
              "\n",
              "    .dataframe tbody tr th {\n",
              "        vertical-align: top;\n",
              "    }\n",
              "\n",
              "    .dataframe thead th {\n",
              "        text-align: right;\n",
              "    }\n",
              "</style>\n",
              "<table border=\"1\" class=\"dataframe\">\n",
              "  <thead>\n",
              "    <tr style=\"text-align: right;\">\n",
              "      <th></th>\n",
              "      <th>ground_truth</th>\n",
              "      <th>prediction</th>\n",
              "      <th>p(predicted class)</th>\n",
              "      <th>confidence</th>\n",
              "      <th>yc_star</th>\n",
              "    </tr>\n",
              "  </thead>\n",
              "  <tbody>\n",
              "    <tr>\n",
              "      <th>0</th>\n",
              "      <td>1</td>\n",
              "      <td>1</td>\n",
              "      <td>0.926929</td>\n",
              "      <td>0.920773</td>\n",
              "      <td>1.000000</td>\n",
              "    </tr>\n",
              "    <tr>\n",
              "      <th>1</th>\n",
              "      <td>1</td>\n",
              "      <td>1</td>\n",
              "      <td>0.882867</td>\n",
              "      <td>0.896559</td>\n",
              "      <td>1.000000</td>\n",
              "    </tr>\n",
              "    <tr>\n",
              "      <th>2</th>\n",
              "      <td>1</td>\n",
              "      <td>1</td>\n",
              "      <td>0.854306</td>\n",
              "      <td>0.890607</td>\n",
              "      <td>1.000000</td>\n",
              "    </tr>\n",
              "    <tr>\n",
              "      <th>3</th>\n",
              "      <td>1</td>\n",
              "      <td>1</td>\n",
              "      <td>0.881142</td>\n",
              "      <td>0.886964</td>\n",
              "      <td>1.000000</td>\n",
              "    </tr>\n",
              "    <tr>\n",
              "      <th>4</th>\n",
              "      <td>1</td>\n",
              "      <td>1</td>\n",
              "      <td>0.925566</td>\n",
              "      <td>0.902349</td>\n",
              "      <td>1.000000</td>\n",
              "    </tr>\n",
              "    <tr>\n",
              "      <th>...</th>\n",
              "      <td>...</td>\n",
              "      <td>...</td>\n",
              "      <td>...</td>\n",
              "      <td>...</td>\n",
              "      <td>...</td>\n",
              "    </tr>\n",
              "    <tr>\n",
              "      <th>395</th>\n",
              "      <td>8</td>\n",
              "      <td>8</td>\n",
              "      <td>0.791883</td>\n",
              "      <td>0.830306</td>\n",
              "      <td>1.000000</td>\n",
              "    </tr>\n",
              "    <tr>\n",
              "      <th>396</th>\n",
              "      <td>8</td>\n",
              "      <td>4</td>\n",
              "      <td>0.343224</td>\n",
              "      <td>0.726089</td>\n",
              "      <td>0.319577</td>\n",
              "    </tr>\n",
              "    <tr>\n",
              "      <th>397</th>\n",
              "      <td>8</td>\n",
              "      <td>8</td>\n",
              "      <td>0.915068</td>\n",
              "      <td>0.842612</td>\n",
              "      <td>1.000000</td>\n",
              "    </tr>\n",
              "    <tr>\n",
              "      <th>398</th>\n",
              "      <td>8</td>\n",
              "      <td>8</td>\n",
              "      <td>0.898905</td>\n",
              "      <td>0.853651</td>\n",
              "      <td>1.000000</td>\n",
              "    </tr>\n",
              "    <tr>\n",
              "      <th>399</th>\n",
              "      <td>8</td>\n",
              "      <td>8</td>\n",
              "      <td>0.839564</td>\n",
              "      <td>0.844464</td>\n",
              "      <td>1.000000</td>\n",
              "    </tr>\n",
              "  </tbody>\n",
              "</table>\n",
              "<p>400 rows × 5 columns</p>\n",
              "</div>\n",
              "    <div class=\"colab-df-buttons\">\n",
              "\n",
              "  <div class=\"colab-df-container\">\n",
              "    <button class=\"colab-df-convert\" onclick=\"convertToInteractive('df-18a05fd2-0df5-4401-84c4-7a8eeda08c6a')\"\n",
              "            title=\"Convert this dataframe to an interactive table.\"\n",
              "            style=\"display:none;\">\n",
              "\n",
              "  <svg xmlns=\"http://www.w3.org/2000/svg\" height=\"24px\" viewBox=\"0 -960 960 960\">\n",
              "    <path d=\"M120-120v-720h720v720H120Zm60-500h600v-160H180v160Zm220 220h160v-160H400v160Zm0 220h160v-160H400v160ZM180-400h160v-160H180v160Zm440 0h160v-160H620v160ZM180-180h160v-160H180v160Zm440 0h160v-160H620v160Z\"/>\n",
              "  </svg>\n",
              "    </button>\n",
              "\n",
              "  <style>\n",
              "    .colab-df-container {\n",
              "      display:flex;\n",
              "      gap: 12px;\n",
              "    }\n",
              "\n",
              "    .colab-df-convert {\n",
              "      background-color: #E8F0FE;\n",
              "      border: none;\n",
              "      border-radius: 50%;\n",
              "      cursor: pointer;\n",
              "      display: none;\n",
              "      fill: #1967D2;\n",
              "      height: 32px;\n",
              "      padding: 0 0 0 0;\n",
              "      width: 32px;\n",
              "    }\n",
              "\n",
              "    .colab-df-convert:hover {\n",
              "      background-color: #E2EBFA;\n",
              "      box-shadow: 0px 1px 2px rgba(60, 64, 67, 0.3), 0px 1px 3px 1px rgba(60, 64, 67, 0.15);\n",
              "      fill: #174EA6;\n",
              "    }\n",
              "\n",
              "    .colab-df-buttons div {\n",
              "      margin-bottom: 4px;\n",
              "    }\n",
              "\n",
              "    [theme=dark] .colab-df-convert {\n",
              "      background-color: #3B4455;\n",
              "      fill: #D2E3FC;\n",
              "    }\n",
              "\n",
              "    [theme=dark] .colab-df-convert:hover {\n",
              "      background-color: #434B5C;\n",
              "      box-shadow: 0px 1px 3px 1px rgba(0, 0, 0, 0.15);\n",
              "      filter: drop-shadow(0px 1px 2px rgba(0, 0, 0, 0.3));\n",
              "      fill: #FFFFFF;\n",
              "    }\n",
              "  </style>\n",
              "\n",
              "    <script>\n",
              "      const buttonEl =\n",
              "        document.querySelector('#df-18a05fd2-0df5-4401-84c4-7a8eeda08c6a button.colab-df-convert');\n",
              "      buttonEl.style.display =\n",
              "        google.colab.kernel.accessAllowed ? 'block' : 'none';\n",
              "\n",
              "      async function convertToInteractive(key) {\n",
              "        const element = document.querySelector('#df-18a05fd2-0df5-4401-84c4-7a8eeda08c6a');\n",
              "        const dataTable =\n",
              "          await google.colab.kernel.invokeFunction('convertToInteractive',\n",
              "                                                    [key], {});\n",
              "        if (!dataTable) return;\n",
              "\n",
              "        const docLinkHtml = 'Like what you see? Visit the ' +\n",
              "          '<a target=\"_blank\" href=https://colab.research.google.com/notebooks/data_table.ipynb>data table notebook</a>'\n",
              "          + ' to learn more about interactive tables.';\n",
              "        element.innerHTML = '';\n",
              "        dataTable['output_type'] = 'display_data';\n",
              "        await google.colab.output.renderOutput(dataTable, element);\n",
              "        const docLink = document.createElement('div');\n",
              "        docLink.innerHTML = docLinkHtml;\n",
              "        element.appendChild(docLink);\n",
              "      }\n",
              "    </script>\n",
              "  </div>\n",
              "\n",
              "\n",
              "<div id=\"df-c859479a-78d4-4c74-b05b-0d3d752b1b93\">\n",
              "  <button class=\"colab-df-quickchart\" onclick=\"quickchart('df-c859479a-78d4-4c74-b05b-0d3d752b1b93')\"\n",
              "            title=\"Suggest charts\"\n",
              "            style=\"display:none;\">\n",
              "\n",
              "<svg xmlns=\"http://www.w3.org/2000/svg\" height=\"24px\"viewBox=\"0 0 24 24\"\n",
              "     width=\"24px\">\n",
              "    <g>\n",
              "        <path d=\"M19 3H5c-1.1 0-2 .9-2 2v14c0 1.1.9 2 2 2h14c1.1 0 2-.9 2-2V5c0-1.1-.9-2-2-2zM9 17H7v-7h2v7zm4 0h-2V7h2v10zm4 0h-2v-4h2v4z\"/>\n",
              "    </g>\n",
              "</svg>\n",
              "  </button>\n",
              "\n",
              "<style>\n",
              "  .colab-df-quickchart {\n",
              "      --bg-color: #E8F0FE;\n",
              "      --fill-color: #1967D2;\n",
              "      --hover-bg-color: #E2EBFA;\n",
              "      --hover-fill-color: #174EA6;\n",
              "      --disabled-fill-color: #AAA;\n",
              "      --disabled-bg-color: #DDD;\n",
              "  }\n",
              "\n",
              "  [theme=dark] .colab-df-quickchart {\n",
              "      --bg-color: #3B4455;\n",
              "      --fill-color: #D2E3FC;\n",
              "      --hover-bg-color: #434B5C;\n",
              "      --hover-fill-color: #FFFFFF;\n",
              "      --disabled-bg-color: #3B4455;\n",
              "      --disabled-fill-color: #666;\n",
              "  }\n",
              "\n",
              "  .colab-df-quickchart {\n",
              "    background-color: var(--bg-color);\n",
              "    border: none;\n",
              "    border-radius: 50%;\n",
              "    cursor: pointer;\n",
              "    display: none;\n",
              "    fill: var(--fill-color);\n",
              "    height: 32px;\n",
              "    padding: 0;\n",
              "    width: 32px;\n",
              "  }\n",
              "\n",
              "  .colab-df-quickchart:hover {\n",
              "    background-color: var(--hover-bg-color);\n",
              "    box-shadow: 0 1px 2px rgba(60, 64, 67, 0.3), 0 1px 3px 1px rgba(60, 64, 67, 0.15);\n",
              "    fill: var(--button-hover-fill-color);\n",
              "  }\n",
              "\n",
              "  .colab-df-quickchart-complete:disabled,\n",
              "  .colab-df-quickchart-complete:disabled:hover {\n",
              "    background-color: var(--disabled-bg-color);\n",
              "    fill: var(--disabled-fill-color);\n",
              "    box-shadow: none;\n",
              "  }\n",
              "\n",
              "  .colab-df-spinner {\n",
              "    border: 2px solid var(--fill-color);\n",
              "    border-color: transparent;\n",
              "    border-bottom-color: var(--fill-color);\n",
              "    animation:\n",
              "      spin 1s steps(1) infinite;\n",
              "  }\n",
              "\n",
              "  @keyframes spin {\n",
              "    0% {\n",
              "      border-color: transparent;\n",
              "      border-bottom-color: var(--fill-color);\n",
              "      border-left-color: var(--fill-color);\n",
              "    }\n",
              "    20% {\n",
              "      border-color: transparent;\n",
              "      border-left-color: var(--fill-color);\n",
              "      border-top-color: var(--fill-color);\n",
              "    }\n",
              "    30% {\n",
              "      border-color: transparent;\n",
              "      border-left-color: var(--fill-color);\n",
              "      border-top-color: var(--fill-color);\n",
              "      border-right-color: var(--fill-color);\n",
              "    }\n",
              "    40% {\n",
              "      border-color: transparent;\n",
              "      border-right-color: var(--fill-color);\n",
              "      border-top-color: var(--fill-color);\n",
              "    }\n",
              "    60% {\n",
              "      border-color: transparent;\n",
              "      border-right-color: var(--fill-color);\n",
              "    }\n",
              "    80% {\n",
              "      border-color: transparent;\n",
              "      border-right-color: var(--fill-color);\n",
              "      border-bottom-color: var(--fill-color);\n",
              "    }\n",
              "    90% {\n",
              "      border-color: transparent;\n",
              "      border-bottom-color: var(--fill-color);\n",
              "    }\n",
              "  }\n",
              "</style>\n",
              "\n",
              "  <script>\n",
              "    async function quickchart(key) {\n",
              "      const quickchartButtonEl =\n",
              "        document.querySelector('#' + key + ' button');\n",
              "      quickchartButtonEl.disabled = true;  // To prevent multiple clicks.\n",
              "      quickchartButtonEl.classList.add('colab-df-spinner');\n",
              "      try {\n",
              "        const charts = await google.colab.kernel.invokeFunction(\n",
              "            'suggestCharts', [key], {});\n",
              "      } catch (error) {\n",
              "        console.error('Error during call to suggestCharts:', error);\n",
              "      }\n",
              "      quickchartButtonEl.classList.remove('colab-df-spinner');\n",
              "      quickchartButtonEl.classList.add('colab-df-quickchart-complete');\n",
              "    }\n",
              "    (() => {\n",
              "      let quickchartButtonEl =\n",
              "        document.querySelector('#df-c859479a-78d4-4c74-b05b-0d3d752b1b93 button');\n",
              "      quickchartButtonEl.style.display =\n",
              "        google.colab.kernel.accessAllowed ? 'block' : 'none';\n",
              "    })();\n",
              "  </script>\n",
              "</div>\n",
              "\n",
              "  <div id=\"id_ebf3495b-3c9d-4c9b-95b6-b333359edab7\">\n",
              "    <style>\n",
              "      .colab-df-generate {\n",
              "        background-color: #E8F0FE;\n",
              "        border: none;\n",
              "        border-radius: 50%;\n",
              "        cursor: pointer;\n",
              "        display: none;\n",
              "        fill: #1967D2;\n",
              "        height: 32px;\n",
              "        padding: 0 0 0 0;\n",
              "        width: 32px;\n",
              "      }\n",
              "\n",
              "      .colab-df-generate:hover {\n",
              "        background-color: #E2EBFA;\n",
              "        box-shadow: 0px 1px 2px rgba(60, 64, 67, 0.3), 0px 1px 3px 1px rgba(60, 64, 67, 0.15);\n",
              "        fill: #174EA6;\n",
              "      }\n",
              "\n",
              "      [theme=dark] .colab-df-generate {\n",
              "        background-color: #3B4455;\n",
              "        fill: #D2E3FC;\n",
              "      }\n",
              "\n",
              "      [theme=dark] .colab-df-generate:hover {\n",
              "        background-color: #434B5C;\n",
              "        box-shadow: 0px 1px 3px 1px rgba(0, 0, 0, 0.15);\n",
              "        filter: drop-shadow(0px 1px 2px rgba(0, 0, 0, 0.3));\n",
              "        fill: #FFFFFF;\n",
              "      }\n",
              "    </style>\n",
              "    <button class=\"colab-df-generate\" onclick=\"generateWithVariable('df')\"\n",
              "            title=\"Generate code using this dataframe.\"\n",
              "            style=\"display:none;\">\n",
              "\n",
              "  <svg xmlns=\"http://www.w3.org/2000/svg\" height=\"24px\"viewBox=\"0 0 24 24\"\n",
              "       width=\"24px\">\n",
              "    <path d=\"M7,19H8.4L18.45,9,17,7.55,7,17.6ZM5,21V16.75L18.45,3.32a2,2,0,0,1,2.83,0l1.4,1.43a1.91,1.91,0,0,1,.58,1.4,1.91,1.91,0,0,1-.58,1.4L9.25,21ZM18.45,9,17,7.55Zm-12,3A5.31,5.31,0,0,0,4.9,8.1,5.31,5.31,0,0,0,1,6.5,5.31,5.31,0,0,0,4.9,4.9,5.31,5.31,0,0,0,6.5,1,5.31,5.31,0,0,0,8.1,4.9,5.31,5.31,0,0,0,12,6.5,5.46,5.46,0,0,0,6.5,12Z\"/>\n",
              "  </svg>\n",
              "    </button>\n",
              "    <script>\n",
              "      (() => {\n",
              "      const buttonEl =\n",
              "        document.querySelector('#id_ebf3495b-3c9d-4c9b-95b6-b333359edab7 button.colab-df-generate');\n",
              "      buttonEl.style.display =\n",
              "        google.colab.kernel.accessAllowed ? 'block' : 'none';\n",
              "\n",
              "      buttonEl.onclick = () => {\n",
              "        google.colab.notebook.generateWithVariable('df');\n",
              "      }\n",
              "      })();\n",
              "    </script>\n",
              "  </div>\n",
              "\n",
              "    </div>\n",
              "  </div>\n"
            ],
            "application/vnd.google.colaboratory.intrinsic+json": {
              "type": "dataframe",
              "variable_name": "df",
              "summary": "{\n  \"name\": \"df\",\n  \"rows\": 400,\n  \"fields\": [\n    {\n      \"column\": \"ground_truth\",\n      \"properties\": {\n        \"dtype\": \"category\",\n        \"num_unique_values\": 8,\n        \"samples\": [\n          \"2\",\n          \"6\",\n          \"1\"\n        ],\n        \"semantic_type\": \"\",\n        \"description\": \"\"\n      }\n    },\n    {\n      \"column\": \"prediction\",\n      \"properties\": {\n        \"dtype\": \"category\",\n        \"num_unique_values\": 8,\n        \"samples\": [\n          \"2\",\n          \"4\",\n          \"1\"\n        ],\n        \"semantic_type\": \"\",\n        \"description\": \"\"\n      }\n    },\n    {\n      \"column\": \"p(predicted class)\",\n      \"properties\": {\n        \"dtype\": \"float32\",\n        \"num_unique_values\": 400,\n        \"samples\": [\n          0.3748788833618164,\n          0.856950581073761,\n          0.8467121124267578\n        ],\n        \"semantic_type\": \"\",\n        \"description\": \"\"\n      }\n    },\n    {\n      \"column\": \"confidence\",\n      \"properties\": {\n        \"dtype\": \"float32\",\n        \"num_unique_values\": 399,\n        \"samples\": [\n          0.8064200282096863,\n          0.8620258569717407,\n          0.8640087842941284\n        ],\n        \"semantic_type\": \"\",\n        \"description\": \"\"\n      }\n    },\n    {\n      \"column\": \"yc_star\",\n      \"properties\": {\n        \"dtype\": \"number\",\n        \"std\": 0.16883176765468141,\n        \"min\": 0.019109161066253044,\n        \"max\": 0.9999999898585156,\n        \"num_unique_values\": 400,\n        \"samples\": [\n          0.7879854129405149,\n          0.9999999883307157,\n          0.9999999881896104\n        ],\n        \"semantic_type\": \"\",\n        \"description\": \"\"\n      }\n    }\n  ]\n}"
            }
          },
          "metadata": {},
          "execution_count": 110
        }
      ]
    },
    {
      "cell_type": "code",
      "source": [
        "# #### For train data\n",
        "\n",
        "# import numpy as np\n",
        "# import csv\n",
        "\n",
        "# # Assuming you have the following variables:\n",
        "# # - tcn_pred: predictions from TCN_model on your test data, shape (num_samples, num_classes)\n",
        "# # - confidence_values: confidences from confidnet_model on your test data, shape (num_samples,)\n",
        "# # - Y_test: ground truth labels, shape (num_samples, num_classes) (one-hot encoded)\n",
        "# # - idx_to_str: a function to convert class indices to class labels (if needed)\n",
        "\n",
        "# # Get predictions from models\n",
        "# tcn_pred = TCN_model.predict(x_train)  # Shape: (num_samples, num_classes)\n",
        "# confidence_values = confidnet_model.predict(x_train).flatten()  # Shape: (num_samples,)\n",
        "\n",
        "# # Open a file to write CSV data\n",
        "# filename = 'confidence_estimates.csv'\n",
        "# with open(filename, mode='w', newline='') as file:\n",
        "#     writer = csv.writer(file)\n",
        "\n",
        "#     # Write the header row\n",
        "#     writer.writerow(['ground_truth', 'prediction', 'p(predicted class)', 'confidence', 'yc_star'])\n",
        "\n",
        "#     # Loop through your data and compute yc_star, then write each row to the CSV file\n",
        "#     for i in range(len(tcn_pred)):\n",
        "#         # Get true class index\n",
        "#         true_index = np.argmax(y_train[i])  # Assuming Y_test is one-hot encoded\n",
        "#         # Get predicted class index\n",
        "#         predicted_index = np.argmax(tcn_pred[i])\n",
        "\n",
        "#         # Get maximum confidence prediction (MCP)\n",
        "#         max_conf = np.max(tcn_pred[i])  # Should be scalar\n",
        "\n",
        "#         # Get predicted confidence for the true class (TCP)\n",
        "#         c_star = tcn_pred[i][true_index]\n",
        "\n",
        "#         # Normalize TCP by MCP to get yc_star\n",
        "#         c_star_normalized = c_star / (max_conf + 1e-8)  # Should be scalar\n",
        "\n",
        "#         # Get confidence value from confidence model\n",
        "#         conf_value = confidence_values[i]  # Should be scalar\n",
        "\n",
        "#         # Optionally convert indices to class labels\n",
        "#         if 'idx_to_str' in globals():\n",
        "#             ground_truth = idx_to_str(true_index)\n",
        "#             predicted_class = idx_to_str(predicted_index)\n",
        "#         else:\n",
        "#             ground_truth = true_index\n",
        "#             predicted_class = predicted_index\n",
        "\n",
        "#         pred_class_prob = max_conf  # Probability of the predicted class\n",
        "\n",
        "#         # Write the row to the CSV file\n",
        "#         writer.writerow([ground_truth, predicted_class, pred_class_prob, conf_value, c_star_normalized])\n",
        "\n",
        "# print(f\"Predictions saved to {filename}\")\n"
      ],
      "metadata": {
        "id": "ubtlnBNC2qU4"
      },
      "execution_count": null,
      "outputs": []
    },
    {
      "cell_type": "code",
      "source": [
        "# import matplotlib.pyplot as plt\n",
        "# import pandas as pd\n",
        "# import numpy as np\n",
        "# # split=\"test\"\n",
        "# # Step 1: Read the CSV file\n",
        "# df = pd.read_csv('confidence_estimates.csv')\n",
        "# df"
      ],
      "metadata": {
        "id": "t21VptjD3IuD"
      },
      "execution_count": null,
      "outputs": []
    },
    {
      "cell_type": "code",
      "source": [
        "import numpy as np\n",
        "new_df = df[~np.isclose(df['yc_star'], 1.0)]\n",
        "new_df"
      ],
      "metadata": {
        "colab": {
          "base_uri": "https://localhost:8080/",
          "height": 1000
        },
        "id": "FtAQz3hn3l35",
        "outputId": "9872ebfe-ff53-4b8b-dae5-46e54f978f27"
      },
      "execution_count": null,
      "outputs": [
        {
          "output_type": "execute_result",
          "data": {
            "text/plain": [
              "    ground_truth prediction  p(predicted class)  confidence   yc_star\n",
              "52             2          7            0.363661    0.806364  0.620041\n",
              "54             2          1            0.431309    0.750216  0.874199\n",
              "56             2          3            0.355755    0.851290  0.767225\n",
              "88             2          1            0.325515    0.865804  0.656470\n",
              "100            3          1            0.397505    0.866729  0.327268\n",
              "104            3          5            0.420863    0.843027  0.808698\n",
              "113            3          7            0.500126    0.787839  0.089689\n",
              "122            3          2            0.272959    0.838080  0.949178\n",
              "123            3          4            0.302284    0.811625  0.075705\n",
              "125            3          7            0.912684    0.853232  0.019109\n",
              "127            3          5            0.380309    0.844809  0.926681\n",
              "129            3          5            0.353922    0.857460  0.973013\n",
              "132            3          5            0.397532    0.826677  0.367821\n",
              "146            3          5            0.500390    0.843144  0.574439\n",
              "154            4          1            0.302722    0.863410  0.874986\n",
              "155            4          7            0.423682    0.816797  0.830187\n",
              "194            4          1            0.358977    0.940453  0.699853\n",
              "201            5          7            0.466466    0.754292  0.520279\n",
              "204            5          7            0.619243    0.771626  0.275197\n",
              "209            5          6            0.374879    0.790680  0.787985\n",
              "225            5          7            0.637410    0.832507  0.380391\n",
              "227            5          4            0.287036    0.863484  0.851314\n",
              "258            6          4            0.400558    0.906455  0.963105\n",
              "260            6          5            0.597669    0.896493  0.553289\n",
              "268            6          4            0.514344    0.910067  0.638974\n",
              "297            6          5            0.550482    0.868316  0.497295\n",
              "299            6          1            0.446189    0.825464  0.407503\n",
              "305            7          1            0.673491    0.841031  0.168304\n",
              "310            7          2            0.413288    0.838311  0.525489\n",
              "350            8          4            0.511346    0.862026  0.605799\n",
              "351            8          4            0.393317    0.770428  0.721801\n",
              "353            8          2            0.369781    0.784377  0.637877\n",
              "355            8          1            0.428923    0.879285  0.509659\n",
              "356            8          5            0.530066    0.827897  0.279703\n",
              "363            8          7            0.580010    0.843588  0.245592\n",
              "376            8          5            0.400030    0.770865  0.467631\n",
              "377            8          1            0.681739    0.899107  0.039500\n",
              "383            8          1            0.187011    0.793145  0.890598\n",
              "385            8          2            0.780327    0.826634  0.054606\n",
              "387            8          3            0.243233    0.823071  0.363782\n",
              "392            8          1            0.675341    0.877641  0.365605\n",
              "396            8          4            0.343224    0.726089  0.319577"
            ],
            "text/html": [
              "\n",
              "  <div id=\"df-ca977f6b-4900-45fe-9c2c-1a9e816c5ddd\" class=\"colab-df-container\">\n",
              "    <div>\n",
              "<style scoped>\n",
              "    .dataframe tbody tr th:only-of-type {\n",
              "        vertical-align: middle;\n",
              "    }\n",
              "\n",
              "    .dataframe tbody tr th {\n",
              "        vertical-align: top;\n",
              "    }\n",
              "\n",
              "    .dataframe thead th {\n",
              "        text-align: right;\n",
              "    }\n",
              "</style>\n",
              "<table border=\"1\" class=\"dataframe\">\n",
              "  <thead>\n",
              "    <tr style=\"text-align: right;\">\n",
              "      <th></th>\n",
              "      <th>ground_truth</th>\n",
              "      <th>prediction</th>\n",
              "      <th>p(predicted class)</th>\n",
              "      <th>confidence</th>\n",
              "      <th>yc_star</th>\n",
              "    </tr>\n",
              "  </thead>\n",
              "  <tbody>\n",
              "    <tr>\n",
              "      <th>52</th>\n",
              "      <td>2</td>\n",
              "      <td>7</td>\n",
              "      <td>0.363661</td>\n",
              "      <td>0.806364</td>\n",
              "      <td>0.620041</td>\n",
              "    </tr>\n",
              "    <tr>\n",
              "      <th>54</th>\n",
              "      <td>2</td>\n",
              "      <td>1</td>\n",
              "      <td>0.431309</td>\n",
              "      <td>0.750216</td>\n",
              "      <td>0.874199</td>\n",
              "    </tr>\n",
              "    <tr>\n",
              "      <th>56</th>\n",
              "      <td>2</td>\n",
              "      <td>3</td>\n",
              "      <td>0.355755</td>\n",
              "      <td>0.851290</td>\n",
              "      <td>0.767225</td>\n",
              "    </tr>\n",
              "    <tr>\n",
              "      <th>88</th>\n",
              "      <td>2</td>\n",
              "      <td>1</td>\n",
              "      <td>0.325515</td>\n",
              "      <td>0.865804</td>\n",
              "      <td>0.656470</td>\n",
              "    </tr>\n",
              "    <tr>\n",
              "      <th>100</th>\n",
              "      <td>3</td>\n",
              "      <td>1</td>\n",
              "      <td>0.397505</td>\n",
              "      <td>0.866729</td>\n",
              "      <td>0.327268</td>\n",
              "    </tr>\n",
              "    <tr>\n",
              "      <th>104</th>\n",
              "      <td>3</td>\n",
              "      <td>5</td>\n",
              "      <td>0.420863</td>\n",
              "      <td>0.843027</td>\n",
              "      <td>0.808698</td>\n",
              "    </tr>\n",
              "    <tr>\n",
              "      <th>113</th>\n",
              "      <td>3</td>\n",
              "      <td>7</td>\n",
              "      <td>0.500126</td>\n",
              "      <td>0.787839</td>\n",
              "      <td>0.089689</td>\n",
              "    </tr>\n",
              "    <tr>\n",
              "      <th>122</th>\n",
              "      <td>3</td>\n",
              "      <td>2</td>\n",
              "      <td>0.272959</td>\n",
              "      <td>0.838080</td>\n",
              "      <td>0.949178</td>\n",
              "    </tr>\n",
              "    <tr>\n",
              "      <th>123</th>\n",
              "      <td>3</td>\n",
              "      <td>4</td>\n",
              "      <td>0.302284</td>\n",
              "      <td>0.811625</td>\n",
              "      <td>0.075705</td>\n",
              "    </tr>\n",
              "    <tr>\n",
              "      <th>125</th>\n",
              "      <td>3</td>\n",
              "      <td>7</td>\n",
              "      <td>0.912684</td>\n",
              "      <td>0.853232</td>\n",
              "      <td>0.019109</td>\n",
              "    </tr>\n",
              "    <tr>\n",
              "      <th>127</th>\n",
              "      <td>3</td>\n",
              "      <td>5</td>\n",
              "      <td>0.380309</td>\n",
              "      <td>0.844809</td>\n",
              "      <td>0.926681</td>\n",
              "    </tr>\n",
              "    <tr>\n",
              "      <th>129</th>\n",
              "      <td>3</td>\n",
              "      <td>5</td>\n",
              "      <td>0.353922</td>\n",
              "      <td>0.857460</td>\n",
              "      <td>0.973013</td>\n",
              "    </tr>\n",
              "    <tr>\n",
              "      <th>132</th>\n",
              "      <td>3</td>\n",
              "      <td>5</td>\n",
              "      <td>0.397532</td>\n",
              "      <td>0.826677</td>\n",
              "      <td>0.367821</td>\n",
              "    </tr>\n",
              "    <tr>\n",
              "      <th>146</th>\n",
              "      <td>3</td>\n",
              "      <td>5</td>\n",
              "      <td>0.500390</td>\n",
              "      <td>0.843144</td>\n",
              "      <td>0.574439</td>\n",
              "    </tr>\n",
              "    <tr>\n",
              "      <th>154</th>\n",
              "      <td>4</td>\n",
              "      <td>1</td>\n",
              "      <td>0.302722</td>\n",
              "      <td>0.863410</td>\n",
              "      <td>0.874986</td>\n",
              "    </tr>\n",
              "    <tr>\n",
              "      <th>155</th>\n",
              "      <td>4</td>\n",
              "      <td>7</td>\n",
              "      <td>0.423682</td>\n",
              "      <td>0.816797</td>\n",
              "      <td>0.830187</td>\n",
              "    </tr>\n",
              "    <tr>\n",
              "      <th>194</th>\n",
              "      <td>4</td>\n",
              "      <td>1</td>\n",
              "      <td>0.358977</td>\n",
              "      <td>0.940453</td>\n",
              "      <td>0.699853</td>\n",
              "    </tr>\n",
              "    <tr>\n",
              "      <th>201</th>\n",
              "      <td>5</td>\n",
              "      <td>7</td>\n",
              "      <td>0.466466</td>\n",
              "      <td>0.754292</td>\n",
              "      <td>0.520279</td>\n",
              "    </tr>\n",
              "    <tr>\n",
              "      <th>204</th>\n",
              "      <td>5</td>\n",
              "      <td>7</td>\n",
              "      <td>0.619243</td>\n",
              "      <td>0.771626</td>\n",
              "      <td>0.275197</td>\n",
              "    </tr>\n",
              "    <tr>\n",
              "      <th>209</th>\n",
              "      <td>5</td>\n",
              "      <td>6</td>\n",
              "      <td>0.374879</td>\n",
              "      <td>0.790680</td>\n",
              "      <td>0.787985</td>\n",
              "    </tr>\n",
              "    <tr>\n",
              "      <th>225</th>\n",
              "      <td>5</td>\n",
              "      <td>7</td>\n",
              "      <td>0.637410</td>\n",
              "      <td>0.832507</td>\n",
              "      <td>0.380391</td>\n",
              "    </tr>\n",
              "    <tr>\n",
              "      <th>227</th>\n",
              "      <td>5</td>\n",
              "      <td>4</td>\n",
              "      <td>0.287036</td>\n",
              "      <td>0.863484</td>\n",
              "      <td>0.851314</td>\n",
              "    </tr>\n",
              "    <tr>\n",
              "      <th>258</th>\n",
              "      <td>6</td>\n",
              "      <td>4</td>\n",
              "      <td>0.400558</td>\n",
              "      <td>0.906455</td>\n",
              "      <td>0.963105</td>\n",
              "    </tr>\n",
              "    <tr>\n",
              "      <th>260</th>\n",
              "      <td>6</td>\n",
              "      <td>5</td>\n",
              "      <td>0.597669</td>\n",
              "      <td>0.896493</td>\n",
              "      <td>0.553289</td>\n",
              "    </tr>\n",
              "    <tr>\n",
              "      <th>268</th>\n",
              "      <td>6</td>\n",
              "      <td>4</td>\n",
              "      <td>0.514344</td>\n",
              "      <td>0.910067</td>\n",
              "      <td>0.638974</td>\n",
              "    </tr>\n",
              "    <tr>\n",
              "      <th>297</th>\n",
              "      <td>6</td>\n",
              "      <td>5</td>\n",
              "      <td>0.550482</td>\n",
              "      <td>0.868316</td>\n",
              "      <td>0.497295</td>\n",
              "    </tr>\n",
              "    <tr>\n",
              "      <th>299</th>\n",
              "      <td>6</td>\n",
              "      <td>1</td>\n",
              "      <td>0.446189</td>\n",
              "      <td>0.825464</td>\n",
              "      <td>0.407503</td>\n",
              "    </tr>\n",
              "    <tr>\n",
              "      <th>305</th>\n",
              "      <td>7</td>\n",
              "      <td>1</td>\n",
              "      <td>0.673491</td>\n",
              "      <td>0.841031</td>\n",
              "      <td>0.168304</td>\n",
              "    </tr>\n",
              "    <tr>\n",
              "      <th>310</th>\n",
              "      <td>7</td>\n",
              "      <td>2</td>\n",
              "      <td>0.413288</td>\n",
              "      <td>0.838311</td>\n",
              "      <td>0.525489</td>\n",
              "    </tr>\n",
              "    <tr>\n",
              "      <th>350</th>\n",
              "      <td>8</td>\n",
              "      <td>4</td>\n",
              "      <td>0.511346</td>\n",
              "      <td>0.862026</td>\n",
              "      <td>0.605799</td>\n",
              "    </tr>\n",
              "    <tr>\n",
              "      <th>351</th>\n",
              "      <td>8</td>\n",
              "      <td>4</td>\n",
              "      <td>0.393317</td>\n",
              "      <td>0.770428</td>\n",
              "      <td>0.721801</td>\n",
              "    </tr>\n",
              "    <tr>\n",
              "      <th>353</th>\n",
              "      <td>8</td>\n",
              "      <td>2</td>\n",
              "      <td>0.369781</td>\n",
              "      <td>0.784377</td>\n",
              "      <td>0.637877</td>\n",
              "    </tr>\n",
              "    <tr>\n",
              "      <th>355</th>\n",
              "      <td>8</td>\n",
              "      <td>1</td>\n",
              "      <td>0.428923</td>\n",
              "      <td>0.879285</td>\n",
              "      <td>0.509659</td>\n",
              "    </tr>\n",
              "    <tr>\n",
              "      <th>356</th>\n",
              "      <td>8</td>\n",
              "      <td>5</td>\n",
              "      <td>0.530066</td>\n",
              "      <td>0.827897</td>\n",
              "      <td>0.279703</td>\n",
              "    </tr>\n",
              "    <tr>\n",
              "      <th>363</th>\n",
              "      <td>8</td>\n",
              "      <td>7</td>\n",
              "      <td>0.580010</td>\n",
              "      <td>0.843588</td>\n",
              "      <td>0.245592</td>\n",
              "    </tr>\n",
              "    <tr>\n",
              "      <th>376</th>\n",
              "      <td>8</td>\n",
              "      <td>5</td>\n",
              "      <td>0.400030</td>\n",
              "      <td>0.770865</td>\n",
              "      <td>0.467631</td>\n",
              "    </tr>\n",
              "    <tr>\n",
              "      <th>377</th>\n",
              "      <td>8</td>\n",
              "      <td>1</td>\n",
              "      <td>0.681739</td>\n",
              "      <td>0.899107</td>\n",
              "      <td>0.039500</td>\n",
              "    </tr>\n",
              "    <tr>\n",
              "      <th>383</th>\n",
              "      <td>8</td>\n",
              "      <td>1</td>\n",
              "      <td>0.187011</td>\n",
              "      <td>0.793145</td>\n",
              "      <td>0.890598</td>\n",
              "    </tr>\n",
              "    <tr>\n",
              "      <th>385</th>\n",
              "      <td>8</td>\n",
              "      <td>2</td>\n",
              "      <td>0.780327</td>\n",
              "      <td>0.826634</td>\n",
              "      <td>0.054606</td>\n",
              "    </tr>\n",
              "    <tr>\n",
              "      <th>387</th>\n",
              "      <td>8</td>\n",
              "      <td>3</td>\n",
              "      <td>0.243233</td>\n",
              "      <td>0.823071</td>\n",
              "      <td>0.363782</td>\n",
              "    </tr>\n",
              "    <tr>\n",
              "      <th>392</th>\n",
              "      <td>8</td>\n",
              "      <td>1</td>\n",
              "      <td>0.675341</td>\n",
              "      <td>0.877641</td>\n",
              "      <td>0.365605</td>\n",
              "    </tr>\n",
              "    <tr>\n",
              "      <th>396</th>\n",
              "      <td>8</td>\n",
              "      <td>4</td>\n",
              "      <td>0.343224</td>\n",
              "      <td>0.726089</td>\n",
              "      <td>0.319577</td>\n",
              "    </tr>\n",
              "  </tbody>\n",
              "</table>\n",
              "</div>\n",
              "    <div class=\"colab-df-buttons\">\n",
              "\n",
              "  <div class=\"colab-df-container\">\n",
              "    <button class=\"colab-df-convert\" onclick=\"convertToInteractive('df-ca977f6b-4900-45fe-9c2c-1a9e816c5ddd')\"\n",
              "            title=\"Convert this dataframe to an interactive table.\"\n",
              "            style=\"display:none;\">\n",
              "\n",
              "  <svg xmlns=\"http://www.w3.org/2000/svg\" height=\"24px\" viewBox=\"0 -960 960 960\">\n",
              "    <path d=\"M120-120v-720h720v720H120Zm60-500h600v-160H180v160Zm220 220h160v-160H400v160Zm0 220h160v-160H400v160ZM180-400h160v-160H180v160Zm440 0h160v-160H620v160ZM180-180h160v-160H180v160Zm440 0h160v-160H620v160Z\"/>\n",
              "  </svg>\n",
              "    </button>\n",
              "\n",
              "  <style>\n",
              "    .colab-df-container {\n",
              "      display:flex;\n",
              "      gap: 12px;\n",
              "    }\n",
              "\n",
              "    .colab-df-convert {\n",
              "      background-color: #E8F0FE;\n",
              "      border: none;\n",
              "      border-radius: 50%;\n",
              "      cursor: pointer;\n",
              "      display: none;\n",
              "      fill: #1967D2;\n",
              "      height: 32px;\n",
              "      padding: 0 0 0 0;\n",
              "      width: 32px;\n",
              "    }\n",
              "\n",
              "    .colab-df-convert:hover {\n",
              "      background-color: #E2EBFA;\n",
              "      box-shadow: 0px 1px 2px rgba(60, 64, 67, 0.3), 0px 1px 3px 1px rgba(60, 64, 67, 0.15);\n",
              "      fill: #174EA6;\n",
              "    }\n",
              "\n",
              "    .colab-df-buttons div {\n",
              "      margin-bottom: 4px;\n",
              "    }\n",
              "\n",
              "    [theme=dark] .colab-df-convert {\n",
              "      background-color: #3B4455;\n",
              "      fill: #D2E3FC;\n",
              "    }\n",
              "\n",
              "    [theme=dark] .colab-df-convert:hover {\n",
              "      background-color: #434B5C;\n",
              "      box-shadow: 0px 1px 3px 1px rgba(0, 0, 0, 0.15);\n",
              "      filter: drop-shadow(0px 1px 2px rgba(0, 0, 0, 0.3));\n",
              "      fill: #FFFFFF;\n",
              "    }\n",
              "  </style>\n",
              "\n",
              "    <script>\n",
              "      const buttonEl =\n",
              "        document.querySelector('#df-ca977f6b-4900-45fe-9c2c-1a9e816c5ddd button.colab-df-convert');\n",
              "      buttonEl.style.display =\n",
              "        google.colab.kernel.accessAllowed ? 'block' : 'none';\n",
              "\n",
              "      async function convertToInteractive(key) {\n",
              "        const element = document.querySelector('#df-ca977f6b-4900-45fe-9c2c-1a9e816c5ddd');\n",
              "        const dataTable =\n",
              "          await google.colab.kernel.invokeFunction('convertToInteractive',\n",
              "                                                    [key], {});\n",
              "        if (!dataTable) return;\n",
              "\n",
              "        const docLinkHtml = 'Like what you see? Visit the ' +\n",
              "          '<a target=\"_blank\" href=https://colab.research.google.com/notebooks/data_table.ipynb>data table notebook</a>'\n",
              "          + ' to learn more about interactive tables.';\n",
              "        element.innerHTML = '';\n",
              "        dataTable['output_type'] = 'display_data';\n",
              "        await google.colab.output.renderOutput(dataTable, element);\n",
              "        const docLink = document.createElement('div');\n",
              "        docLink.innerHTML = docLinkHtml;\n",
              "        element.appendChild(docLink);\n",
              "      }\n",
              "    </script>\n",
              "  </div>\n",
              "\n",
              "\n",
              "<div id=\"df-cef220aa-ee95-4e61-9806-5efe49e3d3a8\">\n",
              "  <button class=\"colab-df-quickchart\" onclick=\"quickchart('df-cef220aa-ee95-4e61-9806-5efe49e3d3a8')\"\n",
              "            title=\"Suggest charts\"\n",
              "            style=\"display:none;\">\n",
              "\n",
              "<svg xmlns=\"http://www.w3.org/2000/svg\" height=\"24px\"viewBox=\"0 0 24 24\"\n",
              "     width=\"24px\">\n",
              "    <g>\n",
              "        <path d=\"M19 3H5c-1.1 0-2 .9-2 2v14c0 1.1.9 2 2 2h14c1.1 0 2-.9 2-2V5c0-1.1-.9-2-2-2zM9 17H7v-7h2v7zm4 0h-2V7h2v10zm4 0h-2v-4h2v4z\"/>\n",
              "    </g>\n",
              "</svg>\n",
              "  </button>\n",
              "\n",
              "<style>\n",
              "  .colab-df-quickchart {\n",
              "      --bg-color: #E8F0FE;\n",
              "      --fill-color: #1967D2;\n",
              "      --hover-bg-color: #E2EBFA;\n",
              "      --hover-fill-color: #174EA6;\n",
              "      --disabled-fill-color: #AAA;\n",
              "      --disabled-bg-color: #DDD;\n",
              "  }\n",
              "\n",
              "  [theme=dark] .colab-df-quickchart {\n",
              "      --bg-color: #3B4455;\n",
              "      --fill-color: #D2E3FC;\n",
              "      --hover-bg-color: #434B5C;\n",
              "      --hover-fill-color: #FFFFFF;\n",
              "      --disabled-bg-color: #3B4455;\n",
              "      --disabled-fill-color: #666;\n",
              "  }\n",
              "\n",
              "  .colab-df-quickchart {\n",
              "    background-color: var(--bg-color);\n",
              "    border: none;\n",
              "    border-radius: 50%;\n",
              "    cursor: pointer;\n",
              "    display: none;\n",
              "    fill: var(--fill-color);\n",
              "    height: 32px;\n",
              "    padding: 0;\n",
              "    width: 32px;\n",
              "  }\n",
              "\n",
              "  .colab-df-quickchart:hover {\n",
              "    background-color: var(--hover-bg-color);\n",
              "    box-shadow: 0 1px 2px rgba(60, 64, 67, 0.3), 0 1px 3px 1px rgba(60, 64, 67, 0.15);\n",
              "    fill: var(--button-hover-fill-color);\n",
              "  }\n",
              "\n",
              "  .colab-df-quickchart-complete:disabled,\n",
              "  .colab-df-quickchart-complete:disabled:hover {\n",
              "    background-color: var(--disabled-bg-color);\n",
              "    fill: var(--disabled-fill-color);\n",
              "    box-shadow: none;\n",
              "  }\n",
              "\n",
              "  .colab-df-spinner {\n",
              "    border: 2px solid var(--fill-color);\n",
              "    border-color: transparent;\n",
              "    border-bottom-color: var(--fill-color);\n",
              "    animation:\n",
              "      spin 1s steps(1) infinite;\n",
              "  }\n",
              "\n",
              "  @keyframes spin {\n",
              "    0% {\n",
              "      border-color: transparent;\n",
              "      border-bottom-color: var(--fill-color);\n",
              "      border-left-color: var(--fill-color);\n",
              "    }\n",
              "    20% {\n",
              "      border-color: transparent;\n",
              "      border-left-color: var(--fill-color);\n",
              "      border-top-color: var(--fill-color);\n",
              "    }\n",
              "    30% {\n",
              "      border-color: transparent;\n",
              "      border-left-color: var(--fill-color);\n",
              "      border-top-color: var(--fill-color);\n",
              "      border-right-color: var(--fill-color);\n",
              "    }\n",
              "    40% {\n",
              "      border-color: transparent;\n",
              "      border-right-color: var(--fill-color);\n",
              "      border-top-color: var(--fill-color);\n",
              "    }\n",
              "    60% {\n",
              "      border-color: transparent;\n",
              "      border-right-color: var(--fill-color);\n",
              "    }\n",
              "    80% {\n",
              "      border-color: transparent;\n",
              "      border-right-color: var(--fill-color);\n",
              "      border-bottom-color: var(--fill-color);\n",
              "    }\n",
              "    90% {\n",
              "      border-color: transparent;\n",
              "      border-bottom-color: var(--fill-color);\n",
              "    }\n",
              "  }\n",
              "</style>\n",
              "\n",
              "  <script>\n",
              "    async function quickchart(key) {\n",
              "      const quickchartButtonEl =\n",
              "        document.querySelector('#' + key + ' button');\n",
              "      quickchartButtonEl.disabled = true;  // To prevent multiple clicks.\n",
              "      quickchartButtonEl.classList.add('colab-df-spinner');\n",
              "      try {\n",
              "        const charts = await google.colab.kernel.invokeFunction(\n",
              "            'suggestCharts', [key], {});\n",
              "      } catch (error) {\n",
              "        console.error('Error during call to suggestCharts:', error);\n",
              "      }\n",
              "      quickchartButtonEl.classList.remove('colab-df-spinner');\n",
              "      quickchartButtonEl.classList.add('colab-df-quickchart-complete');\n",
              "    }\n",
              "    (() => {\n",
              "      let quickchartButtonEl =\n",
              "        document.querySelector('#df-cef220aa-ee95-4e61-9806-5efe49e3d3a8 button');\n",
              "      quickchartButtonEl.style.display =\n",
              "        google.colab.kernel.accessAllowed ? 'block' : 'none';\n",
              "    })();\n",
              "  </script>\n",
              "</div>\n",
              "\n",
              "  <div id=\"id_21206038-228b-4bf5-915c-1180d7761203\">\n",
              "    <style>\n",
              "      .colab-df-generate {\n",
              "        background-color: #E8F0FE;\n",
              "        border: none;\n",
              "        border-radius: 50%;\n",
              "        cursor: pointer;\n",
              "        display: none;\n",
              "        fill: #1967D2;\n",
              "        height: 32px;\n",
              "        padding: 0 0 0 0;\n",
              "        width: 32px;\n",
              "      }\n",
              "\n",
              "      .colab-df-generate:hover {\n",
              "        background-color: #E2EBFA;\n",
              "        box-shadow: 0px 1px 2px rgba(60, 64, 67, 0.3), 0px 1px 3px 1px rgba(60, 64, 67, 0.15);\n",
              "        fill: #174EA6;\n",
              "      }\n",
              "\n",
              "      [theme=dark] .colab-df-generate {\n",
              "        background-color: #3B4455;\n",
              "        fill: #D2E3FC;\n",
              "      }\n",
              "\n",
              "      [theme=dark] .colab-df-generate:hover {\n",
              "        background-color: #434B5C;\n",
              "        box-shadow: 0px 1px 3px 1px rgba(0, 0, 0, 0.15);\n",
              "        filter: drop-shadow(0px 1px 2px rgba(0, 0, 0, 0.3));\n",
              "        fill: #FFFFFF;\n",
              "      }\n",
              "    </style>\n",
              "    <button class=\"colab-df-generate\" onclick=\"generateWithVariable('new_df')\"\n",
              "            title=\"Generate code using this dataframe.\"\n",
              "            style=\"display:none;\">\n",
              "\n",
              "  <svg xmlns=\"http://www.w3.org/2000/svg\" height=\"24px\"viewBox=\"0 0 24 24\"\n",
              "       width=\"24px\">\n",
              "    <path d=\"M7,19H8.4L18.45,9,17,7.55,7,17.6ZM5,21V16.75L18.45,3.32a2,2,0,0,1,2.83,0l1.4,1.43a1.91,1.91,0,0,1,.58,1.4,1.91,1.91,0,0,1-.58,1.4L9.25,21ZM18.45,9,17,7.55Zm-12,3A5.31,5.31,0,0,0,4.9,8.1,5.31,5.31,0,0,0,1,6.5,5.31,5.31,0,0,0,4.9,4.9,5.31,5.31,0,0,0,6.5,1,5.31,5.31,0,0,0,8.1,4.9,5.31,5.31,0,0,0,12,6.5,5.46,5.46,0,0,0,6.5,12Z\"/>\n",
              "  </svg>\n",
              "    </button>\n",
              "    <script>\n",
              "      (() => {\n",
              "      const buttonEl =\n",
              "        document.querySelector('#id_21206038-228b-4bf5-915c-1180d7761203 button.colab-df-generate');\n",
              "      buttonEl.style.display =\n",
              "        google.colab.kernel.accessAllowed ? 'block' : 'none';\n",
              "\n",
              "      buttonEl.onclick = () => {\n",
              "        google.colab.notebook.generateWithVariable('new_df');\n",
              "      }\n",
              "      })();\n",
              "    </script>\n",
              "  </div>\n",
              "\n",
              "    </div>\n",
              "  </div>\n"
            ],
            "application/vnd.google.colaboratory.intrinsic+json": {
              "type": "dataframe",
              "variable_name": "new_df",
              "summary": "{\n  \"name\": \"new_df\",\n  \"rows\": 42,\n  \"fields\": [\n    {\n      \"column\": \"ground_truth\",\n      \"properties\": {\n        \"dtype\": \"category\",\n        \"num_unique_values\": 7,\n        \"samples\": [\n          \"2\",\n          \"3\",\n          \"7\"\n        ],\n        \"semantic_type\": \"\",\n        \"description\": \"\"\n      }\n    },\n    {\n      \"column\": \"prediction\",\n      \"properties\": {\n        \"dtype\": \"category\",\n        \"num_unique_values\": 7,\n        \"samples\": [\n          \"7\",\n          \"1\",\n          \"4\"\n        ],\n        \"semantic_type\": \"\",\n        \"description\": \"\"\n      }\n    },\n    {\n      \"column\": \"p(predicted class)\",\n      \"properties\": {\n        \"dtype\": \"float32\",\n        \"num_unique_values\": 42,\n        \"samples\": [\n          0.5504823923110962,\n          0.5003899931907654,\n          0.30228355526924133\n        ],\n        \"semantic_type\": \"\",\n        \"description\": \"\"\n      }\n    },\n    {\n      \"column\": \"confidence\",\n      \"properties\": {\n        \"dtype\": \"float32\",\n        \"num_unique_values\": 42,\n        \"samples\": [\n          0.8683158755302429,\n          0.8431444764137268,\n          0.8116248846054077\n        ],\n        \"semantic_type\": \"\",\n        \"description\": \"\"\n      }\n    },\n    {\n      \"column\": \"yc_star\",\n      \"properties\": {\n        \"dtype\": \"number\",\n        \"std\": 0.28261499055030415,\n        \"min\": 0.019109161066253044,\n        \"max\": 0.9730128476625739,\n        \"num_unique_values\": 42,\n        \"samples\": [\n          0.4972948496873031,\n          0.5744391498884418,\n          0.07570545896224337\n        ],\n        \"semantic_type\": \"\",\n        \"description\": \"\"\n      }\n    }\n  ]\n}"
            }
          },
          "metadata": {},
          "execution_count": 113
        }
      ]
    },
    {
      "cell_type": "code",
      "source": [
        "mean_confidence = df['confidence'].mean()\n",
        "mean_confidence"
      ],
      "metadata": {
        "colab": {
          "base_uri": "https://localhost:8080/"
        },
        "id": "BEok2KCn3nfB",
        "outputId": "37af6ba1-19a8-438c-b349-cf090ae47092"
      },
      "execution_count": null,
      "outputs": [
        {
          "output_type": "execute_result",
          "data": {
            "text/plain": [
              "0.8676698"
            ]
          },
          "metadata": {},
          "execution_count": 114
        }
      ]
    },
    {
      "cell_type": "code",
      "source": [
        "mean_confidence2 = new_df['confidence'].mean()\n",
        "mean_confidence2"
      ],
      "metadata": {
        "colab": {
          "base_uri": "https://localhost:8080/"
        },
        "id": "ghVbwoJe3rhZ",
        "outputId": "695314a9-b4dc-4598-db88-3e48e4306239"
      },
      "execution_count": null,
      "outputs": [
        {
          "output_type": "execute_result",
          "data": {
            "text/plain": [
              "0.83451986"
            ]
          },
          "metadata": {},
          "execution_count": 115
        }
      ]
    },
    {
      "cell_type": "code",
      "source": [
        "mean_yc_star = new_df['yc_star'].mean()\n",
        "mean_yc_star"
      ],
      "metadata": {
        "colab": {
          "base_uri": "https://localhost:8080/"
        },
        "id": "WClWwFC33zcO",
        "outputId": "6e590c93-8d07-40c5-c01e-99c6ef3598b7"
      },
      "execution_count": null,
      "outputs": [
        {
          "output_type": "execute_result",
          "data": {
            "text/plain": [
              "0.535843349413385"
            ]
          },
          "metadata": {},
          "execution_count": 116
        }
      ]
    },
    {
      "cell_type": "code",
      "source": [
        "# # import matplotlib.pyplot as plt\n",
        "# # import pandas as pd\n",
        "# # import numpy as np\n",
        "\n",
        "\n",
        "# # Step 2: Determine successes and errors\n",
        "# successes = df[df['ground_truth'] == df['prediction']]['yc_star']  # Success: ground_truth == prediction\n",
        "# errors = df[df['ground_truth'] != df['prediction']]['yc_star']     # Errors: ground_truth != prediction\n",
        "# print(len(successes), len(errors))\n",
        "\n",
        "# # Step 3: Create histogram data for successes and errors\n",
        "# bins = np.linspace(0, 1, 11)  # Create 10 bins between 0 and 1\n",
        "\n",
        "# # Compute histogram values\n",
        "# success_hist, _ = np.histogram(successes, bins=bins)\n",
        "# error_hist, _ = np.histogram(errors, bins=bins)\n",
        "\n",
        "# # Find the overlapping areas\n",
        "# overlap_hist = np.minimum(success_hist, error_hist)\n",
        "\n",
        "# # Step 4: Plot the histograms with different colors\n",
        "# plt.figure(figsize=(10, 6))\n",
        "\n",
        "# # Plot Successes\n",
        "# plt.bar(bins[:-1], success_hist, width=np.diff(bins), align='edge', color='green', edgecolor='black', label='Successes', alpha=0.7)\n",
        "\n",
        "# # Plot Errors\n",
        "# plt.bar(bins[:-1], error_hist, width=np.diff(bins), align='edge', color='lightcoral', edgecolor='black', label='Errors', alpha=0.7)\n",
        "\n",
        "# # Plot Overlap with a third color (purple)\n",
        "# plt.bar(bins[:-1], overlap_hist, width=np.diff(bins), align='edge', color='purple', edgecolor='black', label='Overlap', alpha=0.7)\n",
        "\n",
        "# plt.title('Confidence TCP Histogram: Successes vs Errors')\n",
        "# plt.xlabel('Confidence TCP')\n",
        "# plt.ylabel('Count')\n",
        "# plt.legend(loc='upper left')\n",
        "# plt.grid(True)\n",
        "# # plt.savefig('Successes_vs_Errors_Histogram_yc_star'+versions+split+'.png')\n",
        "# plt.show()"
      ],
      "metadata": {
        "id": "l0wFM-po31OR"
      },
      "execution_count": null,
      "outputs": []
    },
    {
      "cell_type": "code",
      "source": [
        "\n",
        "# # Step 2: Determine successes and errors\n",
        "# successes = df[df['ground_truth'] == df['prediction']]['p(predicted class)']  # Success: ground_truth == prediction\n",
        "# errors = df[df['ground_truth'] != df['prediction']]['p(predicted class)']     # Error: ground_truth != prediction\n",
        "\n",
        "\n",
        "\n",
        "\n",
        "# # successes = df[df['ground_truth'] == df['prediction']]['yc_star']  # Success: ground_truth == prediction\n",
        "# # errors = df[df['ground_truth'] != df['prediction']]['yc_star']     # Errors: ground_truth != prediction\n",
        "# print(len(successes), len(errors))\n",
        "\n",
        "# # Step 3: Create histogram data for successes and errors\n",
        "# bins = np.linspace(0, 1, 11)  # Create 10 bins between 0 and 1\n",
        "\n",
        "# # Compute histogram values\n",
        "# success_hist, _ = np.histogram(successes, bins=bins)\n",
        "# error_hist, _ = np.histogram(errors, bins=bins)\n",
        "\n",
        "# # Find the overlapping areas\n",
        "# overlap_hist = np.minimum(success_hist, error_hist)\n",
        "\n",
        "# # Step 4: Plot the histograms with different colors\n",
        "# plt.figure(figsize=(10, 6))\n",
        "\n",
        "# # Plot Successes\n",
        "# plt.bar(bins[:-1], success_hist, width=np.diff(bins), align='edge', color='green', edgecolor='black', label='Successes', alpha=0.7)\n",
        "\n",
        "# # Plot Errors\n",
        "# plt.bar(bins[:-1], error_hist, width=np.diff(bins), align='edge', color='lightcoral', edgecolor='black', label='Errors', alpha=0.7)\n",
        "\n",
        "# # Plot Overlap with a third color (purple)\n",
        "# plt.bar(bins[:-1], overlap_hist, width=np.diff(bins), align='edge', color='purple', edgecolor='black', label='Overlap', alpha=0.7)\n",
        "\n",
        "# print(f\"Number of successes: {len(successes)}, Number of errors: {len(errors)}\")\n",
        "# # Customize the plot\n",
        "# plt.title('Confidence MCP Histogram: Successes vs Errors')\n",
        "# plt.xlabel('Confidence MCP')\n",
        "# plt.ylabel('Count')\n",
        "# plt.legend(loc='upper left')\n",
        "# plt.grid(True)\n",
        "\n",
        "# # Step 5: Save and show the plot\n",
        "# # plt.savefig('Successes_vs_Errors_Histogram_predicted'+versions+split+'.png')\n",
        "# plt.show()\n"
      ],
      "metadata": {
        "id": "E4iv5tFW33A1"
      },
      "execution_count": null,
      "outputs": []
    },
    {
      "cell_type": "code",
      "source": [
        "import numpy as np\n",
        "import matplotlib.pyplot as plt\n",
        "import pandas as pd\n",
        "\n",
        "# Assuming df is your DataFrame with relevant columns\n",
        "\n",
        "# Step 1: Define Successes and Errors based on 'p(predicted class)' and 'confidence'\n",
        "successes_predicted = df[df['ground_truth'] == df['prediction']]['p(predicted class)']\n",
        "errors_predicted = df[df['ground_truth'] != df['prediction']]['p(predicted class)']\n",
        "\n",
        "successes_confidence = df[df['ground_truth'] == df['prediction']]['confidence']\n",
        "errors_confidence = df[df['ground_truth'] != df['prediction']]['confidence']\n",
        "\n",
        "# Print counts for verification\n",
        "print(f\"Number of successes (predicted class): {len(successes_predicted)}, Number of errors (predicted class): {len(errors_predicted)}\")\n",
        "print(f\"Number of successes (confidence): {len(successes_confidence)}, Number of errors (confidence): {len(errors_confidence)}\")\n",
        "\n",
        "# Step 2: Create bins for histogram\n",
        "bins = np.linspace(0, 1, 11)  # 10 bins between 0 and 1\n",
        "\n",
        "# Step 3: Compute histogram values\n",
        "success_hist_predicted, _ = np.histogram(successes_predicted, bins=bins)\n",
        "error_hist_predicted, _ = np.histogram(errors_predicted, bins=bins)\n",
        "overlap_hist_predicted = np.minimum(success_hist_predicted, error_hist_predicted)\n",
        "\n",
        "success_hist_confidence, _ = np.histogram(successes_confidence, bins=bins)\n",
        "error_hist_confidence, _ = np.histogram(errors_confidence, bins=bins)\n",
        "overlap_hist_confidence = np.minimum(success_hist_confidence, error_hist_confidence)\n",
        "\n",
        "# Step 4: Plot both histograms in a single figure with subplots\n",
        "plt.figure(figsize=(10, 4))\n",
        "\n",
        "# First subplot: p(predicted class) Histogram\n",
        "plt.subplot(1, 2, 1)\n",
        "plt.bar(bins[:-1], success_hist_predicted, width=np.diff(bins), align='edge', color='green', edgecolor='black', label='Successes', alpha=0.7)\n",
        "plt.bar(bins[:-1], error_hist_predicted, width=np.diff(bins), align='edge', color='lightcoral', edgecolor='black', label='Errors', alpha=0.7)\n",
        "plt.bar(bins[:-1], overlap_hist_predicted, width=np.diff(bins), align='edge', color='purple', edgecolor='black', label='Overlap', alpha=0.7)\n",
        "# plt.title('MCP Histogram: Successes vs Errors')\n",
        "plt.xlabel('MCP')\n",
        "plt.ylabel('Count')\n",
        "plt.legend(loc='upper left')\n",
        "plt.grid(True)\n",
        "\n",
        "# Second subplot: Confidence Histogram\n",
        "plt.subplot(1, 2, 2)\n",
        "plt.bar(bins[:-1], success_hist_confidence, width=np.diff(bins), align='edge', color='green', edgecolor='black', label='Successes', alpha=0.7)\n",
        "plt.bar(bins[:-1], error_hist_confidence, width=np.diff(bins), align='edge', color='lightcoral', edgecolor='black', label='Errors', alpha=0.7)\n",
        "plt.bar(bins[:-1], overlap_hist_confidence, width=np.diff(bins), align='edge', color='purple', edgecolor='black', label='Overlap', alpha=0.7)\n",
        "# plt.title('Confidence Histogram: Successes vs Errors')\n",
        "plt.xlabel('Confidence')\n",
        "plt.ylabel('Count')\n",
        "plt.legend(loc='upper left')\n",
        "plt.grid(True)\n",
        "\n",
        "# Adjust layout and save the figure\n",
        "plt.tight_layout()\n",
        "# plt.savefig('Combined_Successes_vs_Errors_Histogram'+versions+split+'.png')\n",
        "plt.show()\n"
      ],
      "metadata": {
        "colab": {
          "base_uri": "https://localhost:8080/",
          "height": 442
        },
        "id": "atglulErMFua",
        "outputId": "6b3470f0-ef50-45fe-e3f1-8d76705a5de5"
      },
      "execution_count": null,
      "outputs": [
        {
          "output_type": "stream",
          "name": "stdout",
          "text": [
            "Number of successes (predicted class): 358, Number of errors (predicted class): 42\n",
            "Number of successes (confidence): 358, Number of errors (confidence): 42\n"
          ]
        },
        {
          "output_type": "display_data",
          "data": {
            "text/plain": [
              "<Figure size 1000x400 with 2 Axes>"
            ],
            "image/png": "[encoded data removed]"
          },
          "metadata": {}
        }
      ]
    },
    {
      "cell_type": "code",
      "source": [
        "import numpy as np\n",
        "import matplotlib.pyplot as plt\n",
        "import pandas as pd\n",
        "\n",
        "# Assuming df is your DataFrame with relevant columns\n",
        "\n",
        "# Step 1: Define Successes and Errors based on different metrics\n",
        "successes_predicted = df[df['ground_truth'] == df['prediction']]['p(predicted class)']\n",
        "errors_predicted = df[df['ground_truth'] != df['prediction']]['p(predicted class)']\n",
        "\n",
        "successes_confidence = df[df['ground_truth'] == df['prediction']]['confidence']\n",
        "errors_confidence = df[df['ground_truth'] != df['prediction']]['confidence']\n",
        "\n",
        "successes_yc_start = df[df['ground_truth'] == df['prediction']]['yc_star']\n",
        "errors_yc_start = df[df['ground_truth'] != df['prediction']]['yc_star']\n",
        "\n",
        "# Print counts for verification\n",
        "print(f\"Number of successes (predicted class): {len(successes_predicted)}, Number of errors (predicted class): {len(errors_predicted)}\")\n",
        "print(f\"Number of successes (confidence): {len(successes_confidence)}, Number of errors (confidence): {len(errors_confidence)}\")\n",
        "print(f\"Number of successes (yc_star): {len(successes_yc_start)}, Number of errors (yc_star): {len(errors_yc_start)}\")\n",
        "\n",
        "# Step 2: Create bins for histogram\n",
        "bins = np.linspace(0, 1, 11)  # 10 bins between 0 and 1\n",
        "\n",
        "# Step 3: Compute histogram values\n",
        "success_hist_predicted, _ = np.histogram(successes_predicted, bins=bins)\n",
        "error_hist_predicted, _ = np.histogram(errors_predicted, bins=bins)\n",
        "overlap_hist_predicted = np.minimum(success_hist_predicted, error_hist_predicted)\n",
        "\n",
        "success_hist_confidence, _ = np.histogram(successes_confidence, bins=bins)\n",
        "error_hist_confidence, _ = np.histogram(errors_confidence, bins=bins)\n",
        "overlap_hist_confidence = np.minimum(success_hist_confidence, error_hist_confidence)\n",
        "\n",
        "success_hist_yc_start, _ = np.histogram(successes_yc_start, bins=bins)\n",
        "error_hist_yc_start, _ = np.histogram(errors_yc_start, bins=bins)\n",
        "overlap_hist_yc_start = np.minimum(success_hist_yc_start, error_hist_yc_start)\n",
        "\n",
        "# Step 4: Plot histograms in a single figure with subplots\n",
        "plt.figure(figsize=(15, 4))\n",
        "\n",
        "# First subplot: p(predicted class) Histogram\n",
        "plt.subplot(1, 3, 1)\n",
        "plt.bar(bins[:-1], success_hist_predicted, width=np.diff(bins), align='edge', color='green', edgecolor='black', label='Successes', alpha=0.7)\n",
        "plt.bar(bins[:-1], error_hist_predicted, width=np.diff(bins), align='edge', color='lightcoral', edgecolor='black', label='Errors', alpha=0.7)\n",
        "plt.bar(bins[:-1], overlap_hist_predicted, width=np.diff(bins), align='edge', color='purple', edgecolor='black', label='Overlap', alpha=0.7)\n",
        "plt.xlabel('MCP')\n",
        "plt.ylabel('Count')\n",
        "plt.legend(loc='upper left')\n",
        "plt.grid(True)\n",
        "\n",
        "# Second subplot: Confidence Histogram\n",
        "plt.subplot(1, 3, 2)\n",
        "plt.bar(bins[:-1], success_hist_confidence, width=np.diff(bins), align='edge', color='green', edgecolor='black', label='Successes', alpha=0.7)\n",
        "plt.bar(bins[:-1], error_hist_confidence, width=np.diff(bins), align='edge', color='lightcoral', edgecolor='black', label='Errors', alpha=0.7)\n",
        "plt.bar(bins[:-1], overlap_hist_confidence, width=np.diff(bins), align='edge', color='purple', edgecolor='black', label='Overlap', alpha=0.7)\n",
        "plt.xlabel('Confidence')\n",
        "plt.ylabel('Count')\n",
        "plt.legend(loc='upper left')\n",
        "plt.grid(True)\n",
        "\n",
        "# Third subplot: yc_start Histogram\n",
        "plt.subplot(1, 3, 3)\n",
        "plt.bar(bins[:-1], success_hist_yc_start, width=np.diff(bins), align='edge', color='green', edgecolor='black', label='Successes', alpha=0.7)\n",
        "plt.bar(bins[:-1], error_hist_yc_start, width=np.diff(bins), align='edge', color='lightcoral', edgecolor='black', label='Errors', alpha=0.7)\n",
        "plt.bar(bins[:-1], overlap_hist_yc_start, width=np.diff(bins), align='edge', color='purple', edgecolor='black', label='Overlap', alpha=0.7)\n",
        "plt.xlabel('yc_start')\n",
        "plt.ylabel('Count')\n",
        "plt.legend(loc='upper left')\n",
        "plt.grid(True)\n",
        "\n",
        "# Adjust layout and save the figure\n",
        "plt.tight_layout()\n",
        "plt.show()\n"
      ],
      "metadata": {
        "colab": {
          "base_uri": "https://localhost:8080/",
          "height": 403
        },
        "id": "lMfu_ogJ-K-N",
        "outputId": "f3b223e9-62ef-4900-f8a7-2641a1e027ed"
      },
      "execution_count": null,
      "outputs": [
        {
          "output_type": "stream",
          "name": "stdout",
          "text": [
            "Number of successes (predicted class): 358, Number of errors (predicted class): 42\n",
            "Number of successes (confidence): 358, Number of errors (confidence): 42\n",
            "Number of successes (yc_star): 358, Number of errors (yc_star): 42\n"
          ]
        },
        {
          "output_type": "display_data",
          "data": {
            "text/plain": [
              "<Figure size 1500x400 with 3 Axes>"
            ],
            "image/png": "[encoded data removed]"
          },
          "metadata": {}
        }
      ]
    },
    {
      "cell_type": "code",
      "source": [
        "import numpy as np\n",
        "import matplotlib.pyplot as plt\n",
        "\n",
        "# Define confidence bins\n",
        "bins = np.linspace(0, 1, 11)  # 10 bins from 0 to 1\n",
        "df['confidence_bin'] = np.digitize(df['confidence'], bins) - 1  # Assign bins\n",
        "\n",
        "# Compute accuracy and count per bin\n",
        "bin_accuracies = []\n",
        "bin_counts = []\n",
        "bin_centers = []\n",
        "\n",
        "for i in range(10):  # 10 bins\n",
        "    bin_data = df[df['confidence_bin'] == i]\n",
        "    count = len(bin_data)\n",
        "    bin_counts.append(count)  # Store count of points\n",
        "\n",
        "    if count > 0:\n",
        "        accuracy = (bin_data['ground_truth'] == bin_data['prediction']).mean()\n",
        "        bin_accuracies.append(accuracy)\n",
        "    else:\n",
        "        bin_accuracies.append(0)  # No data in bin\n",
        "\n",
        "    # Get center of the bin\n",
        "    bin_centers.append((bins[i] + bins[i+1]) / 2)\n",
        "\n",
        "# Plot\n",
        "fig, ax1 = plt.subplots(figsize=(8, 5))\n",
        "\n",
        "# Plot accuracy\n",
        "ax1.plot(bin_centers, bin_accuracies, marker='o', linestyle='-', color='b', label=\"Accuracy\")\n",
        "ax1.set_xlabel(\"Confidence\")\n",
        "ax1.set_ylabel(\"Accuracy\", color='b')\n",
        "ax1.tick_params(axis='y', labelcolor='b')\n",
        "\n",
        "# Plot volume of points as a bar chart with log scale\n",
        "ax2 = ax1.twinx()\n",
        "ax2.bar(bin_centers, bin_counts, width=0.08, alpha=0.5, color='gray', label=\"Data Volume\")\n",
        "ax2.set_yscale('log')  # Set logarithmic scale\n",
        "ax2.set_ylabel(\"Data Volume (log scale)\", color='gray')\n",
        "ax2.tick_params(axis='y', labelcolor='gray')\n",
        "\n",
        "# Add title and grid\n",
        "plt.title(\"Confidence vs Accuracy (with Data Volume in Log Scale)\")\n",
        "ax1.grid(True, which=\"both\", linestyle=\"--\", alpha=0.6)\n",
        "\n",
        "fig.tight_layout()\n",
        "plt.show()\n"
      ],
      "metadata": {
        "colab": {
          "base_uri": "https://localhost:8080/",
          "height": 507
        },
        "id": "QZIxbJnANoBz",
        "outputId": "0666fea2-cb56-45ab-ce53-08e30ca15cd4"
      },
      "execution_count": null,
      "outputs": [
        {
          "output_type": "display_data",
          "data": {
            "text/plain": [
              "<Figure size 800x500 with 2 Axes>"
            ],
            "image/png": "[encoded data removed]"
          },
          "metadata": {}
        }
      ]
    },
    {
      "cell_type": "code",
      "source": [],
      "metadata": {
        "id": "i6fOzm244Cb8"
      },
      "execution_count": null,
      "outputs": []
    },
    {
      "cell_type": "code",
      "source": [],
      "metadata": {
        "id": "EvKuI35EKiv1"
      },
      "execution_count": null,
      "outputs": []
    },
    {
      "cell_type": "markdown",
      "source": [
        "##Balanced Training"
      ],
      "metadata": {
        "id": "WI4SHYAjLe68"
      }
    },
    {
      "cell_type": "code",
      "source": [
        "import numpy as np\n",
        "\n",
        "# Predict on the training data using the pre-trained model\n",
        "y_train_pred_probs = TCN_model.predict(x_train)  # Shape: (num_samples, num_classes)\n",
        "y_train_pred_classes = np.argmax(y_train_pred_probs, axis=-1)\n",
        "\n",
        "# Convert Y_train to class labels if it's one-hot encoded\n",
        "y_train_true_classes = np.argmax(y_train, axis=-1)\n",
        "\n",
        "# Identify indices of error and success samples\n",
        "error_indices = np.where(y_train_pred_classes != y_train_true_classes)[0]\n",
        "success_indices = np.where(y_train_pred_classes == y_train_true_classes)[0]\n",
        "\n",
        "print(f\"Number of success samples: {len(success_indices)}\")\n",
        "print(f\"Number of error samples: {len(error_indices)}\")\n"
      ],
      "metadata": {
        "colab": {
          "base_uri": "https://localhost:8080/"
        },
        "id": "Zijfwd_TKize",
        "outputId": "cb7150ee-08d6-4c97-c2a3-a95b9eeb10d8"
      },
      "execution_count": null,
      "outputs": [
        {
          "output_type": "stream",
          "name": "stdout",
          "text": [
            "\u001b[1m100/100\u001b[0m \u001b[32m━━━━━━━━━━━━━━━━━━━━\u001b[0m\u001b[37m\u001b[0m \u001b[1m0s\u001b[0m 2ms/step\n",
            "Number of success samples: 2885\n",
            "Number of error samples: 315\n"
          ]
        }
      ]
    },
    {
      "cell_type": "code",
      "source": [
        "def create_batches(X_train, Y_train, error_indices, success_indices, batch_size, num_error_per_batch):\n",
        "    num_error_samples = len(error_indices)\n",
        "    num_success_samples = len(success_indices)\n",
        "\n",
        "    # Shuffle indices at the start of each epoch\n",
        "    np.random.shuffle(error_indices)\n",
        "    np.random.shuffle(success_indices)\n",
        "\n",
        "    # Initialize variables\n",
        "    used_error_indices = 0\n",
        "    used_success_indices = 0\n",
        "    batches_X = []\n",
        "    batches_Y = []\n",
        "\n",
        "    # Calculate the number of full batches\n",
        "    num_full_batches = num_error_samples // num_error_per_batch\n",
        "\n",
        "    for _ in range(num_full_batches):\n",
        "        # Select error samples\n",
        "        error_start = used_error_indices\n",
        "        error_end = used_error_indices + num_error_per_batch\n",
        "        batch_error_indices = error_indices[error_start:error_end]\n",
        "        used_error_indices = error_end\n",
        "\n",
        "        # Select success samples\n",
        "        num_success_needed = batch_size - num_error_per_batch\n",
        "        success_end = used_success_indices + num_success_needed\n",
        "\n",
        "        if success_end > num_success_samples:\n",
        "            # Reshuffle and reset success indices\n",
        "            np.random.shuffle(success_indices)\n",
        "            used_success_indices = 0\n",
        "            success_end = num_success_needed\n",
        "\n",
        "        batch_success_indices = success_indices[used_success_indices:used_success_indices + num_success_needed]\n",
        "        used_success_indices += num_success_needed\n",
        "\n",
        "        # Combine and shuffle batch indices\n",
        "        batch_indices = np.concatenate([batch_error_indices, batch_success_indices])\n",
        "        np.random.shuffle(batch_indices)\n",
        "\n",
        "        # Get data and labels for the batch\n",
        "        batch_X = X_train[batch_indices]\n",
        "        batch_Y = Y_train[batch_indices]\n",
        "\n",
        "        batches_X.append(batch_X)\n",
        "        batches_Y.append(batch_Y)\n",
        "\n",
        "    # Handle remaining error samples (if any)\n",
        "    remaining_error_samples = num_error_samples % num_error_per_batch\n",
        "    if remaining_error_samples > 0:\n",
        "        error_start = used_error_indices\n",
        "        error_end = used_error_indices + remaining_error_samples\n",
        "        batch_error_indices = error_indices[error_start:error_end]\n",
        "\n",
        "        num_success_needed = batch_size - remaining_error_samples\n",
        "        success_end = used_success_indices + num_success_needed\n",
        "\n",
        "        if success_end > num_success_samples:\n",
        "            # Reshuffle and reset success indices\n",
        "            np.random.shuffle(success_indices)\n",
        "            used_success_indices = 0\n",
        "            success_end = num_success_needed\n",
        "\n",
        "        batch_success_indices = success_indices[used_success_indices:used_success_indices + num_success_needed]\n",
        "        used_success_indices += num_success_needed\n",
        "\n",
        "        # Combine and shuffle batch indices\n",
        "        batch_indices = np.concatenate([batch_error_indices, batch_success_indices])\n",
        "        np.random.shuffle(batch_indices)\n",
        "\n",
        "        # Get data and labels for the batch\n",
        "        batch_X = X_train[batch_indices]\n",
        "        batch_Y = Y_train[batch_indices]\n",
        "\n",
        "        batches_X.append(batch_X)\n",
        "        batches_Y.append(batch_Y)\n",
        "\n",
        "    return batches_X, batches_Y\n"
      ],
      "metadata": {
        "id": "4Lp_0QS-LJOw"
      },
      "execution_count": null,
      "outputs": []
    },
    {
      "cell_type": "code",
      "source": [
        "def train_step(x, y):\n",
        "    with tf.GradientTape() as tape:\n",
        "        y_pre = TCN_model(x, training=True)  # Shape: (batch_size, num_classes)\n",
        "        y_conf = confidnet_model(x)  # Shape: (batch_size, 1)\n",
        "\n",
        "        # Calculate loss with the updated loss function\n",
        "        loss = l_conf(y, y_pre, y_conf)\n",
        "    grads = tape.gradient(loss, confidnet_model.trainable_variables)\n",
        "    optimizer.apply_gradients(zip(grads, confidnet_model.trainable_variables))\n",
        "    return loss\n",
        "\n",
        "def test_step(x, y):\n",
        "    y_pre = TCN_model(x, training=False)  # Shape: (batch_size, num_classes)\n",
        "    y_conf = confidnet_model(x, training=False)  # Shape: (batch_size, 1)\n",
        "    loss = l_conf(y, y_pre, y_conf)\n",
        "    return loss\n"
      ],
      "metadata": {
        "id": "b_6NbSNKLJR0"
      },
      "execution_count": null,
      "outputs": []
    },
    {
      "cell_type": "code",
      "source": [
        "batch_size = 64  # Ensure batch_size > 20\n",
        "num_error_per_batch = 40\n",
        "epochs = 100  # Define the number of epochs"
      ],
      "metadata": {
        "id": "PPaI24clLJVA"
      },
      "execution_count": null,
      "outputs": []
    },
    {
      "cell_type": "code",
      "source": [
        "for epoch in range(epochs):\n",
        "    print(f'Epoch {epoch + 1}/{epochs}')\n",
        "\n",
        "    # Create batches for the epoch\n",
        "    batches_X, batches_Y = create_batches(\n",
        "        x_train,\n",
        "        y_train,\n",
        "        error_indices,\n",
        "        success_indices,\n",
        "        batch_size,\n",
        "        num_error_per_batch\n",
        "    )\n",
        "\n",
        "    # Convert batches to arrays\n",
        "    batches_X = np.array(batches_X)\n",
        "    batches_Y = np.array(batches_Y)\n",
        "\n",
        "    # Create the dataset from batches\n",
        "    train_dataset = tf.data.Dataset.from_tensor_slices((batches_X, batches_Y))\n",
        "    train_dataset = train_dataset.prefetch(tf.data.AUTOTUNE)\n",
        "\n",
        "    # Training step\n",
        "    for step, (x_batch, y_batch) in enumerate(tqdm(train_dataset, total=len(train_dataset))):\n",
        "        loss_value = train_step(x_batch, y_batch)\n",
        "\n",
        "    # Validation step remains the same\n",
        "    total_val_loss = 0\n",
        "    for x_val_batch, y_val_batch in val_dataset:\n",
        "        val_loss_value = test_step(x_val_batch, y_val_batch)\n",
        "        total_val_loss += val_loss_value\n",
        "\n",
        "    avg_val_loss = total_val_loss / len(val_dataset)\n",
        "    print(f'Validation Loss: {avg_val_loss.numpy():.4f}')\n"
      ],
      "metadata": {
        "colab": {
          "base_uri": "https://localhost:8080/"
        },
        "id": "ErTVEHYeLJXb",
        "outputId": "64a093e4-9d93-479e-99c7-89f6b3475ba0"
      },
      "execution_count": null,
      "outputs": [
        {
          "output_type": "stream",
          "name": "stdout",
          "text": [
            "Epoch 1/100\n"
          ]
        },
        {
          "output_type": "stream",
          "name": "stderr",
          "text": [
            "100%|██████████| 8/8 [00:00<00:00, 10.55it/s]\n"
          ]
        },
        {
          "output_type": "stream",
          "name": "stdout",
          "text": [
            "Validation Loss: 0.1202\n",
            "Epoch 2/100\n"
          ]
        },
        {
          "output_type": "stream",
          "name": "stderr",
          "text": [
            "100%|██████████| 8/8 [00:01<00:00,  6.32it/s]\n"
          ]
        },
        {
          "output_type": "stream",
          "name": "stdout",
          "text": [
            "Validation Loss: 0.1200\n",
            "Epoch 3/100\n"
          ]
        },
        {
          "output_type": "stream",
          "name": "stderr",
          "text": [
            "100%|██████████| 8/8 [00:00<00:00,  8.08it/s]\n"
          ]
        },
        {
          "output_type": "stream",
          "name": "stdout",
          "text": [
            "Validation Loss: 0.1196\n",
            "Epoch 4/100\n"
          ]
        },
        {
          "output_type": "stream",
          "name": "stderr",
          "text": [
            "100%|██████████| 8/8 [00:01<00:00,  6.32it/s]\n"
          ]
        },
        {
          "output_type": "stream",
          "name": "stdout",
          "text": [
            "Validation Loss: 0.1192\n",
            "Epoch 5/100\n"
          ]
        },
        {
          "output_type": "stream",
          "name": "stderr",
          "text": [
            "100%|██████████| 8/8 [00:00<00:00, 10.85it/s]\n"
          ]
        },
        {
          "output_type": "stream",
          "name": "stdout",
          "text": [
            "Validation Loss: 0.1190\n",
            "Epoch 6/100\n"
          ]
        },
        {
          "output_type": "stream",
          "name": "stderr",
          "text": [
            "100%|██████████| 8/8 [00:00<00:00, 10.69it/s]\n"
          ]
        },
        {
          "output_type": "stream",
          "name": "stdout",
          "text": [
            "Validation Loss: 0.1189\n",
            "Epoch 7/100\n"
          ]
        },
        {
          "output_type": "stream",
          "name": "stderr",
          "text": [
            "100%|██████████| 8/8 [00:00<00:00, 10.66it/s]\n"
          ]
        },
        {
          "output_type": "stream",
          "name": "stdout",
          "text": [
            "Validation Loss: 0.1187\n",
            "Epoch 8/100\n"
          ]
        },
        {
          "output_type": "stream",
          "name": "stderr",
          "text": [
            "100%|██████████| 8/8 [00:01<00:00,  6.32it/s]\n"
          ]
        },
        {
          "output_type": "stream",
          "name": "stdout",
          "text": [
            "Validation Loss: 0.1185\n",
            "Epoch 9/100\n"
          ]
        },
        {
          "output_type": "stream",
          "name": "stderr",
          "text": [
            "100%|██████████| 8/8 [00:00<00:00, 10.76it/s]\n"
          ]
        },
        {
          "output_type": "stream",
          "name": "stdout",
          "text": [
            "Validation Loss: 0.1182\n",
            "Epoch 10/100\n"
          ]
        },
        {
          "output_type": "stream",
          "name": "stderr",
          "text": [
            "100%|██████████| 8/8 [00:00<00:00, 10.47it/s]\n"
          ]
        },
        {
          "output_type": "stream",
          "name": "stdout",
          "text": [
            "Validation Loss: 0.1177\n",
            "Epoch 11/100\n"
          ]
        },
        {
          "output_type": "stream",
          "name": "stderr",
          "text": [
            "100%|██████████| 8/8 [00:00<00:00, 10.95it/s]\n"
          ]
        },
        {
          "output_type": "stream",
          "name": "stdout",
          "text": [
            "Validation Loss: 0.1172\n",
            "Epoch 12/100\n"
          ]
        },
        {
          "output_type": "stream",
          "name": "stderr",
          "text": [
            "100%|██████████| 8/8 [00:01<00:00,  6.32it/s]\n"
          ]
        },
        {
          "output_type": "stream",
          "name": "stdout",
          "text": [
            "Validation Loss: 0.1166\n",
            "Epoch 13/100\n"
          ]
        },
        {
          "output_type": "stream",
          "name": "stderr",
          "text": [
            "100%|██████████| 8/8 [00:00<00:00,  9.46it/s]\n"
          ]
        },
        {
          "output_type": "stream",
          "name": "stdout",
          "text": [
            "Validation Loss: 0.1162\n",
            "Epoch 14/100\n"
          ]
        },
        {
          "output_type": "stream",
          "name": "stderr",
          "text": [
            "100%|██████████| 8/8 [00:00<00:00, 10.65it/s]\n"
          ]
        },
        {
          "output_type": "stream",
          "name": "stdout",
          "text": [
            "Validation Loss: 0.1156\n",
            "Epoch 15/100\n"
          ]
        },
        {
          "output_type": "stream",
          "name": "stderr",
          "text": [
            "100%|██████████| 8/8 [00:01<00:00,  6.32it/s]\n"
          ]
        },
        {
          "output_type": "stream",
          "name": "stdout",
          "text": [
            "Validation Loss: 0.1151\n",
            "Epoch 16/100\n"
          ]
        },
        {
          "output_type": "stream",
          "name": "stderr",
          "text": [
            "100%|██████████| 8/8 [00:01<00:00,  6.33it/s]\n"
          ]
        },
        {
          "output_type": "stream",
          "name": "stdout",
          "text": [
            "Validation Loss: 0.1146\n",
            "Epoch 17/100\n"
          ]
        },
        {
          "output_type": "stream",
          "name": "stderr",
          "text": [
            "100%|██████████| 8/8 [00:00<00:00, 10.40it/s]\n"
          ]
        },
        {
          "output_type": "stream",
          "name": "stdout",
          "text": [
            "Validation Loss: 0.1144\n",
            "Epoch 18/100\n"
          ]
        },
        {
          "output_type": "stream",
          "name": "stderr",
          "text": [
            "100%|██████████| 8/8 [00:01<00:00,  6.32it/s]\n"
          ]
        },
        {
          "output_type": "stream",
          "name": "stdout",
          "text": [
            "Validation Loss: 0.1141\n",
            "Epoch 19/100\n"
          ]
        },
        {
          "output_type": "stream",
          "name": "stderr",
          "text": [
            "100%|██████████| 8/8 [00:01<00:00,  6.32it/s]\n"
          ]
        },
        {
          "output_type": "stream",
          "name": "stdout",
          "text": [
            "Validation Loss: 0.1137\n",
            "Epoch 20/100\n"
          ]
        },
        {
          "output_type": "stream",
          "name": "stderr",
          "text": [
            "100%|██████████| 8/8 [00:00<00:00, 10.36it/s]\n"
          ]
        },
        {
          "output_type": "stream",
          "name": "stdout",
          "text": [
            "Validation Loss: 0.1138\n",
            "Epoch 21/100\n"
          ]
        },
        {
          "output_type": "stream",
          "name": "stderr",
          "text": [
            "100%|██████████| 8/8 [00:01<00:00,  6.31it/s]\n"
          ]
        },
        {
          "output_type": "stream",
          "name": "stdout",
          "text": [
            "Validation Loss: 0.1137\n",
            "Epoch 22/100\n"
          ]
        },
        {
          "output_type": "stream",
          "name": "stderr",
          "text": [
            "100%|██████████| 8/8 [00:00<00:00, 10.70it/s]\n"
          ]
        },
        {
          "output_type": "stream",
          "name": "stdout",
          "text": [
            "Validation Loss: 0.1135\n",
            "Epoch 23/100\n"
          ]
        },
        {
          "output_type": "stream",
          "name": "stderr",
          "text": [
            "100%|██████████| 8/8 [00:00<00:00, 10.66it/s]\n"
          ]
        },
        {
          "output_type": "stream",
          "name": "stdout",
          "text": [
            "Validation Loss: 0.1135\n",
            "Epoch 24/100\n"
          ]
        },
        {
          "output_type": "stream",
          "name": "stderr",
          "text": [
            "100%|██████████| 8/8 [00:01<00:00,  6.32it/s]\n"
          ]
        },
        {
          "output_type": "stream",
          "name": "stdout",
          "text": [
            "Validation Loss: 0.1136\n",
            "Epoch 25/100\n"
          ]
        },
        {
          "output_type": "stream",
          "name": "stderr",
          "text": [
            "100%|██████████| 8/8 [00:01<00:00,  6.32it/s]\n"
          ]
        },
        {
          "output_type": "stream",
          "name": "stdout",
          "text": [
            "Validation Loss: 0.1132\n",
            "Epoch 26/100\n"
          ]
        },
        {
          "output_type": "stream",
          "name": "stderr",
          "text": [
            "100%|██████████| 8/8 [00:00<00:00, 10.97it/s]\n"
          ]
        },
        {
          "output_type": "stream",
          "name": "stdout",
          "text": [
            "Validation Loss: 0.1131\n",
            "Epoch 27/100\n"
          ]
        },
        {
          "output_type": "stream",
          "name": "stderr",
          "text": [
            "100%|██████████| 8/8 [00:01<00:00,  6.32it/s]\n"
          ]
        },
        {
          "output_type": "stream",
          "name": "stdout",
          "text": [
            "Validation Loss: 0.1130\n",
            "Epoch 28/100\n"
          ]
        },
        {
          "output_type": "stream",
          "name": "stderr",
          "text": [
            "100%|██████████| 8/8 [00:01<00:00,  6.31it/s]\n"
          ]
        },
        {
          "output_type": "stream",
          "name": "stdout",
          "text": [
            "Validation Loss: 0.1129\n",
            "Epoch 29/100\n"
          ]
        },
        {
          "output_type": "stream",
          "name": "stderr",
          "text": [
            "100%|██████████| 8/8 [00:00<00:00, 10.58it/s]\n"
          ]
        },
        {
          "output_type": "stream",
          "name": "stdout",
          "text": [
            "Validation Loss: 0.1130\n",
            "Epoch 30/100\n"
          ]
        },
        {
          "output_type": "stream",
          "name": "stderr",
          "text": [
            "100%|██████████| 8/8 [00:01<00:00,  6.31it/s]\n"
          ]
        },
        {
          "output_type": "stream",
          "name": "stdout",
          "text": [
            "Validation Loss: 0.1130\n",
            "Epoch 31/100\n"
          ]
        },
        {
          "output_type": "stream",
          "name": "stderr",
          "text": [
            "100%|██████████| 8/8 [00:00<00:00, 10.56it/s]\n"
          ]
        },
        {
          "output_type": "stream",
          "name": "stdout",
          "text": [
            "Validation Loss: 0.1130\n",
            "Epoch 32/100\n"
          ]
        },
        {
          "output_type": "stream",
          "name": "stderr",
          "text": [
            "100%|██████████| 8/8 [00:00<00:00, 10.33it/s]\n"
          ]
        },
        {
          "output_type": "stream",
          "name": "stdout",
          "text": [
            "Validation Loss: 0.1133\n",
            "Epoch 33/100\n"
          ]
        },
        {
          "output_type": "stream",
          "name": "stderr",
          "text": [
            "100%|██████████| 8/8 [00:01<00:00,  6.32it/s]\n"
          ]
        },
        {
          "output_type": "stream",
          "name": "stdout",
          "text": [
            "Validation Loss: 0.1134\n",
            "Epoch 34/100\n"
          ]
        },
        {
          "output_type": "stream",
          "name": "stderr",
          "text": [
            "100%|██████████| 8/8 [00:00<00:00, 10.55it/s]\n"
          ]
        },
        {
          "output_type": "stream",
          "name": "stdout",
          "text": [
            "Validation Loss: 0.1137\n",
            "Epoch 35/100\n"
          ]
        },
        {
          "output_type": "stream",
          "name": "stderr",
          "text": [
            "100%|██████████| 8/8 [00:01<00:00,  6.32it/s]\n"
          ]
        },
        {
          "output_type": "stream",
          "name": "stdout",
          "text": [
            "Validation Loss: 0.1138\n",
            "Epoch 36/100\n"
          ]
        },
        {
          "output_type": "stream",
          "name": "stderr",
          "text": [
            "100%|██████████| 8/8 [00:00<00:00, 10.69it/s]\n"
          ]
        },
        {
          "output_type": "stream",
          "name": "stdout",
          "text": [
            "Validation Loss: 0.1138\n",
            "Epoch 37/100\n"
          ]
        },
        {
          "output_type": "stream",
          "name": "stderr",
          "text": [
            "100%|██████████| 8/8 [00:00<00:00, 10.38it/s]\n"
          ]
        },
        {
          "output_type": "stream",
          "name": "stdout",
          "text": [
            "Validation Loss: 0.1138\n",
            "Epoch 38/100\n"
          ]
        },
        {
          "output_type": "stream",
          "name": "stderr",
          "text": [
            "100%|██████████| 8/8 [00:00<00:00, 10.42it/s]\n"
          ]
        },
        {
          "output_type": "stream",
          "name": "stdout",
          "text": [
            "Validation Loss: 0.1138\n",
            "Epoch 39/100\n"
          ]
        },
        {
          "output_type": "stream",
          "name": "stderr",
          "text": [
            "100%|██████████| 8/8 [00:00<00:00,  9.49it/s]\n"
          ]
        },
        {
          "output_type": "stream",
          "name": "stdout",
          "text": [
            "Validation Loss: 0.1137\n",
            "Epoch 40/100\n"
          ]
        },
        {
          "output_type": "stream",
          "name": "stderr",
          "text": [
            "100%|██████████| 8/8 [00:01<00:00,  6.98it/s]\n"
          ]
        },
        {
          "output_type": "stream",
          "name": "stdout",
          "text": [
            "Validation Loss: 0.1132\n",
            "Epoch 41/100\n"
          ]
        },
        {
          "output_type": "stream",
          "name": "stderr",
          "text": [
            "100%|██████████| 8/8 [00:00<00:00, 10.62it/s]\n"
          ]
        },
        {
          "output_type": "stream",
          "name": "stdout",
          "text": [
            "Validation Loss: 0.1129\n",
            "Epoch 42/100\n"
          ]
        },
        {
          "output_type": "stream",
          "name": "stderr",
          "text": [
            "100%|██████████| 8/8 [00:00<00:00, 10.46it/s]\n"
          ]
        },
        {
          "output_type": "stream",
          "name": "stdout",
          "text": [
            "Validation Loss: 0.1127\n",
            "Epoch 43/100\n"
          ]
        },
        {
          "output_type": "stream",
          "name": "stderr",
          "text": [
            "100%|██████████| 8/8 [00:01<00:00,  6.33it/s]\n"
          ]
        },
        {
          "output_type": "stream",
          "name": "stdout",
          "text": [
            "Validation Loss: 0.1125\n",
            "Epoch 44/100\n"
          ]
        },
        {
          "output_type": "stream",
          "name": "stderr",
          "text": [
            "100%|██████████| 8/8 [00:00<00:00, 10.86it/s]\n"
          ]
        },
        {
          "output_type": "stream",
          "name": "stdout",
          "text": [
            "Validation Loss: 0.1125\n",
            "Epoch 45/100\n"
          ]
        },
        {
          "output_type": "stream",
          "name": "stderr",
          "text": [
            "100%|██████████| 8/8 [00:01<00:00,  6.32it/s]\n"
          ]
        },
        {
          "output_type": "stream",
          "name": "stdout",
          "text": [
            "Validation Loss: 0.1124\n",
            "Epoch 46/100\n"
          ]
        },
        {
          "output_type": "stream",
          "name": "stderr",
          "text": [
            "100%|██████████| 8/8 [00:01<00:00,  6.32it/s]\n"
          ]
        },
        {
          "output_type": "stream",
          "name": "stdout",
          "text": [
            "Validation Loss: 0.1123\n",
            "Epoch 47/100\n"
          ]
        },
        {
          "output_type": "stream",
          "name": "stderr",
          "text": [
            "100%|██████████| 8/8 [00:00<00:00, 10.82it/s]\n"
          ]
        },
        {
          "output_type": "stream",
          "name": "stdout",
          "text": [
            "Validation Loss: 0.1119\n",
            "Epoch 48/100\n"
          ]
        },
        {
          "output_type": "stream",
          "name": "stderr",
          "text": [
            "100%|██████████| 8/8 [00:00<00:00, 10.94it/s]\n"
          ]
        },
        {
          "output_type": "stream",
          "name": "stdout",
          "text": [
            "Validation Loss: 0.1118\n",
            "Epoch 49/100\n"
          ]
        },
        {
          "output_type": "stream",
          "name": "stderr",
          "text": [
            "100%|██████████| 8/8 [00:01<00:00,  7.55it/s]\n"
          ]
        },
        {
          "output_type": "stream",
          "name": "stdout",
          "text": [
            "Validation Loss: 0.1119\n",
            "Epoch 50/100\n"
          ]
        },
        {
          "output_type": "stream",
          "name": "stderr",
          "text": [
            "100%|██████████| 8/8 [00:01<00:00,  7.58it/s]\n"
          ]
        },
        {
          "output_type": "stream",
          "name": "stdout",
          "text": [
            "Validation Loss: 0.1119\n",
            "Epoch 51/100\n"
          ]
        },
        {
          "output_type": "stream",
          "name": "stderr",
          "text": [
            "100%|██████████| 8/8 [00:00<00:00, 10.23it/s]\n"
          ]
        },
        {
          "output_type": "stream",
          "name": "stdout",
          "text": [
            "Validation Loss: 0.1119\n",
            "Epoch 52/100\n"
          ]
        },
        {
          "output_type": "stream",
          "name": "stderr",
          "text": [
            "100%|██████████| 8/8 [00:00<00:00, 10.87it/s]\n"
          ]
        },
        {
          "output_type": "stream",
          "name": "stdout",
          "text": [
            "Validation Loss: 0.1119\n",
            "Epoch 53/100\n"
          ]
        },
        {
          "output_type": "stream",
          "name": "stderr",
          "text": [
            "100%|██████████| 8/8 [00:01<00:00,  6.32it/s]\n"
          ]
        },
        {
          "output_type": "stream",
          "name": "stdout",
          "text": [
            "Validation Loss: 0.1117\n",
            "Epoch 54/100\n"
          ]
        },
        {
          "output_type": "stream",
          "name": "stderr",
          "text": [
            "100%|██████████| 8/8 [00:00<00:00, 10.31it/s]\n"
          ]
        },
        {
          "output_type": "stream",
          "name": "stdout",
          "text": [
            "Validation Loss: 0.1118\n",
            "Epoch 55/100\n"
          ]
        },
        {
          "output_type": "stream",
          "name": "stderr",
          "text": [
            "100%|██████████| 8/8 [00:00<00:00, 10.57it/s]\n"
          ]
        },
        {
          "output_type": "stream",
          "name": "stdout",
          "text": [
            "Validation Loss: 0.1118\n",
            "Epoch 56/100\n"
          ]
        },
        {
          "output_type": "stream",
          "name": "stderr",
          "text": [
            "100%|██████████| 8/8 [00:00<00:00, 10.73it/s]\n"
          ]
        },
        {
          "output_type": "stream",
          "name": "stdout",
          "text": [
            "Validation Loss: 0.1117\n",
            "Epoch 57/100\n"
          ]
        },
        {
          "output_type": "stream",
          "name": "stderr",
          "text": [
            "100%|██████████| 8/8 [00:01<00:00,  6.32it/s]\n"
          ]
        },
        {
          "output_type": "stream",
          "name": "stdout",
          "text": [
            "Validation Loss: 0.1115\n",
            "Epoch 58/100\n"
          ]
        },
        {
          "output_type": "stream",
          "name": "stderr",
          "text": [
            "100%|██████████| 8/8 [00:01<00:00,  6.32it/s]\n"
          ]
        },
        {
          "output_type": "stream",
          "name": "stdout",
          "text": [
            "Validation Loss: 0.1115\n",
            "Epoch 59/100\n"
          ]
        },
        {
          "output_type": "stream",
          "name": "stderr",
          "text": [
            "100%|██████████| 8/8 [00:01<00:00,  6.32it/s]\n"
          ]
        },
        {
          "output_type": "stream",
          "name": "stdout",
          "text": [
            "Validation Loss: 0.1118\n",
            "Epoch 60/100\n"
          ]
        },
        {
          "output_type": "stream",
          "name": "stderr",
          "text": [
            "100%|██████████| 8/8 [00:01<00:00,  6.32it/s]\n"
          ]
        },
        {
          "output_type": "stream",
          "name": "stdout",
          "text": [
            "Validation Loss: 0.1117\n",
            "Epoch 61/100\n"
          ]
        },
        {
          "output_type": "stream",
          "name": "stderr",
          "text": [
            "100%|██████████| 8/8 [00:00<00:00, 10.69it/s]\n"
          ]
        },
        {
          "output_type": "stream",
          "name": "stdout",
          "text": [
            "Validation Loss: 0.1116\n",
            "Epoch 62/100\n"
          ]
        },
        {
          "output_type": "stream",
          "name": "stderr",
          "text": [
            "100%|██████████| 8/8 [00:01<00:00,  6.32it/s]\n"
          ]
        },
        {
          "output_type": "stream",
          "name": "stdout",
          "text": [
            "Validation Loss: 0.1116\n",
            "Epoch 63/100\n"
          ]
        },
        {
          "output_type": "stream",
          "name": "stderr",
          "text": [
            "100%|██████████| 8/8 [00:01<00:00,  6.32it/s]\n"
          ]
        },
        {
          "output_type": "stream",
          "name": "stdout",
          "text": [
            "Validation Loss: 0.1116\n",
            "Epoch 64/100\n"
          ]
        },
        {
          "output_type": "stream",
          "name": "stderr",
          "text": [
            "100%|██████████| 8/8 [00:00<00:00, 10.54it/s]\n"
          ]
        },
        {
          "output_type": "stream",
          "name": "stdout",
          "text": [
            "Validation Loss: 0.1117\n",
            "Epoch 65/100\n"
          ]
        },
        {
          "output_type": "stream",
          "name": "stderr",
          "text": [
            "100%|██████████| 8/8 [00:01<00:00,  6.32it/s]\n"
          ]
        },
        {
          "output_type": "stream",
          "name": "stdout",
          "text": [
            "Validation Loss: 0.1120\n",
            "Epoch 66/100\n"
          ]
        },
        {
          "output_type": "stream",
          "name": "stderr",
          "text": [
            "100%|██████████| 8/8 [00:00<00:00, 10.09it/s]\n"
          ]
        },
        {
          "output_type": "stream",
          "name": "stdout",
          "text": [
            "Validation Loss: 0.1122\n",
            "Epoch 67/100\n"
          ]
        },
        {
          "output_type": "stream",
          "name": "stderr",
          "text": [
            "100%|██████████| 8/8 [00:01<00:00,  6.32it/s]\n"
          ]
        },
        {
          "output_type": "stream",
          "name": "stdout",
          "text": [
            "Validation Loss: 0.1123\n",
            "Epoch 68/100\n"
          ]
        },
        {
          "output_type": "stream",
          "name": "stderr",
          "text": [
            "100%|██████████| 8/8 [00:01<00:00,  6.31it/s]\n"
          ]
        },
        {
          "output_type": "stream",
          "name": "stdout",
          "text": [
            "Validation Loss: 0.1122\n",
            "Epoch 69/100\n"
          ]
        },
        {
          "output_type": "stream",
          "name": "stderr",
          "text": [
            "100%|██████████| 8/8 [00:00<00:00, 10.56it/s]\n"
          ]
        },
        {
          "output_type": "stream",
          "name": "stdout",
          "text": [
            "Validation Loss: 0.1119\n",
            "Epoch 70/100\n"
          ]
        },
        {
          "output_type": "stream",
          "name": "stderr",
          "text": [
            "100%|██████████| 8/8 [00:00<00:00, 10.33it/s]\n"
          ]
        },
        {
          "output_type": "stream",
          "name": "stdout",
          "text": [
            "Validation Loss: 0.1120\n",
            "Epoch 71/100\n"
          ]
        },
        {
          "output_type": "stream",
          "name": "stderr",
          "text": [
            "100%|██████████| 8/8 [00:01<00:00,  6.32it/s]\n"
          ]
        },
        {
          "output_type": "stream",
          "name": "stdout",
          "text": [
            "Validation Loss: 0.1119\n",
            "Epoch 72/100\n"
          ]
        },
        {
          "output_type": "stream",
          "name": "stderr",
          "text": [
            "100%|██████████| 8/8 [00:00<00:00, 10.42it/s]\n"
          ]
        },
        {
          "output_type": "stream",
          "name": "stdout",
          "text": [
            "Validation Loss: 0.1117\n",
            "Epoch 73/100\n"
          ]
        },
        {
          "output_type": "stream",
          "name": "stderr",
          "text": [
            "100%|██████████| 8/8 [00:00<00:00, 10.28it/s]\n"
          ]
        },
        {
          "output_type": "stream",
          "name": "stdout",
          "text": [
            "Validation Loss: 0.1119\n",
            "Epoch 74/100\n"
          ]
        },
        {
          "output_type": "stream",
          "name": "stderr",
          "text": [
            "100%|██████████| 8/8 [00:01<00:00,  6.32it/s]\n"
          ]
        },
        {
          "output_type": "stream",
          "name": "stdout",
          "text": [
            "Validation Loss: 0.1123\n",
            "Epoch 75/100\n"
          ]
        },
        {
          "output_type": "stream",
          "name": "stderr",
          "text": [
            "100%|██████████| 8/8 [00:00<00:00, 10.29it/s]\n"
          ]
        },
        {
          "output_type": "stream",
          "name": "stdout",
          "text": [
            "Validation Loss: 0.1124\n",
            "Epoch 76/100\n"
          ]
        },
        {
          "output_type": "stream",
          "name": "stderr",
          "text": [
            "100%|██████████| 8/8 [00:01<00:00,  6.32it/s]\n"
          ]
        },
        {
          "output_type": "stream",
          "name": "stdout",
          "text": [
            "Validation Loss: 0.1124\n",
            "Epoch 77/100\n"
          ]
        },
        {
          "output_type": "stream",
          "name": "stderr",
          "text": [
            "100%|██████████| 8/8 [00:01<00:00,  6.32it/s]\n"
          ]
        },
        {
          "output_type": "stream",
          "name": "stdout",
          "text": [
            "Validation Loss: 0.1125\n",
            "Epoch 78/100\n"
          ]
        },
        {
          "output_type": "stream",
          "name": "stderr",
          "text": [
            "100%|██████████| 8/8 [00:00<00:00, 10.25it/s]\n"
          ]
        },
        {
          "output_type": "stream",
          "name": "stdout",
          "text": [
            "Validation Loss: 0.1125\n",
            "Epoch 79/100\n"
          ]
        },
        {
          "output_type": "stream",
          "name": "stderr",
          "text": [
            "100%|██████████| 8/8 [00:00<00:00, 10.21it/s]\n"
          ]
        },
        {
          "output_type": "stream",
          "name": "stdout",
          "text": [
            "Validation Loss: 0.1124\n",
            "Epoch 80/100\n"
          ]
        },
        {
          "output_type": "stream",
          "name": "stderr",
          "text": [
            "100%|██████████| 8/8 [00:00<00:00, 10.26it/s]\n"
          ]
        },
        {
          "output_type": "stream",
          "name": "stdout",
          "text": [
            "Validation Loss: 0.1123\n",
            "Epoch 81/100\n"
          ]
        },
        {
          "output_type": "stream",
          "name": "stderr",
          "text": [
            "100%|██████████| 8/8 [00:01<00:00,  6.32it/s]\n"
          ]
        },
        {
          "output_type": "stream",
          "name": "stdout",
          "text": [
            "Validation Loss: 0.1122\n",
            "Epoch 82/100\n"
          ]
        },
        {
          "output_type": "stream",
          "name": "stderr",
          "text": [
            "100%|██████████| 8/8 [00:01<00:00,  6.32it/s]\n"
          ]
        },
        {
          "output_type": "stream",
          "name": "stdout",
          "text": [
            "Validation Loss: 0.1121\n",
            "Epoch 83/100\n"
          ]
        },
        {
          "output_type": "stream",
          "name": "stderr",
          "text": [
            "100%|██████████| 8/8 [00:01<00:00,  6.32it/s]\n"
          ]
        },
        {
          "output_type": "stream",
          "name": "stdout",
          "text": [
            "Validation Loss: 0.1117\n",
            "Epoch 84/100\n"
          ]
        },
        {
          "output_type": "stream",
          "name": "stderr",
          "text": [
            "100%|██████████| 8/8 [00:00<00:00, 10.32it/s]\n"
          ]
        },
        {
          "output_type": "stream",
          "name": "stdout",
          "text": [
            "Validation Loss: 0.1114\n",
            "Epoch 85/100\n"
          ]
        },
        {
          "output_type": "stream",
          "name": "stderr",
          "text": [
            "100%|██████████| 8/8 [00:01<00:00,  6.32it/s]\n"
          ]
        },
        {
          "output_type": "stream",
          "name": "stdout",
          "text": [
            "Validation Loss: 0.1111\n",
            "Epoch 86/100\n"
          ]
        },
        {
          "output_type": "stream",
          "name": "stderr",
          "text": [
            "100%|██████████| 8/8 [00:00<00:00,  8.94it/s]\n"
          ]
        },
        {
          "output_type": "stream",
          "name": "stdout",
          "text": [
            "Validation Loss: 0.1108\n",
            "Epoch 87/100\n"
          ]
        },
        {
          "output_type": "stream",
          "name": "stderr",
          "text": [
            "100%|██████████| 8/8 [00:00<00:00, 10.31it/s]\n"
          ]
        },
        {
          "output_type": "stream",
          "name": "stdout",
          "text": [
            "Validation Loss: 0.1106\n",
            "Epoch 88/100\n"
          ]
        },
        {
          "output_type": "stream",
          "name": "stderr",
          "text": [
            "100%|██████████| 8/8 [00:01<00:00,  6.32it/s]\n"
          ]
        },
        {
          "output_type": "stream",
          "name": "stdout",
          "text": [
            "Validation Loss: 0.1102\n",
            "Epoch 89/100\n"
          ]
        },
        {
          "output_type": "stream",
          "name": "stderr",
          "text": [
            "100%|██████████| 8/8 [00:00<00:00, 10.42it/s]\n"
          ]
        },
        {
          "output_type": "stream",
          "name": "stdout",
          "text": [
            "Validation Loss: 0.1096\n",
            "Epoch 90/100\n"
          ]
        },
        {
          "output_type": "stream",
          "name": "stderr",
          "text": [
            "100%|██████████| 8/8 [00:00<00:00, 10.58it/s]\n"
          ]
        },
        {
          "output_type": "stream",
          "name": "stdout",
          "text": [
            "Validation Loss: 0.1096\n",
            "Epoch 91/100\n"
          ]
        },
        {
          "output_type": "stream",
          "name": "stderr",
          "text": [
            "100%|██████████| 8/8 [00:00<00:00, 10.53it/s]\n"
          ]
        },
        {
          "output_type": "stream",
          "name": "stdout",
          "text": [
            "Validation Loss: 0.1098\n",
            "Epoch 92/100\n"
          ]
        },
        {
          "output_type": "stream",
          "name": "stderr",
          "text": [
            "100%|██████████| 8/8 [00:01<00:00,  6.32it/s]\n"
          ]
        },
        {
          "output_type": "stream",
          "name": "stdout",
          "text": [
            "Validation Loss: 0.1098\n",
            "Epoch 93/100\n"
          ]
        },
        {
          "output_type": "stream",
          "name": "stderr",
          "text": [
            "100%|██████████| 8/8 [00:00<00:00, 10.30it/s]\n"
          ]
        },
        {
          "output_type": "stream",
          "name": "stdout",
          "text": [
            "Validation Loss: 0.1094\n",
            "Epoch 94/100\n"
          ]
        },
        {
          "output_type": "stream",
          "name": "stderr",
          "text": [
            "100%|██████████| 8/8 [00:00<00:00,  9.64it/s]\n"
          ]
        },
        {
          "output_type": "stream",
          "name": "stdout",
          "text": [
            "Validation Loss: 0.1093\n",
            "Epoch 95/100\n"
          ]
        },
        {
          "output_type": "stream",
          "name": "stderr",
          "text": [
            "100%|██████████| 8/8 [00:01<00:00,  7.24it/s]\n"
          ]
        },
        {
          "output_type": "stream",
          "name": "stdout",
          "text": [
            "Validation Loss: 0.1093\n",
            "Epoch 96/100\n"
          ]
        },
        {
          "output_type": "stream",
          "name": "stderr",
          "text": [
            "100%|██████████| 8/8 [00:01<00:00,  6.31it/s]\n"
          ]
        },
        {
          "output_type": "stream",
          "name": "stdout",
          "text": [
            "Validation Loss: 0.1093\n",
            "Epoch 97/100\n"
          ]
        },
        {
          "output_type": "stream",
          "name": "stderr",
          "text": [
            "100%|██████████| 8/8 [00:00<00:00, 10.49it/s]\n"
          ]
        },
        {
          "output_type": "stream",
          "name": "stdout",
          "text": [
            "Validation Loss: 0.1092\n",
            "Epoch 98/100\n"
          ]
        },
        {
          "output_type": "stream",
          "name": "stderr",
          "text": [
            "100%|██████████| 8/8 [00:01<00:00,  6.32it/s]\n"
          ]
        },
        {
          "output_type": "stream",
          "name": "stdout",
          "text": [
            "Validation Loss: 0.1090\n",
            "Epoch 99/100\n"
          ]
        },
        {
          "output_type": "stream",
          "name": "stderr",
          "text": [
            "100%|██████████| 8/8 [00:00<00:00, 10.25it/s]\n"
          ]
        },
        {
          "output_type": "stream",
          "name": "stdout",
          "text": [
            "Validation Loss: 0.1087\n",
            "Epoch 100/100\n"
          ]
        },
        {
          "output_type": "stream",
          "name": "stderr",
          "text": [
            "100%|██████████| 8/8 [00:01<00:00,  6.32it/s]\n"
          ]
        },
        {
          "output_type": "stream",
          "name": "stdout",
          "text": [
            "Validation Loss: 0.1082\n"
          ]
        }
      ]
    },
    {
      "cell_type": "code",
      "source": [],
      "metadata": {
        "id": "IWe2I29XLJbU"
      },
      "execution_count": null,
      "outputs": []
    },
    {
      "cell_type": "code",
      "source": [],
      "metadata": {
        "id": "gzaWyQPHTjg0"
      },
      "execution_count": null,
      "outputs": []
    },
    {
      "cell_type": "markdown",
      "source": [
        "## IRIS"
      ],
      "metadata": {
        "id": "9JZt-kSALDF0"
      }
    },
    {
      "cell_type": "code",
      "source": [
        "import numpy as np\n",
        "import pandas as pd\n",
        "import tensorflow as tf\n",
        "from tensorflow import keras\n",
        "from sklearn.datasets import load_iris\n",
        "from sklearn.model_selection import train_test_split"
      ],
      "metadata": {
        "id": "zTs8YOU4UvSk"
      },
      "execution_count": null,
      "outputs": []
    },
    {
      "cell_type": "code",
      "source": [
        "data = load_iris()\n",
        "df = pd.DataFrame(data.data, columns=data.feature_names)\n",
        "df['target'] = data.target\n",
        "X = df.iloc[:, :-1]\n",
        "y = df['target']\n",
        "X_train, X_test, y_train, y_test = train_test_split(X, y, test_size=0.2, random_state=42)"
      ],
      "metadata": {
        "id": "LwSWZUPzUvWD"
      },
      "execution_count": null,
      "outputs": []
    },
    {
      "cell_type": "code",
      "source": [
        "model = keras.Sequential([\n",
        "    keras.layers.Input(shape=(4,)),\n",
        "    keras.layers.Dense(64, activation='relu'),\n",
        "    keras.layers.Dropout(0.5),\n",
        "    keras.layers.Dense(32, activation='relu'),\n",
        "    keras.layers.Dropout(0.5),\n",
        "    keras.layers.Dense(3, activation='softmax')\n",
        "])\n",
        "# Compile the model\n",
        "model.compile(optimizer='adam', loss='sparse_categorical_crossentropy', metrics=['accuracy'])\n",
        "model.summary()"
      ],
      "metadata": {
        "colab": {
          "base_uri": "https://localhost:8080/",
          "height": 289
        },
        "id": "ztw-sZtnTjqU",
        "outputId": "91c77d3c-b8fc-498c-faa0-14d310abb0ab"
      },
      "execution_count": null,
      "outputs": [
        {
          "output_type": "display_data",
          "data": {
            "text/plain": [
              "\u001b[1mModel: \"sequential_5\"\u001b[0m\n"
            ],
            "text/html": [
              "<pre style=\"white-space:pre;overflow-x:auto;line-height:normal;font-family:Menlo,'DejaVu Sans Mono',consolas,'Courier New',monospace\"><span style=\"font-weight: bold\">Model: \"sequential_5\"</span>\n",
              "</pre>\n"
            ]
          },
          "metadata": {}
        },
        {
          "output_type": "display_data",
          "data": {
            "text/plain": [
              "┏━━━━━━━━━━━━━━━━━━━━━━━━━━━━━━━━━━━━━━┳━━━━━━━━━━━━━━━━━━━━━━━━━━━━━┳━━━━━━━━━━━━━━━━━┓\n",
              "┃\u001b[1m \u001b[0m\u001b[1mLayer (type)                        \u001b[0m\u001b[1m \u001b[0m┃\u001b[1m \u001b[0m\u001b[1mOutput Shape               \u001b[0m\u001b[1m \u001b[0m┃\u001b[1m \u001b[0m\u001b[1m        Param #\u001b[0m\u001b[1m \u001b[0m┃\n",
              "┡━━━━━━━━━━━━━━━━━━━━━━━━━━━━━━━━━━━━━━╇━━━━━━━━━━━━━━━━━━━━━━━━━━━━━╇━━━━━━━━━━━━━━━━━┩\n",
              "│ dense_17 (\u001b[38;5;33mDense\u001b[0m)                     │ (\u001b[38;5;45mNone\u001b[0m, \u001b[38;5;34m64\u001b[0m)                  │             \u001b[38;5;34m320\u001b[0m │\n",
              "├──────────────────────────────────────┼─────────────────────────────┼─────────────────┤\n",
              "│ dropout_13 (\u001b[38;5;33mDropout\u001b[0m)                 │ (\u001b[38;5;45mNone\u001b[0m, \u001b[38;5;34m64\u001b[0m)                  │               \u001b[38;5;34m0\u001b[0m │\n",
              "├──────────────────────────────────────┼─────────────────────────────┼─────────────────┤\n",
              "│ dense_18 (\u001b[38;5;33mDense\u001b[0m)                     │ (\u001b[38;5;45mNone\u001b[0m, \u001b[38;5;34m32\u001b[0m)                  │           \u001b[38;5;34m2,080\u001b[0m │\n",
              "├──────────────────────────────────────┼─────────────────────────────┼─────────────────┤\n",
              "│ dropout_14 (\u001b[38;5;33mDropout\u001b[0m)                 │ (\u001b[38;5;45mNone\u001b[0m, \u001b[38;5;34m32\u001b[0m)                  │               \u001b[38;5;34m0\u001b[0m │\n",
              "├──────────────────────────────────────┼─────────────────────────────┼─────────────────┤\n",
              "│ dense_19 (\u001b[38;5;33mDense\u001b[0m)                     │ (\u001b[38;5;45mNone\u001b[0m, \u001b[38;5;34m3\u001b[0m)                   │              \u001b[38;5;34m99\u001b[0m │\n",
              "└──────────────────────────────────────┴─────────────────────────────┴─────────────────┘\n"
            ],
            "text/html": [
              "<pre style=\"white-space:pre;overflow-x:auto;line-height:normal;font-family:Menlo,'DejaVu Sans Mono',consolas,'Courier New',monospace\">┏━━━━━━━━━━━━━━━━━━━━━━━━━━━━━━━━━━━━━━┳━━━━━━━━━━━━━━━━━━━━━━━━━━━━━┳━━━━━━━━━━━━━━━━━┓\n",
              "┃<span style=\"font-weight: bold\"> Layer (type)                         </span>┃<span style=\"font-weight: bold\"> Output Shape                </span>┃<span style=\"font-weight: bold\">         Param # </span>┃\n",
              "┡━━━━━━━━━━━━━━━━━━━━━━━━━━━━━━━━━━━━━━╇━━━━━━━━━━━━━━━━━━━━━━━━━━━━━╇━━━━━━━━━━━━━━━━━┩\n",
              "│ dense_17 (<span style=\"color: #0087ff; text-decoration-color: #0087ff\">Dense</span>)                     │ (<span style=\"color: #00d7ff; text-decoration-color: #00d7ff\">None</span>, <span style=\"color: #00af00; text-decoration-color: #00af00\">64</span>)                  │             <span style=\"color: #00af00; text-decoration-color: #00af00\">320</span> │\n",
              "├──────────────────────────────────────┼─────────────────────────────┼─────────────────┤\n",
              "│ dropout_13 (<span style=\"color: #0087ff; text-decoration-color: #0087ff\">Dropout</span>)                 │ (<span style=\"color: #00d7ff; text-decoration-color: #00d7ff\">None</span>, <span style=\"color: #00af00; text-decoration-color: #00af00\">64</span>)                  │               <span style=\"color: #00af00; text-decoration-color: #00af00\">0</span> │\n",
              "├──────────────────────────────────────┼─────────────────────────────┼─────────────────┤\n",
              "│ dense_18 (<span style=\"color: #0087ff; text-decoration-color: #0087ff\">Dense</span>)                     │ (<span style=\"color: #00d7ff; text-decoration-color: #00d7ff\">None</span>, <span style=\"color: #00af00; text-decoration-color: #00af00\">32</span>)                  │           <span style=\"color: #00af00; text-decoration-color: #00af00\">2,080</span> │\n",
              "├──────────────────────────────────────┼─────────────────────────────┼─────────────────┤\n",
              "│ dropout_14 (<span style=\"color: #0087ff; text-decoration-color: #0087ff\">Dropout</span>)                 │ (<span style=\"color: #00d7ff; text-decoration-color: #00d7ff\">None</span>, <span style=\"color: #00af00; text-decoration-color: #00af00\">32</span>)                  │               <span style=\"color: #00af00; text-decoration-color: #00af00\">0</span> │\n",
              "├──────────────────────────────────────┼─────────────────────────────┼─────────────────┤\n",
              "│ dense_19 (<span style=\"color: #0087ff; text-decoration-color: #0087ff\">Dense</span>)                     │ (<span style=\"color: #00d7ff; text-decoration-color: #00d7ff\">None</span>, <span style=\"color: #00af00; text-decoration-color: #00af00\">3</span>)                   │              <span style=\"color: #00af00; text-decoration-color: #00af00\">99</span> │\n",
              "└──────────────────────────────────────┴─────────────────────────────┴─────────────────┘\n",
              "</pre>\n"
            ]
          },
          "metadata": {}
        },
        {
          "output_type": "display_data",
          "data": {
            "text/plain": [
              "\u001b[1m Total params: \u001b[0m\u001b[38;5;34m2,499\u001b[0m (9.76 KB)\n"
            ],
            "text/html": [
              "<pre style=\"white-space:pre;overflow-x:auto;line-height:normal;font-family:Menlo,'DejaVu Sans Mono',consolas,'Courier New',monospace\"><span style=\"font-weight: bold\"> Total params: </span><span style=\"color: #00af00; text-decoration-color: #00af00\">2,499</span> (9.76 KB)\n",
              "</pre>\n"
            ]
          },
          "metadata": {}
        },
        {
          "output_type": "display_data",
          "data": {
            "text/plain": [
              "\u001b[1m Trainable params: \u001b[0m\u001b[38;5;34m2,499\u001b[0m (9.76 KB)\n"
            ],
            "text/html": [
              "<pre style=\"white-space:pre;overflow-x:auto;line-height:normal;font-family:Menlo,'DejaVu Sans Mono',consolas,'Courier New',monospace\"><span style=\"font-weight: bold\"> Trainable params: </span><span style=\"color: #00af00; text-decoration-color: #00af00\">2,499</span> (9.76 KB)\n",
              "</pre>\n"
            ]
          },
          "metadata": {}
        },
        {
          "output_type": "display_data",
          "data": {
            "text/plain": [
              "\u001b[1m Non-trainable params: \u001b[0m\u001b[38;5;34m0\u001b[0m (0.00 B)\n"
            ],
            "text/html": [
              "<pre style=\"white-space:pre;overflow-x:auto;line-height:normal;font-family:Menlo,'DejaVu Sans Mono',consolas,'Courier New',monospace\"><span style=\"font-weight: bold\"> Non-trainable params: </span><span style=\"color: #00af00; text-decoration-color: #00af00\">0</span> (0.00 B)\n",
              "</pre>\n"
            ]
          },
          "metadata": {}
        }
      ]
    },
    {
      "cell_type": "code",
      "source": [],
      "metadata": {
        "id": "BZgxc7kcYM1M"
      },
      "execution_count": null,
      "outputs": []
    },
    {
      "cell_type": "code",
      "source": [
        "history=model.fit(x_train, y_train, epochs=50, verbose=1) # training the model"
      ],
      "metadata": {
        "colab": {
          "base_uri": "https://localhost:8080/",
          "height": 426
        },
        "id": "tThip0EjV_dW",
        "outputId": "c01394c4-125d-4116-b43f-df5d5a0ec99d"
      },
      "execution_count": null,
      "outputs": [
        {
          "output_type": "stream",
          "name": "stdout",
          "text": [
            "Epoch 1/50\n"
          ]
        },
        {
          "output_type": "error",
          "ename": "ValueError",
          "evalue": "Exception encountered when calling Sequential.call().\n\n\u001b[1mInvalid input shape for input Tensor(\"data:0\", shape=(None, 28, 28, 1), dtype=float32). Expected shape (None, 4), but input has incompatible shape (None, 28, 28, 1)\u001b[0m\n\nArguments received by Sequential.call():\n  • inputs=tf.Tensor(shape=(None, 28, 28, 1), dtype=float32)\n  • training=True\n  • mask=None",
          "traceback": [
            "\u001b[0;31m---------------------------------------------------------------------------\u001b[0m",
            "\u001b[0;31mValueError\u001b[0m                                Traceback (most recent call last)",
            "\u001b[0;32m<ipython-input-48-a1767ea14896>\u001b[0m in \u001b[0;36m<cell line: 0>\u001b[0;34m()\u001b[0m\n\u001b[0;32m----> 1\u001b[0;31m \u001b[0mhistory\u001b[0m\u001b[0;34m=\u001b[0m\u001b[0mmodel\u001b[0m\u001b[0;34m.\u001b[0m\u001b[0mfit\u001b[0m\u001b[0;34m(\u001b[0m\u001b[0mx_train\u001b[0m\u001b[0;34m,\u001b[0m \u001b[0my_train\u001b[0m\u001b[0;34m,\u001b[0m \u001b[0mepochs\u001b[0m\u001b[0;34m=\u001b[0m\u001b[0;36m50\u001b[0m\u001b[0;34m,\u001b[0m \u001b[0mverbose\u001b[0m\u001b[0;34m=\u001b[0m\u001b[0;36m1\u001b[0m\u001b[0;34m)\u001b[0m \u001b[0;31m# training the model\u001b[0m\u001b[0;34m\u001b[0m\u001b[0;34m\u001b[0m\u001b[0m\n\u001b[0m",
            "\u001b[0;32m/usr/local/lib/python3.11/dist-packages/keras/src/utils/traceback_utils.py\u001b[0m in \u001b[0;36merror_handler\u001b[0;34m(*args, **kwargs)\u001b[0m\n\u001b[1;32m    120\u001b[0m             \u001b[0;31m# To get the full stack trace, call:\u001b[0m\u001b[0;34m\u001b[0m\u001b[0;34m\u001b[0m\u001b[0m\n\u001b[1;32m    121\u001b[0m             \u001b[0;31m# `keras.config.disable_traceback_filtering()`\u001b[0m\u001b[0;34m\u001b[0m\u001b[0;34m\u001b[0m\u001b[0m\n\u001b[0;32m--> 122\u001b[0;31m             \u001b[0;32mraise\u001b[0m \u001b[0me\u001b[0m\u001b[0;34m.\u001b[0m\u001b[0mwith_traceback\u001b[0m\u001b[0;34m(\u001b[0m\u001b[0mfiltered_tb\u001b[0m\u001b[0;34m)\u001b[0m \u001b[0;32mfrom\u001b[0m \u001b[0;32mNone\u001b[0m\u001b[0;34m\u001b[0m\u001b[0;34m\u001b[0m\u001b[0m\n\u001b[0m\u001b[1;32m    123\u001b[0m         \u001b[0;32mfinally\u001b[0m\u001b[0;34m:\u001b[0m\u001b[0;34m\u001b[0m\u001b[0;34m\u001b[0m\u001b[0m\n\u001b[1;32m    124\u001b[0m             \u001b[0;32mdel\u001b[0m \u001b[0mfiltered_tb\u001b[0m\u001b[0;34m\u001b[0m\u001b[0;34m\u001b[0m\u001b[0m\n",
            "\u001b[0;32m/usr/local/lib/python3.11/dist-packages/keras/src/models/functional.py\u001b[0m in \u001b[0;36m_adjust_input_rank\u001b[0;34m(self, flat_inputs)\u001b[0m\n\u001b[1;32m    270\u001b[0m                     \u001b[0madjusted\u001b[0m\u001b[0;34m.\u001b[0m\u001b[0mappend\u001b[0m\u001b[0;34m(\u001b[0m\u001b[0mops\u001b[0m\u001b[0;34m.\u001b[0m\u001b[0mexpand_dims\u001b[0m\u001b[0;34m(\u001b[0m\u001b[0mx\u001b[0m\u001b[0;34m,\u001b[0m \u001b[0maxis\u001b[0m\u001b[0;34m=\u001b[0m\u001b[0;34m-\u001b[0m\u001b[0;36m1\u001b[0m\u001b[0;34m)\u001b[0m\u001b[0;34m)\u001b[0m\u001b[0;34m\u001b[0m\u001b[0;34m\u001b[0m\u001b[0m\n\u001b[1;32m    271\u001b[0m                     \u001b[0;32mcontinue\u001b[0m\u001b[0;34m\u001b[0m\u001b[0;34m\u001b[0m\u001b[0m\n\u001b[0;32m--> 272\u001b[0;31m             raise ValueError(\n\u001b[0m\u001b[1;32m    273\u001b[0m                 \u001b[0;34mf\"Invalid input shape for input {x}. Expected shape \"\u001b[0m\u001b[0;34m\u001b[0m\u001b[0;34m\u001b[0m\u001b[0m\n\u001b[1;32m    274\u001b[0m                 \u001b[0;34mf\"{ref_shape}, but input has incompatible shape {x.shape}\"\u001b[0m\u001b[0;34m\u001b[0m\u001b[0;34m\u001b[0m\u001b[0m\n",
            "\u001b[0;31mValueError\u001b[0m: Exception encountered when calling Sequential.call().\n\n\u001b[1mInvalid input shape for input Tensor(\"data:0\", shape=(None, 28, 28, 1), dtype=float32). Expected shape (None, 4), but input has incompatible shape (None, 28, 28, 1)\u001b[0m\n\nArguments received by Sequential.call():\n  • inputs=tf.Tensor(shape=(None, 28, 28, 1), dtype=float32)\n  • training=True\n  • mask=None"
          ]
        }
      ]
    },
    {
      "cell_type": "code",
      "source": [
        "standard_accuracy = model.evaluate(X_test, y_test, verbose=0)[1]\n",
        "standard_accuracy"
      ],
      "metadata": {
        "colab": {
          "base_uri": "https://localhost:8080/"
        },
        "id": "8-pov42zTjtK",
        "outputId": "e7f2eeba-d80e-454c-d76e-92f51cc2f889"
      },
      "execution_count": null,
      "outputs": [
        {
          "output_type": "execute_result",
          "data": {
            "text/plain": [
              "0.7666666507720947"
            ]
          },
          "metadata": {},
          "execution_count": 36
        }
      ]
    },
    {
      "cell_type": "code",
      "source": [
        "n_samples = 100\n",
        "\n",
        "def monte_carlo_dropout_predict(model, X, n_samples):\n",
        "    predictions = []\n",
        "    for _ in range(n_samples):\n",
        "        predictions.append(model(X, training=True))\n",
        "\n",
        "    predictions = np.array(predictions)\n",
        "    mean_predictions = predictions.mean(axis=0)\n",
        "    uncertainty = predictions.var(axis=0)\n",
        "\n",
        "    return mean_predictions, uncertainty\n",
        "X_test=np.array(X_test) # to convert tuple to array format"
      ],
      "metadata": {
        "id": "0i8aT0ojWHEd"
      },
      "execution_count": null,
      "outputs": []
    },
    {
      "cell_type": "code",
      "source": [
        "mean_predictions, uncertainty=monte_carlo_dropout_predict(model, X_test, n_samples)"
      ],
      "metadata": {
        "id": "wAqYpI5fWbLK"
      },
      "execution_count": null,
      "outputs": []
    },
    {
      "cell_type": "code",
      "source": [
        "accuracy = np.mean(np.argmax(mean_predictions, axis=1) == y_test)"
      ],
      "metadata": {
        "id": "f9WtSy4YWRrl"
      },
      "execution_count": null,
      "outputs": []
    },
    {
      "cell_type": "code",
      "source": [
        "accuracy"
      ],
      "metadata": {
        "colab": {
          "base_uri": "https://localhost:8080/"
        },
        "id": "L2Eh8yiXWVOl",
        "outputId": "67af1132-70c5-423b-a909-d65d9db98e8b"
      },
      "execution_count": null,
      "outputs": [
        {
          "output_type": "execute_result",
          "data": {
            "text/plain": [
              "0.8"
            ]
          },
          "metadata": {},
          "execution_count": 40
        }
      ]
    },
    {
      "cell_type": "code",
      "source": [
        "uncertainty"
      ],
      "metadata": {
        "colab": {
          "base_uri": "https://localhost:8080/"
        },
        "id": "A36aa3JtXIXT",
        "outputId": "c6610767-f06a-48a2-99e8-e51773377c63"
      },
      "execution_count": null,
      "outputs": [
        {
          "output_type": "execute_result",
          "data": {
            "text/plain": [
              "array([[0.01256036, 0.0211904 , 0.02486813],\n",
              "       [0.01982287, 0.006479  , 0.00465274],\n",
              "       [0.00803616, 0.02797852, 0.03748434],\n",
              "       [0.0115509 , 0.0162691 , 0.01923421],\n",
              "       [0.01770678, 0.01708498, 0.02648469],\n",
              "       [0.02766041, 0.00909447, 0.00590315],\n",
              "       [0.03175582, 0.01506781, 0.01814372],\n",
              "       [0.00618896, 0.02247646, 0.02809564],\n",
              "       [0.00861719, 0.01801635, 0.0253264 ],\n",
              "       [0.01516487, 0.01121263, 0.01644252],\n",
              "       [0.01435097, 0.02441454, 0.03701932],\n",
              "       [0.02822869, 0.0090152 , 0.00691187],\n",
              "       [0.02169069, 0.00617264, 0.00605496],\n",
              "       [0.01893829, 0.00628672, 0.00505077],\n",
              "       [0.01552615, 0.00678247, 0.00242658],\n",
              "       [0.01074901, 0.02192191, 0.02467765],\n",
              "       [0.00988137, 0.02009008, 0.02981569],\n",
              "       [0.01507684, 0.01486316, 0.01856508],\n",
              "       [0.01192586, 0.01703876, 0.02619789],\n",
              "       [0.0068378 , 0.02365155, 0.03518568],\n",
              "       [0.02589635, 0.00961604, 0.00522706],\n",
              "       [0.01405026, 0.01658683, 0.02482741],\n",
              "       [0.02858765, 0.00937197, 0.00741151],\n",
              "       [0.00809509, 0.02949256, 0.03617131],\n",
              "       [0.01562214, 0.02193972, 0.03277542],\n",
              "       [0.01700284, 0.02489206, 0.03540271],\n",
              "       [0.01279758, 0.02815703, 0.04567943],\n",
              "       [0.00866564, 0.02733837, 0.03325159],\n",
              "       [0.02041691, 0.00764495, 0.00396205],\n",
              "       [0.02969849, 0.01187427, 0.0058273 ]], dtype=float32)"
            ]
          },
          "metadata": {},
          "execution_count": 41
        }
      ]
    },
    {
      "cell_type": "code",
      "source": [],
      "metadata": {
        "id": "xyvPj8gJWrDO"
      },
      "execution_count": null,
      "outputs": []
    }
  ]
}